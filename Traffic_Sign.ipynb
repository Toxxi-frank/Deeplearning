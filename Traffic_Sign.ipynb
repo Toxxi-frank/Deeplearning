{
  "nbformat": 4,
  "nbformat_minor": 0,
  "metadata": {
    "colab": {
      "name": "Traffic_Sign.ipynb",
      "provenance": [],
      "collapsed_sections": [],
      "authorship_tag": "ABX9TyN2EIUhhggHPkPGH7vrdWyZ",
      "include_colab_link": true
    },
    "kernelspec": {
      "name": "python3",
      "display_name": "Python 3"
    },
    "language_info": {
      "name": "python"
    },
    "accelerator": "GPU"
  },
  "cells": [
    {
      "cell_type": "markdown",
      "metadata": {
        "id": "view-in-github",
        "colab_type": "text"
      },
      "source": [
        "<a href=\"https://colab.research.google.com/github/Toxxi-frank/Deeplearning/blob/main/Traffic_Sign.ipynb\" target=\"_parent\"><img src=\"https://colab.research.google.com/assets/colab-badge.svg\" alt=\"Open In Colab\"/></a>"
      ]
    },
    {
      "cell_type": "code",
      "metadata": {
        "id": "LYRpmiVRRRPM"
      },
      "source": [
        "import tensorflow as tf"
      ],
      "execution_count": null,
      "outputs": []
    },
    {
      "cell_type": "code",
      "metadata": {
        "id": "l0dl9ht0RhyU",
        "colab": {
          "base_uri": "https://localhost:8080/",
          "height": 35
        },
        "outputId": "ab947dad-676d-4c63-ac43-efdc419858b5"
      },
      "source": [
        "tf.__version__"
      ],
      "execution_count": null,
      "outputs": [
        {
          "output_type": "execute_result",
          "data": {
            "application/vnd.google.colaboratory.intrinsic+json": {
              "type": "string"
            },
            "text/plain": [
              "'2.4.1'"
            ]
          },
          "metadata": {
            "tags": []
          },
          "execution_count": 2
        }
      ]
    },
    {
      "cell_type": "code",
      "metadata": {
        "id": "2zKSFxqYRj7c"
      },
      "source": [
        "!pip install tensorflow-gpu==2.0.rc\n",
        "# do version đã đáp ứng nên không cần download nữa"
      ],
      "execution_count": null,
      "outputs": []
    },
    {
      "cell_type": "code",
      "metadata": {
        "id": "2v88gOsiRuPz"
      },
      "source": [
        "import tensorflow as tf"
      ],
      "execution_count": null,
      "outputs": []
    },
    {
      "cell_type": "code",
      "metadata": {
        "id": "hG4qBfcIRwTc"
      },
      "source": [
        "tf.__version__"
      ],
      "execution_count": null,
      "outputs": []
    },
    {
      "cell_type": "code",
      "metadata": {
        "id": "wt9MFeY7RyRj",
        "colab": {
          "base_uri": "https://localhost:8080/"
        },
        "outputId": "f9934d3b-643a-4ec8-d82e-5b49d1770fbd"
      },
      "source": [
        "from google.colab import drive\n",
        "drive.mount(\"/content/drive\")"
      ],
      "execution_count": null,
      "outputs": [
        {
          "output_type": "stream",
          "text": [
            "Mounted at /content/drive\n"
          ],
          "name": "stdout"
        }
      ]
    },
    {
      "cell_type": "code",
      "metadata": {
        "id": "ZfIypNLPR9fk",
        "colab": {
          "base_uri": "https://localhost:8080/",
          "height": 35
        },
        "outputId": "efa9f5e1-6905-41aa-992f-570fc5ffedb8"
      },
      "source": [
        "pwd\n",
        "# địa chỉ hiện tại"
      ],
      "execution_count": null,
      "outputs": [
        {
          "output_type": "execute_result",
          "data": {
            "application/vnd.google.colaboratory.intrinsic+json": {
              "type": "string"
            },
            "text/plain": [
              "'/content'"
            ]
          },
          "metadata": {
            "tags": []
          },
          "execution_count": 4
        }
      ]
    },
    {
      "cell_type": "code",
      "metadata": {
        "id": "hm2-c8b8R-F8",
        "colab": {
          "base_uri": "https://localhost:8080/"
        },
        "outputId": "fa2e1a44-890e-497c-c418-a821a36de031"
      },
      "source": [
        "cd /content/drive/My Drive/"
      ],
      "execution_count": null,
      "outputs": [
        {
          "output_type": "stream",
          "text": [
            "/content/drive/My Drive\n"
          ],
          "name": "stdout"
        }
      ]
    },
    {
      "cell_type": "code",
      "metadata": {
        "id": "wIyyJNkFSJrL",
        "colab": {
          "base_uri": "https://localhost:8080/",
          "height": 35
        },
        "outputId": "c51a1d8f-81c8-48c2-f96f-c25cfc64853c"
      },
      "source": [
        "pwd\n",
        "# địa chỉ hiện tại của thư mục"
      ],
      "execution_count": null,
      "outputs": [
        {
          "output_type": "execute_result",
          "data": {
            "application/vnd.google.colaboratory.intrinsic+json": {
              "type": "string"
            },
            "text/plain": [
              "'/content/drive/My Drive'"
            ]
          },
          "metadata": {
            "tags": []
          },
          "execution_count": 6
        }
      ]
    },
    {
      "cell_type": "code",
      "metadata": {
        "id": "71Q_RZmwSKzS",
        "colab": {
          "base_uri": "https://localhost:8080/"
        },
        "outputId": "27645e07-2c7e-4429-cfe0-e20b47bf2205"
      },
      "source": [
        "ls\n",
        "# list các folder"
      ],
      "execution_count": null,
      "outputs": [
        {
          "output_type": "stream",
          "text": [
            "\u001b[0m\u001b[01;34m'Bài nói '\u001b[0m/          \u001b[01;34mDog_Cat\u001b[0m/         MNIST_training.ipynb\n",
            "\u001b[01;34m'Colab Notebooks'\u001b[0m/   Dog_Cat.ipynb    Python_rat_la_co_ban_-_Vo_Duy_Tuan.pdf\n",
            " Diabetes.ipynb     \u001b[01;34m'file đề'\u001b[0m/        Sicher_B1_KB.pdf\n",
            " DL1.ipynb           howtothink.pdf   Traffic_Sign.ipynb\n"
          ],
          "name": "stdout"
        }
      ]
    },
    {
      "cell_type": "code",
      "metadata": {
        "id": "EpR-VOzUSMDa",
        "colab": {
          "base_uri": "https://localhost:8080/"
        },
        "outputId": "cb5c5eea-eb28-4de0-9367-786ca0cfe417"
      },
      "source": [
        "!pip install wget\n",
        "# thư viện dùng để download"
      ],
      "execution_count": null,
      "outputs": [
        {
          "output_type": "stream",
          "text": [
            "Collecting wget\n",
            "  Downloading https://files.pythonhosted.org/packages/47/6a/62e288da7bcda82b935ff0c6cfe542970f04e29c756b0e147251b2fb251f/wget-3.2.zip\n",
            "Building wheels for collected packages: wget\n",
            "  Building wheel for wget (setup.py) ... \u001b[?25l\u001b[?25hdone\n",
            "  Created wheel for wget: filename=wget-3.2-cp37-none-any.whl size=9681 sha256=60da660077a2f153310b4dae7b9942801e1e375fe74a23f0b2675ef0f10bfe12\n",
            "  Stored in directory: /root/.cache/pip/wheels/40/15/30/7d8f7cea2902b4db79e3fea550d7d7b85ecb27ef992b618f3f\n",
            "Successfully built wget\n",
            "Installing collected packages: wget\n",
            "Successfully installed wget-3.2\n"
          ],
          "name": "stdout"
        }
      ]
    },
    {
      "cell_type": "code",
      "metadata": {
        "id": "qGJ-lIjJSPXL"
      },
      "source": [
        "import wget\n",
        "# import thư viện dùng để download"
      ],
      "execution_count": null,
      "outputs": []
    },
    {
      "cell_type": "code",
      "metadata": {
        "id": "bU3vqqwdCt3i"
      },
      "source": [
        "link = 'https://d17h27t6h515a5.cloudfront.net/topher/2017/February/5898cd6f_traffic-signs-data/traffic-signs-data.zip'"
      ],
      "execution_count": null,
      "outputs": []
    },
    {
      "cell_type": "code",
      "metadata": {
        "id": "IOZuyezJSRKa",
        "colab": {
          "base_uri": "https://localhost:8080/",
          "height": 35
        },
        "outputId": "8c2fa80f-31fa-4b0c-cd9e-7c67ffd592f8"
      },
      "source": [
        "wget.download(link)"
      ],
      "execution_count": null,
      "outputs": [
        {
          "output_type": "execute_result",
          "data": {
            "application/vnd.google.colaboratory.intrinsic+json": {
              "type": "string"
            },
            "text/plain": [
              "'traffic-signs-data.zip'"
            ]
          },
          "metadata": {
            "tags": []
          },
          "execution_count": 13
        }
      ]
    },
    {
      "cell_type": "code",
      "metadata": {
        "id": "Xg1unZA8SVey"
      },
      "source": [
        "data = \"./\""
      ],
      "execution_count": null,
      "outputs": []
    },
    {
      "cell_type": "code",
      "metadata": {
        "id": "jL5i6rgwSZD6"
      },
      "source": [
        "!unzip -q traffic-signs-data.zip -d $data"
      ],
      "execution_count": null,
      "outputs": []
    },
    {
      "cell_type": "code",
      "metadata": {
        "id": "653zKDzISkBb"
      },
      "source": [
        "train_link = data + \"train.p\"\n",
        "valid_link = data + \"valid.p\"\n",
        "test_link = data + \"test.p\""
      ],
      "execution_count": null,
      "outputs": []
    },
    {
      "cell_type": "code",
      "metadata": {
        "id": "1r38_aF1SwU6"
      },
      "source": [
        "import pickle\n",
        "# thư viện đọc file .p"
      ],
      "execution_count": null,
      "outputs": []
    },
    {
      "cell_type": "code",
      "metadata": {
        "id": "N0zH0LrCS3Cj"
      },
      "source": [
        "with open(train_link, mode = 'rb') as f:\n",
        "  train = pickle.load(f)\n",
        "# open, đọc các file"
      ],
      "execution_count": null,
      "outputs": []
    },
    {
      "cell_type": "code",
      "metadata": {
        "id": "AwPTbRINTCIb"
      },
      "source": [
        "with open(valid_link, mode = 'rb') as f:\n",
        "  valid = pickle.load(f)\n",
        "# open, đọc các file"
      ],
      "execution_count": null,
      "outputs": []
    },
    {
      "cell_type": "code",
      "metadata": {
        "id": "wfQ4foiCTMHb"
      },
      "source": [
        "with open(test_link, mode = 'rb') as f:\n",
        "  test = pickle.load(f)\n",
        "# open, đọc các file"
      ],
      "execution_count": null,
      "outputs": []
    },
    {
      "cell_type": "code",
      "metadata": {
        "id": "tKZQep9cTTWC",
        "colab": {
          "base_uri": "https://localhost:8080/"
        },
        "outputId": "9a2ad8fc-7771-4f25-c391-33a4813ca487"
      },
      "source": [
        "train"
      ],
      "execution_count": null,
      "outputs": [
        {
          "output_type": "execute_result",
          "data": {
            "text/plain": [
              "{'coords': array([[  6,   5,  21,  20],\n",
              "        [  6,   6,  22,  22],\n",
              "        [  5,   6,  22,  23],\n",
              "        ...,\n",
              "        [ 17,  15, 178, 155],\n",
              "        [ 17,  15, 183, 160],\n",
              "        [ 20,  18, 211, 184]], dtype=uint8),\n",
              " 'features': array([[[[ 28,  25,  24],\n",
              "          [ 27,  24,  23],\n",
              "          [ 27,  24,  22],\n",
              "          ...,\n",
              "          [ 32,  28,  24],\n",
              "          [ 31,  27,  25],\n",
              "          [ 31,  27,  26]],\n",
              " \n",
              "         [[ 29,  26,  25],\n",
              "          [ 27,  25,  23],\n",
              "          [ 27,  25,  23],\n",
              "          ...,\n",
              "          [ 32,  28,  24],\n",
              "          [ 31,  27,  24],\n",
              "          [ 30,  27,  25]],\n",
              " \n",
              "         [[ 28,  26,  26],\n",
              "          [ 27,  25,  23],\n",
              "          [ 26,  25,  23],\n",
              "          ...,\n",
              "          [ 32,  28,  24],\n",
              "          [ 31,  27,  24],\n",
              "          [ 30,  27,  25]],\n",
              " \n",
              "         ...,\n",
              " \n",
              "         [[ 27,  24,  23],\n",
              "          [ 28,  25,  24],\n",
              "          [ 30,  25,  24],\n",
              "          ...,\n",
              "          [ 27,  24,  23],\n",
              "          [ 28,  24,  22],\n",
              "          [ 29,  25,  22]],\n",
              " \n",
              "         [[ 28,  23,  23],\n",
              "          [ 29,  24,  24],\n",
              "          [ 31,  25,  24],\n",
              "          ...,\n",
              "          [ 27,  24,  23],\n",
              "          [ 28,  24,  22],\n",
              "          [ 28,  24,  21]],\n",
              " \n",
              "         [[ 29,  23,  23],\n",
              "          [ 30,  24,  24],\n",
              "          [ 32,  24,  23],\n",
              "          ...,\n",
              "          [ 27,  24,  22],\n",
              "          [ 27,  23,  21],\n",
              "          [ 26,  22,  20]]],\n",
              " \n",
              " \n",
              "        [[[ 28,  24,  24],\n",
              "          [ 26,  23,  23],\n",
              "          [ 27,  24,  24],\n",
              "          ...,\n",
              "          [ 31,  28,  26],\n",
              "          [ 31,  28,  27],\n",
              "          [ 32,  28,  27]],\n",
              " \n",
              "         [[ 27,  24,  24],\n",
              "          [ 27,  24,  24],\n",
              "          [ 28,  25,  24],\n",
              "          ...,\n",
              "          [ 31,  27,  25],\n",
              "          [ 31,  27,  26],\n",
              "          [ 33,  29,  27]],\n",
              " \n",
              "         [[ 26,  24,  24],\n",
              "          [ 26,  24,  24],\n",
              "          [ 27,  24,  23],\n",
              "          ...,\n",
              "          [ 31,  26,  25],\n",
              "          [ 31,  27,  26],\n",
              "          [ 33,  29,  27]],\n",
              " \n",
              "         ...,\n",
              " \n",
              "         [[ 28,  25,  23],\n",
              "          [ 30,  27,  24],\n",
              "          [ 30,  27,  24],\n",
              "          ...,\n",
              "          [ 27,  24,  22],\n",
              "          [ 27,  24,  22],\n",
              "          [ 28,  24,  22]],\n",
              " \n",
              "         [[ 27,  24,  22],\n",
              "          [ 29,  26,  23],\n",
              "          [ 31,  26,  24],\n",
              "          ...,\n",
              "          [ 26,  23,  21],\n",
              "          [ 27,  24,  22],\n",
              "          [ 28,  25,  23]],\n",
              " \n",
              "         [[ 28,  24,  23],\n",
              "          [ 28,  24,  22],\n",
              "          [ 29,  24,  22],\n",
              "          ...,\n",
              "          [ 27,  23,  22],\n",
              "          [ 27,  24,  23],\n",
              "          [ 29,  26,  25]]],\n",
              " \n",
              " \n",
              "        [[[ 29,  25,  25],\n",
              "          [ 29,  26,  26],\n",
              "          [ 30,  27,  27],\n",
              "          ...,\n",
              "          [ 31,  27,  24],\n",
              "          [ 31,  28,  25],\n",
              "          [ 32,  29,  27]],\n",
              " \n",
              "         [[ 27,  24,  24],\n",
              "          [ 27,  25,  25],\n",
              "          [ 28,  26,  26],\n",
              "          ...,\n",
              "          [ 31,  27,  23],\n",
              "          [ 32,  28,  25],\n",
              "          [ 33,  30,  27]],\n",
              " \n",
              "         [[ 27,  24,  24],\n",
              "          [ 28,  26,  26],\n",
              "          [ 29,  27,  27],\n",
              "          ...,\n",
              "          [ 32,  28,  24],\n",
              "          [ 32,  28,  24],\n",
              "          [ 33,  29,  26]],\n",
              " \n",
              "         ...,\n",
              " \n",
              "         [[ 28,  26,  22],\n",
              "          [ 29,  26,  21],\n",
              "          [ 31,  26,  22],\n",
              "          ...,\n",
              "          [ 29,  24,  21],\n",
              "          [ 28,  23,  20],\n",
              "          [ 28,  23,  22]],\n",
              " \n",
              "         [[ 27,  26,  23],\n",
              "          [ 28,  25,  21],\n",
              "          [ 30,  25,  22],\n",
              "          ...,\n",
              "          [ 28,  23,  21],\n",
              "          [ 27,  22,  20],\n",
              "          [ 28,  24,  22]],\n",
              " \n",
              "         [[ 29,  26,  23],\n",
              "          [ 28,  24,  21],\n",
              "          [ 29,  24,  21],\n",
              "          ...,\n",
              "          [ 29,  25,  23],\n",
              "          [ 28,  24,  22],\n",
              "          [ 30,  26,  24]]],\n",
              " \n",
              " \n",
              "        ...,\n",
              " \n",
              " \n",
              "        [[[ 51,  67,  86],\n",
              "          [ 55,  59,  71],\n",
              "          [ 75,  81,  92],\n",
              "          ...,\n",
              "          [250, 248, 243],\n",
              "          [207, 212, 233],\n",
              "          [121, 116, 140]],\n",
              " \n",
              "         [[ 35,  42,  49],\n",
              "          [ 48,  47,  51],\n",
              "          [ 91,  96, 113],\n",
              "          ...,\n",
              "          [220, 224, 226],\n",
              "          [169, 177, 187],\n",
              "          [ 84,  87, 100]],\n",
              " \n",
              "         [[ 27,  26,  29],\n",
              "          [ 41,  38,  39],\n",
              "          [ 55,  64,  78],\n",
              "          ...,\n",
              "          [122, 143, 160],\n",
              "          [ 97, 104, 129],\n",
              "          [ 59,  59,  56]],\n",
              " \n",
              "         ...,\n",
              " \n",
              "         [[ 24,  23,  27],\n",
              "          [ 21,  20,  27],\n",
              "          [ 20,  19,  22],\n",
              "          ...,\n",
              "          [ 76,  79,  83],\n",
              "          [ 54,  64,  77],\n",
              "          [ 45,  51,  65]],\n",
              " \n",
              "         [[ 31,  31,  33],\n",
              "          [ 22,  23,  29],\n",
              "          [ 20,  18,  21],\n",
              "          ...,\n",
              "          [ 66,  67,  84],\n",
              "          [ 56,  65,  74],\n",
              "          [ 45,  55,  73]],\n",
              " \n",
              "         [[ 28,  28,  30],\n",
              "          [ 22,  21,  25],\n",
              "          [ 19,  18,  19],\n",
              "          ...,\n",
              "          [ 67,  63,  76],\n",
              "          [ 39,  45,  55],\n",
              "          [ 32,  37,  47]]],\n",
              " \n",
              " \n",
              "        [[[ 82,  78,  96],\n",
              "          [120, 126, 148],\n",
              "          [112, 125, 146],\n",
              "          ...,\n",
              "          [185, 182, 177],\n",
              "          [204, 210, 215],\n",
              "          [132, 114, 121]],\n",
              " \n",
              "         [[ 74,  77,  93],\n",
              "          [171, 174, 185],\n",
              "          [137, 164, 184],\n",
              "          ...,\n",
              "          [180, 181, 187],\n",
              "          [198, 200, 213],\n",
              "          [ 79,  85,  85]],\n",
              " \n",
              "         [[ 54,  50,  56],\n",
              "          [100, 106, 118],\n",
              "          [117, 132, 158],\n",
              "          ...,\n",
              "          [157, 153, 160],\n",
              "          [176, 183, 199],\n",
              "          [ 88,  80,  82]],\n",
              " \n",
              "         ...,\n",
              " \n",
              "         [[ 22,  21,  22],\n",
              "          [ 20,  19,  19],\n",
              "          [ 18,  16,  19],\n",
              "          ...,\n",
              "          [ 50,  50,  60],\n",
              "          [ 37,  43,  52],\n",
              "          [ 30,  41,  59]],\n",
              " \n",
              "         [[ 18,  16,  18],\n",
              "          [ 19,  17,  18],\n",
              "          [ 19,  18,  21],\n",
              "          ...,\n",
              "          [ 36,  44,  60],\n",
              "          [ 33,  36,  48],\n",
              "          [ 36,  43,  61]],\n",
              " \n",
              "         [[ 18,  17,  20],\n",
              "          [ 21,  20,  23],\n",
              "          [ 24,  22,  25],\n",
              "          ...,\n",
              "          [ 32,  34,  41],\n",
              "          [ 45,  42,  48],\n",
              "          [ 41,  43,  52]]],\n",
              " \n",
              " \n",
              "        [[[ 69,  79,  96],\n",
              "          [ 24,  26,  28],\n",
              "          [ 40,  42,  45],\n",
              "          ...,\n",
              "          [225, 234, 237],\n",
              "          [151, 161, 166],\n",
              "          [164, 162, 169]],\n",
              " \n",
              "         [[ 99, 110, 125],\n",
              "          [ 36,  41,  47],\n",
              "          [ 63,  56,  62],\n",
              "          ...,\n",
              "          [197, 216, 224],\n",
              "          [154, 163, 169],\n",
              "          [164, 163, 159]],\n",
              " \n",
              "         [[104, 107, 113],\n",
              "          [ 34,  37,  40],\n",
              "          [ 72,  70,  77],\n",
              "          ...,\n",
              "          [223, 237, 235],\n",
              "          [181, 192, 198],\n",
              "          [166, 167, 159]],\n",
              " \n",
              "         ...,\n",
              " \n",
              "         [[ 21,  20,  23],\n",
              "          [ 23,  24,  30],\n",
              "          [ 19,  20,  24],\n",
              "          ...,\n",
              "          [ 45,  47,  54],\n",
              "          [ 58,  62,  70],\n",
              "          [ 58,  70,  82]],\n",
              " \n",
              "         [[ 18,  17,  21],\n",
              "          [ 19,  19,  24],\n",
              "          [ 18,  18,  23],\n",
              "          ...,\n",
              "          [ 36,  36,  40],\n",
              "          [ 58,  59,  70],\n",
              "          [ 61,  69,  81]],\n",
              " \n",
              "         [[ 17,  16,  19],\n",
              "          [ 16,  15,  18],\n",
              "          [ 16,  15,  18],\n",
              "          ...,\n",
              "          [ 40,  40,  44],\n",
              "          [ 57,  62,  73],\n",
              "          [ 57,  68,  80]]]], dtype=uint8),\n",
              " 'labels': array([41, 41, 41, ..., 25, 25, 25], dtype=uint8),\n",
              " 'sizes': array([[ 26,  25],\n",
              "        [ 27,  27],\n",
              "        [ 27,  28],\n",
              "        ...,\n",
              "        [194, 169],\n",
              "        [201, 175],\n",
              "        [230, 201]], dtype=uint8)}"
            ]
          },
          "metadata": {
            "tags": []
          },
          "execution_count": 22
        }
      ]
    },
    {
      "cell_type": "code",
      "metadata": {
        "id": "JKWPp7cxTVir"
      },
      "source": [
        "trainX = train['features']\n",
        "trainY = train['labels']"
      ],
      "execution_count": null,
      "outputs": []
    },
    {
      "cell_type": "code",
      "metadata": {
        "id": "75hazUHzTeTi",
        "colab": {
          "base_uri": "https://localhost:8080/"
        },
        "outputId": "1774cf31-88c3-41c7-f614-2443e6512450"
      },
      "source": [
        "trainX.shape\n",
        "# số ảnh, size ảnh và channel"
      ],
      "execution_count": null,
      "outputs": [
        {
          "output_type": "execute_result",
          "data": {
            "text/plain": [
              "(34799, 32, 32, 3)"
            ]
          },
          "metadata": {
            "tags": []
          },
          "execution_count": 25
        }
      ]
    },
    {
      "cell_type": "code",
      "metadata": {
        "id": "mD6eY3NaTia6",
        "colab": {
          "base_uri": "https://localhost:8080/"
        },
        "outputId": "ca454be4-efd5-48ff-fff9-39a20bfd5d35"
      },
      "source": [
        "trainX[0].shape\n",
        "# size, channel (number of)"
      ],
      "execution_count": null,
      "outputs": [
        {
          "output_type": "execute_result",
          "data": {
            "text/plain": [
              "(32, 32, 3)"
            ]
          },
          "metadata": {
            "tags": []
          },
          "execution_count": 26
        }
      ]
    },
    {
      "cell_type": "code",
      "metadata": {
        "id": "PF5tHC0wTldz"
      },
      "source": [
        "import matplotlib.pyplot as plt\n",
        "# thư viện để hiện ra ảnh"
      ],
      "execution_count": null,
      "outputs": []
    },
    {
      "cell_type": "code",
      "metadata": {
        "id": "yz0k6n9kTt_C",
        "colab": {
          "base_uri": "https://localhost:8080/",
          "height": 283
        },
        "outputId": "bb1af265-66fb-4794-8ab2-6934c92f4679"
      },
      "source": [
        "plt.imshow(trainX[0])"
      ],
      "execution_count": null,
      "outputs": [
        {
          "output_type": "execute_result",
          "data": {
            "text/plain": [
              "<matplotlib.image.AxesImage at 0x7f708319c510>"
            ]
          },
          "metadata": {
            "tags": []
          },
          "execution_count": 28
        },
        {
          "output_type": "display_data",
          "data": {
            "image/png": "[encoded data removed]",
            "text/plain": [
              "<Figure size 432x288 with 1 Axes>"
            ]
          },
          "metadata": {
            "tags": [],
            "needs_background": "light"
          }
        }
      ]
    },
    {
      "cell_type": "code",
      "metadata": {
        "id": "K9aVi6M7Tw8b",
        "colab": {
          "base_uri": "https://localhost:8080/",
          "height": 283
        },
        "outputId": "0237950c-fb34-4311-e95a-560497a713f4"
      },
      "source": [
        "plt.imshow(trainX[1])"
      ],
      "execution_count": null,
      "outputs": [
        {
          "output_type": "execute_result",
          "data": {
            "text/plain": [
              "<matplotlib.image.AxesImage at 0x7f7082cf6ad0>"
            ]
          },
          "metadata": {
            "tags": []
          },
          "execution_count": 29
        },
        {
          "output_type": "display_data",
          "data": {
            "image/png": "[encoded data removed]",
            "text/plain": [
              "<Figure size 432x288 with 1 Axes>"
            ]
          },
          "metadata": {
            "tags": [],
            "needs_background": "light"
          }
        }
      ]
    },
    {
      "cell_type": "code",
      "metadata": {
        "id": "uXj04A_PTz47",
        "colab": {
          "base_uri": "https://localhost:8080/",
          "height": 283
        },
        "outputId": "d26f6cfd-d57a-4d2d-abf1-89d63c5a76c0"
      },
      "source": [
        "plt.imshow(trainX[10])"
      ],
      "execution_count": null,
      "outputs": [
        {
          "output_type": "execute_result",
          "data": {
            "text/plain": [
              "<matplotlib.image.AxesImage at 0x7f708ad86210>"
            ]
          },
          "metadata": {
            "tags": []
          },
          "execution_count": 31
        },
        {
          "output_type": "display_data",
          "data": {
            "image/png": "[encoded data removed]",
            "text/plain": [
              "<Figure size 432x288 with 1 Axes>"
            ]
          },
          "metadata": {
            "tags": [],
            "needs_background": "light"
          }
        }
      ]
    },
    {
      "cell_type": "code",
      "metadata": {
        "id": "Y7RYzDBnT4Zq",
        "colab": {
          "base_uri": "https://localhost:8080/",
          "height": 283
        },
        "outputId": "f09a7239-27de-4b8e-a320-bc4ba6c6cc25"
      },
      "source": [
        "plt.imshow(trainX[100])"
      ],
      "execution_count": null,
      "outputs": [
        {
          "output_type": "execute_result",
          "data": {
            "text/plain": [
              "<matplotlib.image.AxesImage at 0x7f7082c3f990>"
            ]
          },
          "metadata": {
            "tags": []
          },
          "execution_count": 33
        },
        {
          "output_type": "display_data",
          "data": {
            "image/png": "[encoded data removed]",
            "text/plain": [
              "<Figure size 432x288 with 1 Axes>"
            ]
          },
          "metadata": {
            "tags": [],
            "needs_background": "light"
          }
        }
      ]
    },
    {
      "cell_type": "code",
      "metadata": {
        "id": "UrjTdQcyT6k6",
        "colab": {
          "base_uri": "https://localhost:8080/"
        },
        "outputId": "5fe22e0e-aa18-446a-d774-e3ddaf25361d"
      },
      "source": [
        "trainY[100]\n",
        "# nhãn của bức ảnh or name of labels"
      ],
      "execution_count": null,
      "outputs": [
        {
          "output_type": "execute_result",
          "data": {
            "text/plain": [
              "41"
            ]
          },
          "metadata": {
            "tags": []
          },
          "execution_count": 34
        }
      ]
    },
    {
      "cell_type": "code",
      "metadata": {
        "id": "d5mexABzT__T"
      },
      "source": [
        "classNames = {0: 'Speed limit (20km/h)',\n",
        " 1: 'Speed limit (30km/h)',\n",
        " 2: 'Speed limit (50km/h)',\n",
        " 3: 'Speed limit (60km/h)',\n",
        " 4: 'Speed limit (70km/h)',\n",
        " 5: 'Speed limit (80km/h)',\n",
        " 6: 'End of speed limit (80km/h)',\n",
        " 7: 'Speed limit (100km/h)',\n",
        " 8: 'Speed limit (120km/h)',\n",
        " 9: 'No passing',\n",
        " 10: 'No passing for vehicles over 3.5 metric tons',\n",
        " 11: 'Right-of-way at the next intersection',\n",
        " 12: 'Priority road',\n",
        " 13: 'Yield',\n",
        " 14: 'Stop',\n",
        " 15: 'No vehicles',\n",
        " 16: 'Vehicles over 3.5 metric tons prohibited',\n",
        " 17: 'No entry',\n",
        " 18: 'General caution',\n",
        " 19: 'Dangerous curve to the left',\n",
        " 20: 'Dangerous curve to the right',\n",
        " 21: 'Double curve',\n",
        " 22: 'Bumpy road',\n",
        " 23: 'Slippery road',\n",
        " 24: 'Road narrows on the right',\n",
        " 25: 'Road work',\n",
        " 26: 'Traffic signals',\n",
        " 27: 'Pedestrians',\n",
        " 28: 'Children crossing',\n",
        " 29: 'Bicycles crossing',\n",
        " 30: 'Beware of ice/snow',\n",
        " 31: 'Wild animals crossing',\n",
        " 32: 'End of all speed and passing limits',\n",
        " 33: 'Turn right ahead',\n",
        " 34: 'Turn left ahead',\n",
        " 35: 'Ahead only',\n",
        " 36: 'Go straight or right',\n",
        " 37: 'Go straight or left',\n",
        " 38: 'Keep right',\n",
        " 39: 'Keep left',\n",
        " 40: 'Roundabout mandatory',\n",
        " 41: 'End of no passing',\n",
        " 42: 'End of no passing by vehicles over 3.5 metric tons'}\n"
      ],
      "execution_count": null,
      "outputs": []
    },
    {
      "cell_type": "code",
      "metadata": {
        "id": "UoY3Is9lUFCb",
        "colab": {
          "base_uri": "https://localhost:8080/",
          "height": 35
        },
        "outputId": "35fc490a-290e-40ca-e430-3b26af3aba97"
      },
      "source": [
        "classNames[trainY[100]]"
      ],
      "execution_count": null,
      "outputs": [
        {
          "output_type": "execute_result",
          "data": {
            "application/vnd.google.colaboratory.intrinsic+json": {
              "type": "string"
            },
            "text/plain": [
              "'End of no passing'"
            ]
          },
          "metadata": {
            "tags": []
          },
          "execution_count": 36
        }
      ]
    },
    {
      "cell_type": "code",
      "metadata": {
        "id": "SI0zQ3GhUMRK"
      },
      "source": [
        "from sklearn.utils import shuffle\n",
        "# thư viện để xáo trộn các ảnh\n",
        "# do các ảnh gần nhau giống nhau làm mất tính tổng quát"
      ],
      "execution_count": null,
      "outputs": []
    },
    {
      "cell_type": "code",
      "metadata": {
        "id": "h7s8aUsHUTJi"
      },
      "source": [
        "trainX, trainY = shuffle(trainX, trainY)\n",
        "# xáo trộn các ảnh, data"
      ],
      "execution_count": null,
      "outputs": []
    },
    {
      "cell_type": "code",
      "metadata": {
        "id": "kDv_iXjsUY7a",
        "colab": {
          "base_uri": "https://localhost:8080/",
          "height": 283
        },
        "outputId": "7582b460-4854-448f-cf9d-87cdd39c1559"
      },
      "source": [
        "plt.imshow(trainX[0])\n",
        "# thấy ảnh đã được xáo trộn, khác so với ảnh ở trên"
      ],
      "execution_count": null,
      "outputs": [
        {
          "output_type": "execute_result",
          "data": {
            "text/plain": [
              "<matplotlib.image.AxesImage at 0x7f707be41c10>"
            ]
          },
          "metadata": {
            "tags": []
          },
          "execution_count": 39
        },
        {
          "output_type": "display_data",
          "data": {
            "image/png": "[encoded data removed]",
            "text/plain": [
              "<Figure size 432x288 with 1 Axes>"
            ]
          },
          "metadata": {
            "tags": [],
            "needs_background": "light"
          }
        }
      ]
    },
    {
      "cell_type": "code",
      "metadata": {
        "id": "PxhvapzFUdsK",
        "colab": {
          "base_uri": "https://localhost:8080/",
          "height": 35
        },
        "outputId": "215ae498-41f1-4ad5-9c2a-6bec71d4cf91"
      },
      "source": [
        "classNames[trainY[0]]\n",
        "# label of photo "
      ],
      "execution_count": null,
      "outputs": [
        {
          "output_type": "execute_result",
          "data": {
            "application/vnd.google.colaboratory.intrinsic+json": {
              "type": "string"
            },
            "text/plain": [
              "'Right-of-way at the next intersection'"
            ]
          },
          "metadata": {
            "tags": []
          },
          "execution_count": 40
        }
      ]
    },
    {
      "cell_type": "code",
      "metadata": {
        "id": "16CqipLrUhwz"
      },
      "source": [
        "validX = valid['features']\n",
        "validY = valid['labels']\n",
        "# lấy ra bộ data validation"
      ],
      "execution_count": null,
      "outputs": []
    },
    {
      "cell_type": "code",
      "metadata": {
        "id": "ZnWUjmhoUqAj"
      },
      "source": [
        "testX = test['features']\n",
        "testY = test['labels']\n",
        "# lấy ra bộ data test"
      ],
      "execution_count": null,
      "outputs": []
    },
    {
      "cell_type": "code",
      "metadata": {
        "id": "4QLEAqZWUzAM"
      },
      "source": [
        "trainX = trainX.astype(\"float\")/255.0\n",
        "validX = validX.astype(\"float\")/255.0\n",
        "testX = testX.astype(\"float\")/255.0\n",
        "# chuyển xuống các giá trị còn thuộc [0,1]\n",
        "# để sự ảnh hưởng giữa các data point tương đồng nhau hơn\n",
        "# nếu so 1, 100 thì sự khác nhau quá lớn"
      ],
      "execution_count": null,
      "outputs": []
    },
    {
      "cell_type": "code",
      "metadata": {
        "id": "r1a0o-1iVBN9",
        "colab": {
          "base_uri": "https://localhost:8080/"
        },
        "outputId": "0f45db26-819b-4ab7-d047-a6799dd6e2b8"
      },
      "source": [
        "trainX[0]"
      ],
      "execution_count": null,
      "outputs": [
        {
          "output_type": "execute_result",
          "data": {
            "text/plain": [
              "array([[[0.14901961, 0.16078431, 0.18431373],\n",
              "        [0.19215686, 0.25098039, 0.2745098 ],\n",
              "        [0.50196078, 0.53333333, 0.52941176],\n",
              "        ...,\n",
              "        [0.11372549, 0.10980392, 0.11372549],\n",
              "        [0.12941176, 0.12156863, 0.12941176],\n",
              "        [0.1372549 , 0.13333333, 0.14117647]],\n",
              "\n",
              "       [[0.15686275, 0.16078431, 0.18431373],\n",
              "        [0.19607843, 0.24313725, 0.27843137],\n",
              "        [0.55686275, 0.58039216, 0.6       ],\n",
              "        ...,\n",
              "        [0.1254902 , 0.11372549, 0.12156863],\n",
              "        [0.1372549 , 0.1254902 , 0.1372549 ],\n",
              "        [0.14509804, 0.1372549 , 0.14509804]],\n",
              "\n",
              "       [[0.16078431, 0.15686275, 0.17254902],\n",
              "        [0.18823529, 0.23529412, 0.2745098 ],\n",
              "        [0.57647059, 0.6       , 0.65882353],\n",
              "        ...,\n",
              "        [0.14117647, 0.12156863, 0.1254902 ],\n",
              "        [0.14117647, 0.1254902 , 0.12941176],\n",
              "        [0.1372549 , 0.12156863, 0.1254902 ]],\n",
              "\n",
              "       ...,\n",
              "\n",
              "       [[0.14901961, 0.12156863, 0.08235294],\n",
              "        [0.09803922, 0.09019608, 0.09411765],\n",
              "        [0.07843137, 0.0745098 , 0.08627451],\n",
              "        ...,\n",
              "        [0.09019608, 0.09019608, 0.10196078],\n",
              "        [0.09803922, 0.09803922, 0.10196078],\n",
              "        [0.10196078, 0.09803922, 0.10588235]],\n",
              "\n",
              "       [[0.16470588, 0.1254902 , 0.09411765],\n",
              "        [0.11372549, 0.09803922, 0.10588235],\n",
              "        [0.07843137, 0.0745098 , 0.08627451],\n",
              "        ...,\n",
              "        [0.09019608, 0.09019608, 0.10588235],\n",
              "        [0.09411765, 0.09411765, 0.10196078],\n",
              "        [0.09803922, 0.09411765, 0.10588235]],\n",
              "\n",
              "       [[0.17254902, 0.13333333, 0.10588235],\n",
              "        [0.1254902 , 0.10980392, 0.12156863],\n",
              "        [0.09411765, 0.09019608, 0.10196078],\n",
              "        ...,\n",
              "        [0.09411765, 0.09019608, 0.10588235],\n",
              "        [0.09411765, 0.09019608, 0.10588235],\n",
              "        [0.09411765, 0.09019608, 0.10588235]]])"
            ]
          },
          "metadata": {
            "tags": []
          },
          "execution_count": 45
        }
      ]
    },
    {
      "cell_type": "code",
      "metadata": {
        "id": "Ai4XLL0qVDVn"
      },
      "source": [
        "from sklearn.preprocessing import LabelBinarizer \n",
        "# chuẩn hóa  thành one-hot"
      ],
      "execution_count": null,
      "outputs": []
    },
    {
      "cell_type": "code",
      "metadata": {
        "id": "UfyNUSCcVPZK"
      },
      "source": [
        "lb = LabelBinarizer()"
      ],
      "execution_count": null,
      "outputs": []
    },
    {
      "cell_type": "code",
      "metadata": {
        "id": "IAOt9-8RVTZX"
      },
      "source": [
        "trainY = lb.fit_transform(trainY)\n",
        "validY = lb.fit_transform(validY)\n",
        "# chuẩn hóa"
      ],
      "execution_count": null,
      "outputs": []
    },
    {
      "cell_type": "code",
      "metadata": {
        "id": "ZNNJGaFwVgg6",
        "colab": {
          "base_uri": "https://localhost:8080/"
        },
        "outputId": "da5cf176-8213-4ac9-d26b-4d5f6f6f2a05"
      },
      "source": [
        "valid['labels']"
      ],
      "execution_count": null,
      "outputs": [
        {
          "output_type": "execute_result",
          "data": {
            "text/plain": [
              "array([41, 41, 41, ..., 25, 25, 25], dtype=uint8)"
            ]
          },
          "metadata": {
            "tags": []
          },
          "execution_count": 50
        }
      ]
    },
    {
      "cell_type": "code",
      "metadata": {
        "colab": {
          "base_uri": "https://localhost:8080/"
        },
        "id": "FQwXycFOHm_F",
        "outputId": "748a1014-a516-4a26-a347-b8bc591450ef"
      },
      "source": [
        "valid['labels'][10]"
      ],
      "execution_count": null,
      "outputs": [
        {
          "output_type": "execute_result",
          "data": {
            "text/plain": [
              "41"
            ]
          },
          "metadata": {
            "tags": []
          },
          "execution_count": 54
        }
      ]
    },
    {
      "cell_type": "code",
      "metadata": {
        "id": "WHhe1aDrVl06",
        "colab": {
          "base_uri": "https://localhost:8080/"
        },
        "outputId": "56a63a85-224b-4399-dbd7-5874cdec4556"
      },
      "source": [
        "validY[0]\n",
        "# kiểm tra xem được chưa? \n",
        "# như đã thấy là số 41"
      ],
      "execution_count": null,
      "outputs": [
        {
          "output_type": "execute_result",
          "data": {
            "text/plain": [
              "array([0, 0, 0, 0, 0, 0, 0, 0, 0, 0, 0, 0, 0, 0, 0, 0, 0, 0, 0, 0, 0, 0,\n",
              "       0, 0, 0, 0, 0, 0, 0, 0, 0, 0, 0, 0, 0, 0, 0, 0, 0, 0, 0, 1, 0])"
            ]
          },
          "metadata": {
            "tags": []
          },
          "execution_count": 51
        }
      ]
    },
    {
      "cell_type": "code",
      "metadata": {
        "id": "iWEC-GTRVofy"
      },
      "source": [
        "from keras.models import Model, Sequential\n",
        "from keras.layers import BatchNormalization, AveragePooling2D, MaxPooling2D, Conv2D, Activation\n",
        "from keras.layers import Dropout, Flatten, Input, Dense, concatenate\n",
        "from keras.preprocessing.image import ImageDataGenerator\n",
        "from keras.optimizers import SGD\n",
        "# import các thư viện để xây dựng mạng"
      ],
      "execution_count": null,
      "outputs": []
    },
    {
      "cell_type": "code",
      "metadata": {
        "id": "kESFZNkHWhCc"
      },
      "source": [
        "model = Sequential()"
      ],
      "execution_count": null,
      "outputs": []
    },
    {
      "cell_type": "code",
      "metadata": {
        "id": "XiQOODOzWj_1"
      },
      "source": [
        "width =32 \n",
        "height = 32\n",
        "classes = 43\n",
        "# định nghĩa size và số labels"
      ],
      "execution_count": null,
      "outputs": []
    },
    {
      "cell_type": "code",
      "metadata": {
        "id": "fzT9N0j3Wsie"
      },
      "source": [
        "shape = (width, height, 3)"
      ],
      "execution_count": null,
      "outputs": []
    },
    {
      "cell_type": "markdown",
      "metadata": {
        "id": "fXq0tLxaIKWn"
      },
      "source": [
        "Áp dụng VGG16-model\n",
        "Giảm kích thước và tăng số channel"
      ]
    },
    {
      "cell_type": "code",
      "metadata": {
        "id": "VgH5Dl9zW0Ii"
      },
      "source": [
        "model.add(Conv2D(32, (3,3), padding = 'same', input_shape = shape))\n",
        "# padding = same dùng để giữ lại kích cỡ ảnh\n",
        "# bắt đầu bước feature map"
      ],
      "execution_count": null,
      "outputs": []
    },
    {
      "cell_type": "code",
      "metadata": {
        "id": "8MU9-2GyW-ti"
      },
      "source": [
        "model.add(Activation('relu'))"
      ],
      "execution_count": null,
      "outputs": []
    },
    {
      "cell_type": "code",
      "metadata": {
        "id": "cDLiKIbEXDfy"
      },
      "source": [
        "model.add(BatchNormalization())\n",
        "# chuẩn hóa data"
      ],
      "execution_count": null,
      "outputs": []
    },
    {
      "cell_type": "code",
      "metadata": {
        "id": "YtadqJccXKQN"
      },
      "source": [
        "model.add(Conv2D(32,(3,3), padding = 'same'))"
      ],
      "execution_count": null,
      "outputs": []
    },
    {
      "cell_type": "code",
      "metadata": {
        "id": "RTP2WHqOXSzC"
      },
      "source": [
        "model.add(Activation('relu'))\n",
        "# hàm này không dùng để học"
      ],
      "execution_count": null,
      "outputs": []
    },
    {
      "cell_type": "code",
      "metadata": {
        "id": "-L_dierIXXDj"
      },
      "source": [
        "model.add(BatchNormalization())"
      ],
      "execution_count": null,
      "outputs": []
    },
    {
      "cell_type": "code",
      "metadata": {
        "id": "1dewj8jqXaH9"
      },
      "source": [
        "model.add(MaxPooling2D(pool_size = (2,2)))"
      ],
      "execution_count": null,
      "outputs": []
    },
    {
      "cell_type": "code",
      "metadata": {
        "id": "KSpY7V4BXhIK"
      },
      "source": [
        "model.add(Conv2D(64, (3,3), padding = 'same'))"
      ],
      "execution_count": null,
      "outputs": []
    },
    {
      "cell_type": "code",
      "metadata": {
        "id": "9jruAblvXo1P"
      },
      "source": [
        "model.add(Activation('relu'))"
      ],
      "execution_count": null,
      "outputs": []
    },
    {
      "cell_type": "code",
      "metadata": {
        "id": "6ZroAOdcXskE"
      },
      "source": [
        "model.add(BatchNormalization())"
      ],
      "execution_count": null,
      "outputs": []
    },
    {
      "cell_type": "code",
      "metadata": {
        "id": "I7j2BH1wXxfK"
      },
      "source": [
        "model.add(MaxPooling2D(pool_size = (2,2)))"
      ],
      "execution_count": null,
      "outputs": []
    },
    {
      "cell_type": "code",
      "metadata": {
        "id": "x8Wfr_wcX1S7"
      },
      "source": [
        "model.add(Flatten())\n",
        "# duỗi ảnh ra thành còn 1 chiều do đầu vào phải là vector\n",
        "# bắt đầu bước phân loại\n"
      ],
      "execution_count": null,
      "outputs": []
    },
    {
      "cell_type": "code",
      "metadata": {
        "id": "2A0rScm6X4mC"
      },
      "source": [
        "model.add(Dense(512))"
      ],
      "execution_count": null,
      "outputs": []
    },
    {
      "cell_type": "code",
      "metadata": {
        "id": "FklVZrZMX8p0"
      },
      "source": [
        "model.add(Activation('relu'))\n",
        "# do dùng FC nên yêu cầu hàm activation sau hàm dense"
      ],
      "execution_count": null,
      "outputs": []
    },
    {
      "cell_type": "code",
      "metadata": {
        "id": "QXa9BKKkYHx_"
      },
      "source": [
        "model.add(BatchNormalization())\n",
        "# chuẩn hóa lại data"
      ],
      "execution_count": null,
      "outputs": []
    },
    {
      "cell_type": "code",
      "metadata": {
        "id": "C-Ua00PuYMXr"
      },
      "source": [
        "model.add(Dense(classes))\n",
        "# dense thành số các labels"
      ],
      "execution_count": null,
      "outputs": []
    },
    {
      "cell_type": "code",
      "metadata": {
        "id": "uwnaReNDYPb6"
      },
      "source": [
        "model.add(Activation('softmax'))\n",
        "# xác suất để ra được lớp nào lớn nhất"
      ],
      "execution_count": null,
      "outputs": []
    },
    {
      "cell_type": "code",
      "metadata": {
        "id": "0btawuLAYT7R",
        "colab": {
          "base_uri": "https://localhost:8080/"
        },
        "outputId": "8fbb885d-04e7-44ca-a29f-50b3be9e3838"
      },
      "source": [
        "model.summary()"
      ],
      "execution_count": null,
      "outputs": [
        {
          "output_type": "stream",
          "text": [
            "Model: \"sequential\"\n",
            "_________________________________________________________________\n",
            "Layer (type)                 Output Shape              Param #   \n",
            "=================================================================\n",
            "conv2d (Conv2D)              (None, 32, 32, 32)        896       \n",
            "_________________________________________________________________\n",
            "activation (Activation)      (None, 32, 32, 32)        0         \n",
            "_________________________________________________________________\n",
            "batch_normalization (BatchNo (None, 32, 32, 32)        128       \n",
            "_________________________________________________________________\n",
            "conv2d_1 (Conv2D)            (None, 32, 32, 32)        9248      \n",
            "_________________________________________________________________\n",
            "activation_1 (Activation)    (None, 32, 32, 32)        0         \n",
            "_________________________________________________________________\n",
            "batch_normalization_1 (Batch (None, 32, 32, 32)        128       \n",
            "_________________________________________________________________\n",
            "max_pooling2d (MaxPooling2D) (None, 16, 16, 32)        0         \n",
            "_________________________________________________________________\n",
            "conv2d_2 (Conv2D)            (None, 16, 16, 64)        18496     \n",
            "_________________________________________________________________\n",
            "activation_2 (Activation)    (None, 16, 16, 64)        0         \n",
            "_________________________________________________________________\n",
            "batch_normalization_2 (Batch (None, 16, 16, 64)        256       \n",
            "_________________________________________________________________\n",
            "max_pooling2d_1 (MaxPooling2 (None, 8, 8, 64)          0         \n",
            "_________________________________________________________________\n",
            "flatten (Flatten)            (None, 4096)              0         \n",
            "_________________________________________________________________\n",
            "dense (Dense)                (None, 512)               2097664   \n",
            "_________________________________________________________________\n",
            "activation_3 (Activation)    (None, 512)               0         \n",
            "_________________________________________________________________\n",
            "batch_normalization_3 (Batch (None, 512)               2048      \n",
            "_________________________________________________________________\n",
            "dense_1 (Dense)              (None, 43)                22059     \n",
            "_________________________________________________________________\n",
            "activation_4 (Activation)    (None, 43)                0         \n",
            "=================================================================\n",
            "Total params: 2,150,923\n",
            "Trainable params: 2,149,643\n",
            "Non-trainable params: 1,280\n",
            "_________________________________________________________________\n"
          ],
          "name": "stdout"
        }
      ]
    },
    {
      "cell_type": "code",
      "metadata": {
        "id": "QijFwpwUYX-V"
      },
      "source": [
        "aug = ImageDataGenerator(rotation_range=0.18, zoom_range=0.15, width_shift_range=0.2, height_shift_range=0.2, horizontal_flip=True)\n",
        "# tạo thêm các ảnh mới bằng cách thay đổi độ, phóng to-nhỏ, đi lên-xuống, sang trái-phải, cho lật ảnh"
      ],
      "execution_count": null,
      "outputs": []
    },
    {
      "cell_type": "code",
      "metadata": {
        "id": "VTQWJOb2YknD"
      },
      "source": [
        "learning_rate = 0.01\n",
        "# assign learning rate"
      ],
      "execution_count": null,
      "outputs": []
    },
    {
      "cell_type": "code",
      "metadata": {
        "id": "D6J_lcNVYomQ"
      },
      "source": [
        "epochs = 10\n",
        "batch_size = 64\n",
        "#epoch là\n",
        "#batch_size là "
      ],
      "execution_count": null,
      "outputs": []
    },
    {
      "cell_type": "code",
      "metadata": {
        "id": "URwi1Sg1Ys_4"
      },
      "source": [
        "opt = SGD(learning_rate=learning_rate, momentum=0.9)\n",
        "#dùng stochastic gradient descent - thuận toán tối ưu hóa loss-func\n",
        "#pass learning_rate, momentum "
      ],
      "execution_count": null,
      "outputs": []
    },
    {
      "cell_type": "code",
      "metadata": {
        "id": "2nm0C5vDYuwC"
      },
      "source": [
        "model.compile(optimizer=opt, loss=\"categorical_crossentropy\", metrics=[\"accuracy\"])"
      ],
      "execution_count": null,
      "outputs": []
    },
    {
      "cell_type": "code",
      "metadata": {
        "id": "uFuuWCClYw4z",
        "colab": {
          "base_uri": "https://localhost:8080/"
        },
        "outputId": "541a5b4d-1514-492e-f0f9-a008ea42d632"
      },
      "source": [
        "print(\"Start training\")\n",
        "H = model.fit_generator(aug.flow(trainX, trainY, batch_size=batch_size), validation_data=(validX, validY), steps_per_epoch=trainX.shape[0]//batch_size, epochs=epochs, verbose=1)"
      ],
      "execution_count": null,
      "outputs": [
        {
          "output_type": "stream",
          "text": [
            "Start training\n"
          ],
          "name": "stdout"
        },
        {
          "output_type": "stream",
          "text": [
            "/usr/local/lib/python3.7/dist-packages/tensorflow/python/keras/engine/training.py:1844: UserWarning: `Model.fit_generator` is deprecated and will be removed in a future version. Please use `Model.fit`, which supports generators.\n",
            "  warnings.warn('`Model.fit_generator` is deprecated and '\n"
          ],
          "name": "stderr"
        },
        {
          "output_type": "stream",
          "text": [
            "Epoch 1/10\n",
            "543/543 [==============================] - 60s 54ms/step - loss: 2.6158 - accuracy: 0.2965 - val_loss: 2.4012 - val_accuracy: 0.3683\n",
            "Epoch 2/10\n",
            "543/543 [==============================] - 29s 54ms/step - loss: 1.0142 - accuracy: 0.6706 - val_loss: 1.4245 - val_accuracy: 0.5930\n",
            "Epoch 3/10\n",
            "543/543 [==============================] - 29s 53ms/step - loss: 0.5277 - accuracy: 0.8277 - val_loss: 1.5889 - val_accuracy: 0.5721\n",
            "Epoch 4/10\n",
            "543/543 [==============================] - 28s 52ms/step - loss: 0.3387 - accuracy: 0.8870 - val_loss: 1.0597 - val_accuracy: 0.7102\n",
            "Epoch 5/10\n",
            "543/543 [==============================] - 28s 51ms/step - loss: 0.2451 - accuracy: 0.9206 - val_loss: 0.8860 - val_accuracy: 0.7771\n",
            "Epoch 6/10\n",
            "543/543 [==============================] - 28s 52ms/step - loss: 0.1815 - accuracy: 0.9419 - val_loss: 0.9542 - val_accuracy: 0.7719\n",
            "Epoch 7/10\n",
            "543/543 [==============================] - 28s 52ms/step - loss: 0.1427 - accuracy: 0.9534 - val_loss: 0.9606 - val_accuracy: 0.7993\n",
            "Epoch 8/10\n",
            "543/543 [==============================] - 27s 50ms/step - loss: 0.1267 - accuracy: 0.9590 - val_loss: 0.7243 - val_accuracy: 0.8315\n",
            "Epoch 9/10\n",
            "543/543 [==============================] - 28s 51ms/step - loss: 0.1011 - accuracy: 0.9667 - val_loss: 0.7404 - val_accuracy: 0.8379\n",
            "Epoch 10/10\n",
            "543/543 [==============================] - 28s 51ms/step - loss: 0.0976 - accuracy: 0.9688 - val_loss: 0.8763 - val_accuracy: 0.8016\n"
          ],
          "name": "stdout"
        }
      ]
    },
    {
      "cell_type": "code",
      "metadata": {
        "id": "MfWr07fGLgrL"
      },
      "source": [
        "model.save(\"traffic_model.h5\")\n",
        "#save model đã train\n",
        "#h5 là định dạng của keras"
      ],
      "execution_count": null,
      "outputs": []
    },
    {
      "cell_type": "code",
      "metadata": {
        "id": "5hYnmjRXYzWi"
      },
      "source": [
        "saved_model = tf.keras.models.load_model(\"traffic_model.h5\")\n",
        "# lấy model đã train ra\n",
        "# khi ta đã train nhưng chưa dùng luôn thì để lấy ra ta cần load lại"
      ],
      "execution_count": null,
      "outputs": []
    },
    {
      "cell_type": "code",
      "metadata": {
        "id": "Npuwyqm2Y87a"
      },
      "source": [
        "result = saved_model.predict(testX[100:101])\n",
        "# try with different values"
      ],
      "execution_count": null,
      "outputs": []
    },
    {
      "cell_type": "code",
      "metadata": {
        "id": "-swbSyIDMZVu"
      },
      "source": [
        "result1 = saved_model.predict(testX[8:9])"
      ],
      "execution_count": null,
      "outputs": []
    },
    {
      "cell_type": "code",
      "metadata": {
        "id": "RODf7IAFOf1u"
      },
      "source": [
        "result2 = saved_model.predict(testX[30:31])"
      ],
      "execution_count": null,
      "outputs": []
    },
    {
      "cell_type": "code",
      "metadata": {
        "id": "b_qz-jWjOgMX"
      },
      "source": [
        "result3 = saved_model.predict(testX[80:81])"
      ],
      "execution_count": null,
      "outputs": []
    },
    {
      "cell_type": "code",
      "metadata": {
        "id": "VZjhlnbVZDHD",
        "colab": {
          "base_uri": "https://localhost:8080/"
        },
        "outputId": "ce09418b-dc17-40c1-d12c-e68a585616b4"
      },
      "source": [
        "result\n",
        "# đầu ra của softmax, các xác suất dự đoán ra"
      ],
      "execution_count": null,
      "outputs": [
        {
          "output_type": "execute_result",
          "data": {
            "text/plain": [
              "array([[1.46155255e-02, 9.85280573e-01, 5.03872652e-05, 3.38933290e-08,\n",
              "        1.72989003e-05, 1.41710120e-06, 5.54403679e-09, 8.69546657e-09,\n",
              "        2.17832257e-05, 5.48861978e-09, 1.63075065e-09, 1.28500615e-08,\n",
              "        7.07611250e-08, 3.91255881e-08, 4.40551560e-08, 7.56844976e-10,\n",
              "        6.92161173e-09, 8.92410451e-11, 2.41425482e-07, 7.80719120e-07,\n",
              "        5.45486898e-07, 1.33363045e-07, 1.98826076e-08, 1.06940263e-06,\n",
              "        3.54797010e-07, 1.26600185e-07, 3.20342792e-08, 7.29045325e-07,\n",
              "        8.63169873e-07, 4.92897501e-09, 1.44346965e-10, 3.70553757e-08,\n",
              "        6.22784100e-08, 1.89838730e-07, 1.69780290e-09, 2.65060464e-07,\n",
              "        1.13001903e-07, 6.38685208e-07, 2.16398280e-06, 4.05252763e-07,\n",
              "        3.54839153e-06, 3.67047022e-07, 2.44446916e-08]], dtype=float32)"
            ]
          },
          "metadata": {
            "tags": []
          },
          "execution_count": 92
        }
      ]
    },
    {
      "cell_type": "code",
      "metadata": {
        "colab": {
          "base_uri": "https://localhost:8080/"
        },
        "id": "espb8KdZPLh9",
        "outputId": "b7fcb91e-c970-4c4d-fd84-81f6a2ce50ab"
      },
      "source": [
        "result1"
      ],
      "execution_count": null,
      "outputs": [
        {
          "output_type": "execute_result",
          "data": {
            "text/plain": [
              "array([[4.65736419e-01, 3.54581231e-09, 2.90668177e-05, 4.00126732e-09,\n",
              "        7.34397609e-09, 4.26473256e-13, 1.02382138e-08, 6.71323830e-11,\n",
              "        3.92052334e-06, 2.72158474e-07, 9.54596818e-11, 6.37019753e-07,\n",
              "        9.94141828e-06, 8.03284138e-07, 6.83431551e-07, 7.95428653e-12,\n",
              "        7.98890909e-08, 2.70987948e-06, 3.52189766e-09, 3.98656214e-03,\n",
              "        1.56666283e-04, 1.18974414e-04, 1.06423246e-02, 1.42680213e-03,\n",
              "        3.65734013e-04, 3.26571494e-01, 1.31134730e-04, 4.39697271e-03,\n",
              "        2.30028206e-07, 1.36083458e-03, 2.56931045e-08, 1.85009971e-01,\n",
              "        2.53649208e-08, 1.05101128e-08, 4.01422201e-10, 1.10626083e-07,\n",
              "        9.59072155e-10, 1.21104520e-07, 2.09844256e-06, 7.47672118e-07,\n",
              "        4.42096898e-05, 2.90729417e-07, 1.46670132e-07]], dtype=float32)"
            ]
          },
          "metadata": {
            "tags": []
          },
          "execution_count": 105
        }
      ]
    },
    {
      "cell_type": "code",
      "metadata": {
        "colab": {
          "base_uri": "https://localhost:8080/"
        },
        "id": "B200-DQnPL25",
        "outputId": "6fa6cdf9-07d8-4ad7-e52f-0370ae809131"
      },
      "source": [
        "result2"
      ],
      "execution_count": null,
      "outputs": [
        {
          "output_type": "execute_result",
          "data": {
            "text/plain": [
              "array([[4.61893791e-07, 5.39373793e-02, 1.62608342e-06, 5.85182670e-06,\n",
              "        3.94456516e-12, 9.36795235e-01, 4.22161001e-10, 2.73291251e-10,\n",
              "        2.96144390e-06, 3.21401084e-09, 4.69941100e-12, 3.01988821e-13,\n",
              "        1.96896588e-09, 7.56589860e-11, 3.92569488e-09, 8.10375239e-11,\n",
              "        1.12775933e-09, 4.08038325e-11, 7.14279551e-08, 1.34791787e-11,\n",
              "        2.72919298e-10, 1.33813467e-08, 2.90495343e-08, 3.24478719e-07,\n",
              "        7.40087316e-08, 1.29369770e-09, 9.03537566e-14, 7.58291094e-07,\n",
              "        1.53315450e-05, 9.23914183e-03, 5.99667052e-11, 5.55166082e-07,\n",
              "        4.94775644e-11, 7.08743553e-09, 1.24651097e-11, 1.17906716e-07,\n",
              "        1.18907018e-08, 2.59374229e-08, 2.02378025e-08, 1.12598706e-11,\n",
              "        3.38826993e-08, 8.57465195e-13, 1.51889569e-12]], dtype=float32)"
            ]
          },
          "metadata": {
            "tags": []
          },
          "execution_count": 106
        }
      ]
    },
    {
      "cell_type": "code",
      "metadata": {
        "colab": {
          "base_uri": "https://localhost:8080/"
        },
        "id": "G4fcFf-BPMgR",
        "outputId": "4864b43d-2c11-429d-dc6d-80c71f830877"
      },
      "source": [
        "result3 "
      ],
      "execution_count": null,
      "outputs": [
        {
          "output_type": "execute_result",
          "data": {
            "text/plain": [
              "array([[2.8805905e-08, 2.0036996e-10, 1.2636007e-08, 6.8394540e-10,\n",
              "        1.5514000e-12, 1.0318811e-09, 8.5067908e-10, 6.0621979e-09,\n",
              "        2.9512252e-08, 5.4717488e-09, 7.6728829e-10, 1.3674429e-05,\n",
              "        5.4431720e-10, 1.9492756e-12, 2.9354012e-11, 4.0618165e-13,\n",
              "        1.4054498e-06, 1.6427517e-08, 7.1462142e-10, 4.2892992e-05,\n",
              "        2.8408345e-05, 9.9964976e-01, 6.8705532e-08, 5.7475278e-05,\n",
              "        4.6084542e-10, 5.5525072e-07, 1.7135521e-07, 3.3113696e-07,\n",
              "        1.9520628e-06, 1.5770251e-08, 2.4784852e-06, 2.0050726e-04,\n",
              "        8.0943852e-10, 3.4774628e-10, 3.3289489e-11, 4.5650938e-11,\n",
              "        2.6231035e-11, 3.3688369e-08, 3.3015723e-09, 1.9192503e-07,\n",
              "        3.8542272e-09, 4.5595647e-09, 1.9246478e-09]], dtype=float32)"
            ]
          },
          "metadata": {
            "tags": []
          },
          "execution_count": 107
        }
      ]
    },
    {
      "cell_type": "code",
      "metadata": {
        "id": "GoG7l-XGZJc2"
      },
      "source": [
        "import numpy as np"
      ],
      "execution_count": null,
      "outputs": []
    },
    {
      "cell_type": "code",
      "metadata": {
        "id": "H_1M6-oyZMBj"
      },
      "source": [
        "final = np.argmax(result)"
      ],
      "execution_count": null,
      "outputs": []
    },
    {
      "cell_type": "code",
      "metadata": {
        "id": "9W32ejANQnH-"
      },
      "source": [
        "final1 = np.argmax(result1)"
      ],
      "execution_count": null,
      "outputs": []
    },
    {
      "cell_type": "code",
      "metadata": {
        "id": "mtGZ6I0aQnbg"
      },
      "source": [
        "final2 = np.argmax(result2)"
      ],
      "execution_count": null,
      "outputs": []
    },
    {
      "cell_type": "code",
      "metadata": {
        "id": "QkqV7dCZQnrq"
      },
      "source": [
        "final3 = np.argmax(result3)"
      ],
      "execution_count": null,
      "outputs": []
    },
    {
      "cell_type": "code",
      "metadata": {
        "id": "e1QZWxgSZSvU"
      },
      "source": [
        "final = classNames[final]"
      ],
      "execution_count": null,
      "outputs": []
    },
    {
      "cell_type": "code",
      "metadata": {
        "id": "1YMjbV28Q1tu"
      },
      "source": [
        "final1 = classNames[final1]"
      ],
      "execution_count": null,
      "outputs": []
    },
    {
      "cell_type": "code",
      "metadata": {
        "id": "YeSOP-GiQ2FB"
      },
      "source": [
        "final2 = classNames[final2]"
      ],
      "execution_count": null,
      "outputs": []
    },
    {
      "cell_type": "code",
      "metadata": {
        "id": "gtxNy91_Q2W4"
      },
      "source": [
        "final3 = classNames[final3]"
      ],
      "execution_count": null,
      "outputs": []
    },
    {
      "cell_type": "code",
      "metadata": {
        "id": "a8LgOxCYZWn-",
        "colab": {
          "base_uri": "https://localhost:8080/",
          "height": 35
        },
        "outputId": "54b494e2-2969-4ca3-c647-9419e6258bf0"
      },
      "source": [
        "final"
      ],
      "execution_count": null,
      "outputs": [
        {
          "output_type": "execute_result",
          "data": {
            "application/vnd.google.colaboratory.intrinsic+json": {
              "type": "string"
            },
            "text/plain": [
              "'Speed limit (30km/h)'"
            ]
          },
          "metadata": {
            "tags": []
          },
          "execution_count": 96
        }
      ]
    },
    {
      "cell_type": "code",
      "metadata": {
        "colab": {
          "base_uri": "https://localhost:8080/",
          "height": 35
        },
        "id": "v6MJAV_tRATA",
        "outputId": "9ef8e3d8-3acf-450d-e48e-403ef6f618ec"
      },
      "source": [
        "final1"
      ],
      "execution_count": null,
      "outputs": [
        {
          "output_type": "execute_result",
          "data": {
            "application/vnd.google.colaboratory.intrinsic+json": {
              "type": "string"
            },
            "text/plain": [
              "'Speed limit (20km/h)'"
            ]
          },
          "metadata": {
            "tags": []
          },
          "execution_count": 114
        }
      ]
    },
    {
      "cell_type": "code",
      "metadata": {
        "colab": {
          "base_uri": "https://localhost:8080/",
          "height": 35
        },
        "id": "Y0D-rtwARA4F",
        "outputId": "688fbcc3-aa19-4700-dafb-83790d6ac618"
      },
      "source": [
        "final2"
      ],
      "execution_count": null,
      "outputs": [
        {
          "output_type": "execute_result",
          "data": {
            "application/vnd.google.colaboratory.intrinsic+json": {
              "type": "string"
            },
            "text/plain": [
              "'Speed limit (80km/h)'"
            ]
          },
          "metadata": {
            "tags": []
          },
          "execution_count": 115
        }
      ]
    },
    {
      "cell_type": "code",
      "metadata": {
        "colab": {
          "base_uri": "https://localhost:8080/",
          "height": 35
        },
        "id": "BdLnDkPTRAoW",
        "outputId": "ef809f8b-b937-4628-a7bc-6a0beeb68936"
      },
      "source": [
        "final3"
      ],
      "execution_count": null,
      "outputs": [
        {
          "output_type": "execute_result",
          "data": {
            "application/vnd.google.colaboratory.intrinsic+json": {
              "type": "string"
            },
            "text/plain": [
              "'Double curve'"
            ]
          },
          "metadata": {
            "tags": []
          },
          "execution_count": 116
        }
      ]
    },
    {
      "cell_type": "code",
      "metadata": {
        "id": "Z5tE0UKbZYoj",
        "colab": {
          "base_uri": "https://localhost:8080/",
          "height": 283
        },
        "outputId": "0adab46a-e0e9-4c93-8753-53896255e77b"
      },
      "source": [
        "plt.imshow(test['features'][100])\n",
        "# test bằng cách xem ảnh"
      ],
      "execution_count": null,
      "outputs": [
        {
          "output_type": "execute_result",
          "data": {
            "text/plain": [
              "<matplotlib.image.AxesImage at 0x7f70701e0e10>"
            ]
          },
          "metadata": {
            "tags": []
          },
          "execution_count": 98
        },
        {
          "output_type": "display_data",
          "data": {
            "image/png": "[encoded data removed]",
            "text/plain": [
              "<Figure size 432x288 with 1 Axes>"
            ]
          },
          "metadata": {
            "tags": [],
            "needs_background": "light"
          }
        }
      ]
    },
    {
      "cell_type": "code",
      "metadata": {
        "id": "zwZ2UndGZgTT",
        "colab": {
          "base_uri": "https://localhost:8080/",
          "height": 283
        },
        "outputId": "44cb65cf-1c3d-48c2-e51b-97bdf3bb86f9"
      },
      "source": [
        "plt.imshow(test['features'][8])"
      ],
      "execution_count": null,
      "outputs": [
        {
          "output_type": "execute_result",
          "data": {
            "text/plain": [
              "<matplotlib.image.AxesImage at 0x7f6fc6ce47d0>"
            ]
          },
          "metadata": {
            "tags": []
          },
          "execution_count": 117
        },
        {
          "output_type": "display_data",
          "data": {
            "image/png": "[encoded data removed]",
            "text/plain": [
              "<Figure size 432x288 with 1 Axes>"
            ]
          },
          "metadata": {
            "tags": [],
            "needs_background": "light"
          }
        }
      ]
    },
    {
      "cell_type": "code",
      "metadata": {
        "colab": {
          "base_uri": "https://localhost:8080/",
          "height": 283
        },
        "id": "3fwb56bPO50u",
        "outputId": "c5a7eaaf-8f26-4f8a-d03e-bae1d8db36dc"
      },
      "source": [
        "plt.imshow(test['features'][30])"
      ],
      "execution_count": null,
      "outputs": [
        {
          "output_type": "execute_result",
          "data": {
            "text/plain": [
              "<matplotlib.image.AxesImage at 0x7f6fc6c92a50>"
            ]
          },
          "metadata": {
            "tags": []
          },
          "execution_count": 118
        },
        {
          "output_type": "display_data",
          "data": {
            "image/png": "[encoded data removed]",
            "text/plain": [
              "<Figure size 432x288 with 1 Axes>"
            ]
          },
          "metadata": {
            "tags": [],
            "needs_background": "light"
          }
        }
      ]
    },
    {
      "cell_type": "code",
      "metadata": {
        "colab": {
          "base_uri": "https://localhost:8080/",
          "height": 283
        },
        "id": "i9U9A9puRRSE",
        "outputId": "80154071-8d24-4f49-d10a-0def7c7e6081"
      },
      "source": [
        "plt.imshow(test['features'][80])"
      ],
      "execution_count": null,
      "outputs": [
        {
          "output_type": "execute_result",
          "data": {
            "text/plain": [
              "<matplotlib.image.AxesImage at 0x7f6fc6c17bd0>"
            ]
          },
          "metadata": {
            "tags": []
          },
          "execution_count": 119
        },
        {
          "output_type": "display_data",
          "data": {
            "image/png": "[encoded data removed]",
            "text/plain": [
              "<Figure size 432x288 with 1 Axes>"
            ]
          },
          "metadata": {
            "tags": [],
            "needs_background": "light"
          }
        }
      ]
    }
  ]
}