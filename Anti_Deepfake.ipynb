{
  "nbformat": 4,
  "nbformat_minor": 0,
  "metadata": {
    "accelerator": "GPU",
    "colab": {
      "name": "second.ipynb",
      "provenance": [],
      "collapsed_sections": [],
      "authorship_tag": "ABX9TyNonyMoHdozGZNuTLpXqDvo",
      "include_colab_link": true
    },
    "kernelspec": {
      "display_name": "Python 3",
      "name": "python3"
    },
    "language_info": {
      "name": "python"
    }
  },
  "cells": [
    {
      "cell_type": "markdown",
      "metadata": {
        "id": "view-in-github",
        "colab_type": "text"
      },
      "source": [
        "<a href=\"https://colab.research.google.com/github/Toxxi-frank/Deeplearning/blob/main/Anti_Deepfake.ipynb\" target=\"_parent\"><img src=\"https://colab.research.google.com/assets/colab-badge.svg\" alt=\"Open In Colab\"/></a>"
      ]
    },
    {
      "cell_type": "code",
      "metadata": {
        "colab": {
          "base_uri": "https://localhost:8080/"
        },
        "id": "iPzaCAi5c09o",
        "outputId": "c777acd1-751a-4317-869f-70ab969500e1"
      },
      "source": [
        "from google.colab import drive\n",
        "drive.mount('/content/drive')"
      ],
      "execution_count": 2,
      "outputs": [
        {
          "output_type": "stream",
          "name": "stdout",
          "text": [
            "Mounted at /content/drive\n"
          ]
        }
      ]
    },
    {
      "cell_type": "code",
      "metadata": {
        "id": "ttxSgbH4e09n"
      },
      "source": [
        "4/1AX4XfWi7fZ2sinYWYankoAOIcu4siadAZep5ic4r-3gSABS_IQNj95EsymQ"
      ],
      "execution_count": null,
      "outputs": []
    },
    {
      "cell_type": "code",
      "metadata": {
        "colab": {
          "base_uri": "https://localhost:8080/",
          "height": 467
        },
        "id": "2HdNxJXJdYxF",
        "outputId": "2705dcca-7472-4ec2-a6f1-2830f79e550f"
      },
      "source": [
        "import glob\n",
        "import os\n",
        "import random\n",
        "import shutil\n",
        "from math import floor\n",
        "\n",
        "# Path to directory where the downloaded data is\n",
        "DATA_DIR = \"/content/drive/MyDrive/DATN/deepfake_database/deepfake_database\"\n",
        "# Path to directory where new dataset should be created\n",
        "TARGET_DIR = \"/content/drive/MyDrive/DATN/dataset\"\n",
        "\n",
        "# Name of the sub-directory containing real images in DATA_DIR\n",
        "REAL_DIR = \"real\"\n",
        "# Name of the sub-directory containing fake images in DATA_DIR\n",
        "FAKE_DIR = \"df\"\n",
        "# Amount of data that should be put in the test set\n",
        "PROP = 0.10\n",
        "\n",
        "\n",
        "def create_target_dirs():\n",
        "    r_train = os.path.join(TARGET_DIR, \"train\", REAL_DIR)\n",
        "    f_train = os.path.join(TARGET_DIR, \"train\", FAKE_DIR)\n",
        "\n",
        "    os.makedirs(r_train)\n",
        "    os.makedirs(f_train)\n",
        "\n",
        "    r_test = os.path.join(TARGET_DIR, \"test\", REAL_DIR)\n",
        "    f_test = os.path.join(TARGET_DIR, \"test\", FAKE_DIR)\n",
        "\n",
        "    os.makedirs(r_test)\n",
        "    os.makedirs(f_test)\n",
        "\n",
        "\n",
        "def main():\n",
        "    if not os.path.exists(DATA_DIR):\n",
        "        raise FileNotFoundError(f\"{DATA_DIR} does not exist\")\n",
        "\n",
        "    if not os.path.isdir(DATA_DIR):\n",
        "        raise NotADirectoryError(f\"{DATA_DIR} is not a directory\")\n",
        "\n",
        "    shutil.rmtree(TARGET_DIR, ignore_errors=True)\n",
        "\n",
        "    path = os.path.join(DATA_DIR, \"**\", \"*.jpg\")\n",
        "    imgs = glob.glob(path, recursive=True)\n",
        "\n",
        "    num_imgs = len(imgs)\n",
        "\n",
        "    test_size = floor(len(imgs) * PROP)\n",
        "    train_size = num_imgs - test_size\n",
        "\n",
        "    while True:\n",
        "        print(f\"Creating directories at {TARGET_DIR}....\")\n",
        "        create_target_dirs()\n",
        "        selected = random.sample(imgs, test_size)\n",
        "\n",
        "        train_r_len = len(\n",
        "            [1 for img in imgs if REAL_DIR in img and img not in selected]\n",
        "        )\n",
        "        train_f_len = train_size - train_r_len\n",
        "        test_r_len = len([1 for img in selected if REAL_DIR in img])\n",
        "        test_f_len = test_size - test_r_len\n",
        "\n",
        "        print(f\"Found {num_imgs} images in {DATA_DIR}....\")\n",
        "        print(f\"Copying {train_size} files to {TARGET_DIR}/train/....\")\n",
        "        print(f\"Copying {test_size} files to {TARGET_DIR}/test/....\")\n",
        "        print(\n",
        "            f\"The training set will have {train_r_len} real images and {train_f_len} fake images....\"\n",
        "        )\n",
        "        print(\n",
        "            f\"The test set will have {test_r_len} real images and {test_f_len} fake images...\"\n",
        "        )\n",
        "\n",
        "        for img in imgs:\n",
        "            leaf_dir = REAL_DIR if REAL_DIR in img else FAKE_DIR\n",
        "            intr_dir = \"test\" if img in selected else \"train\"\n",
        "            dst = os.path.join(TARGET_DIR, intr_dir, leaf_dir)\n",
        "            shutil.copy(img, dst)\n",
        "\n",
        "        prompt = input(\"Try again? [Yy/Nn] \")\n",
        "        if prompt in [\"n\", \"N\"]:\n",
        "            print(\"Exiting....\")\n",
        "            break\n",
        "\n",
        "        print(\"\\n\\nTrying again....\")\n",
        "        print(f\"Deleting {TARGET_DIR}....\\n\")\n",
        "        shutil.rmtree(TARGET_DIR)\n",
        "\n",
        "\n",
        "if __name__ == \"__main__\":\n",
        "    main()"
      ],
      "execution_count": 7,
      "outputs": [
        {
          "output_type": "stream",
          "name": "stdout",
          "text": [
            "Creating directories at /content/drive/MyDrive/DATN/dataset....\n",
            "Found 19456 images in /content/drive/MyDrive/DATN/deepfake_database/deepfake_database....\n",
            "Copying 17511 files to /content/drive/MyDrive/DATN/dataset/train/....\n",
            "Copying 1945 files to /content/drive/MyDrive/DATN/dataset/test/....\n",
            "The training set will have 10391 real images and 7120 fake images....\n",
            "The test set will have 1117 real images and 828 fake images...\n",
            "Creating directories at /content/drive/MyDrive/DATN/dataset....\n"
          ]
        },
        {
          "output_type": "error",
          "ename": "FileExistsError",
          "evalue": "ignored",
          "traceback": [
            "\u001b[0;31m---------------------------------------------------------------------------\u001b[0m",
            "\u001b[0;31mFileExistsError\u001b[0m                           Traceback (most recent call last)",
            "\u001b[0;32m<ipython-input-7-6ba309e66c57>\u001b[0m in \u001b[0;36m<module>\u001b[0;34m()\u001b[0m\n\u001b[1;32m     88\u001b[0m \"\"\"\n\u001b[1;32m     89\u001b[0m \u001b[0;32mif\u001b[0m \u001b[0m__name__\u001b[0m \u001b[0;34m==\u001b[0m \u001b[0;34m\"__main__\"\u001b[0m\u001b[0;34m:\u001b[0m\u001b[0;34m\u001b[0m\u001b[0;34m\u001b[0m\u001b[0m\n\u001b[0;32m---> 90\u001b[0;31m     \u001b[0mmain\u001b[0m\u001b[0;34m(\u001b[0m\u001b[0;34m)\u001b[0m\u001b[0;34m\u001b[0m\u001b[0;34m\u001b[0m\u001b[0m\n\u001b[0m",
            "\u001b[0;32m<ipython-input-7-6ba309e66c57>\u001b[0m in \u001b[0;36mmain\u001b[0;34m()\u001b[0m\n\u001b[1;32m     51\u001b[0m     \u001b[0;32mwhile\u001b[0m \u001b[0;32mTrue\u001b[0m\u001b[0;34m:\u001b[0m\u001b[0;34m\u001b[0m\u001b[0;34m\u001b[0m\u001b[0m\n\u001b[1;32m     52\u001b[0m         \u001b[0mprint\u001b[0m\u001b[0;34m(\u001b[0m\u001b[0;34mf\"Creating directories at {TARGET_DIR}....\"\u001b[0m\u001b[0;34m)\u001b[0m\u001b[0;34m\u001b[0m\u001b[0;34m\u001b[0m\u001b[0m\n\u001b[0;32m---> 53\u001b[0;31m         \u001b[0mcreate_target_dirs\u001b[0m\u001b[0;34m(\u001b[0m\u001b[0;34m)\u001b[0m\u001b[0;34m\u001b[0m\u001b[0;34m\u001b[0m\u001b[0m\n\u001b[0m\u001b[1;32m     54\u001b[0m         \u001b[0mselected\u001b[0m \u001b[0;34m=\u001b[0m \u001b[0mrandom\u001b[0m\u001b[0;34m.\u001b[0m\u001b[0msample\u001b[0m\u001b[0;34m(\u001b[0m\u001b[0mimgs\u001b[0m\u001b[0;34m,\u001b[0m \u001b[0mtest_size\u001b[0m\u001b[0;34m)\u001b[0m\u001b[0;34m\u001b[0m\u001b[0;34m\u001b[0m\u001b[0m\n\u001b[1;32m     55\u001b[0m \u001b[0;34m\u001b[0m\u001b[0m\n",
            "\u001b[0;32m<ipython-input-7-6ba309e66c57>\u001b[0m in \u001b[0;36mcreate_target_dirs\u001b[0;34m()\u001b[0m\n\u001b[1;32m     22\u001b[0m     \u001b[0mf_train\u001b[0m \u001b[0;34m=\u001b[0m \u001b[0mos\u001b[0m\u001b[0;34m.\u001b[0m\u001b[0mpath\u001b[0m\u001b[0;34m.\u001b[0m\u001b[0mjoin\u001b[0m\u001b[0;34m(\u001b[0m\u001b[0mTARGET_DIR\u001b[0m\u001b[0;34m,\u001b[0m \u001b[0;34m\"train\"\u001b[0m\u001b[0;34m,\u001b[0m \u001b[0mFAKE_DIR\u001b[0m\u001b[0;34m)\u001b[0m\u001b[0;34m\u001b[0m\u001b[0;34m\u001b[0m\u001b[0m\n\u001b[1;32m     23\u001b[0m \u001b[0;34m\u001b[0m\u001b[0m\n\u001b[0;32m---> 24\u001b[0;31m     \u001b[0mos\u001b[0m\u001b[0;34m.\u001b[0m\u001b[0mmakedirs\u001b[0m\u001b[0;34m(\u001b[0m\u001b[0mr_train\u001b[0m\u001b[0;34m)\u001b[0m\u001b[0;34m\u001b[0m\u001b[0;34m\u001b[0m\u001b[0m\n\u001b[0m\u001b[1;32m     25\u001b[0m     \u001b[0mos\u001b[0m\u001b[0;34m.\u001b[0m\u001b[0mmakedirs\u001b[0m\u001b[0;34m(\u001b[0m\u001b[0mf_train\u001b[0m\u001b[0;34m)\u001b[0m\u001b[0;34m\u001b[0m\u001b[0;34m\u001b[0m\u001b[0m\n\u001b[1;32m     26\u001b[0m \u001b[0;34m\u001b[0m\u001b[0m\n",
            "\u001b[0;32m/usr/lib/python3.7/os.py\u001b[0m in \u001b[0;36mmakedirs\u001b[0;34m(name, mode, exist_ok)\u001b[0m\n\u001b[1;32m    221\u001b[0m             \u001b[0;32mreturn\u001b[0m\u001b[0;34m\u001b[0m\u001b[0;34m\u001b[0m\u001b[0m\n\u001b[1;32m    222\u001b[0m     \u001b[0;32mtry\u001b[0m\u001b[0;34m:\u001b[0m\u001b[0;34m\u001b[0m\u001b[0;34m\u001b[0m\u001b[0m\n\u001b[0;32m--> 223\u001b[0;31m         \u001b[0mmkdir\u001b[0m\u001b[0;34m(\u001b[0m\u001b[0mname\u001b[0m\u001b[0;34m,\u001b[0m \u001b[0mmode\u001b[0m\u001b[0;34m)\u001b[0m\u001b[0;34m\u001b[0m\u001b[0;34m\u001b[0m\u001b[0m\n\u001b[0m\u001b[1;32m    224\u001b[0m     \u001b[0;32mexcept\u001b[0m \u001b[0mOSError\u001b[0m\u001b[0;34m:\u001b[0m\u001b[0;34m\u001b[0m\u001b[0;34m\u001b[0m\u001b[0m\n\u001b[1;32m    225\u001b[0m         \u001b[0;31m# Cannot rely on checking for EEXIST, since the operating system\u001b[0m\u001b[0;34m\u001b[0m\u001b[0;34m\u001b[0m\u001b[0;34m\u001b[0m\u001b[0m\n",
            "\u001b[0;31mFileExistsError\u001b[0m: [Errno 17] File exists: '/content/drive/MyDrive/DATN/dataset/train/real'"
          ]
        }
      ]
    },
    {
      "cell_type": "code",
      "metadata": {
        "id": "TAkL_dv-qDJZ"
      },
      "source": [
        ""
      ],
      "execution_count": null,
      "outputs": []
    },
    {
      "cell_type": "code",
      "metadata": {
        "id": "BCy2--nhg8eG"
      },
      "source": [
        "from tensorflow.keras import Model\n",
        "from tensorflow.keras import Input\n",
        "from tensorflow.keras.layers import Conv2D, ReLU, ELU, LeakyReLU, Dropout, Dense, MaxPooling2D, Flatten, BatchNormalization\n",
        "from tensorflow.keras.preprocessing.image import ImageDataGenerator\n",
        "from tensorflow.keras.optimizers import Adam\n",
        "from tensorflow.keras.callbacks import ModelCheckpoint, TensorBoard, EarlyStopping\n",
        "from tensorflow.keras.optimizers.schedules import ExponentialDecay\n",
        "from tensorflow.keras.utils import plot_model\n",
        "from tensorflow.keras.models import load_model\n",
        "from sklearn.metrics import classification_report\n",
        "\n",
        "import numpy as np\n",
        "import matplotlib.pyplot as plt\n",
        "from mpl_toolkits.axes_grid1 import ImageGrid\n",
        "\n",
        "from math import floor, log\n",
        "from datetime import datetime\n",
        "import os"
      ],
      "execution_count": 1,
      "outputs": []
    },
    {
      "cell_type": "code",
      "metadata": {
        "id": "Cy5A0ozZg9PW"
      },
      "source": [
        "IMG_WIDTH = 256"
      ],
      "execution_count": 3,
      "outputs": []
    },
    {
      "cell_type": "code",
      "metadata": {
        "id": "q6yKGNDAg_rg"
      },
      "source": [
        "def get_datagen(use_default_augmentation=True, **kwargs):\n",
        "    kwargs.update({'rescale': 1./255})\n",
        "    if use_default_augmentation:\n",
        "        kwargs.update({\n",
        "            'rotation_range': 15,\n",
        "            'zoom_range': 0.2,\n",
        "            'brightness_range': (0.8, 1.2),\n",
        "            'channel_shift_range': 30,\n",
        "            'horizontal_flip': True,\n",
        "        })\n",
        "    return ImageDataGenerator(**kwargs)"
      ],
      "execution_count": 8,
      "outputs": []
    },
    {
      "cell_type": "code",
      "metadata": {
        "id": "u893gfqQhC1r"
      },
      "source": [
        "def get_train_data_generator(\n",
        "    train_data_dir, \n",
        "    batch_size, \n",
        "    validation_split=None, \n",
        "    use_default_augmentation=True,\n",
        "    augmentations=None\n",
        "):\n",
        "    if not augmentations:\n",
        "        augmentations = {}\n",
        "\n",
        "    train_datagen = get_datagen(\n",
        "        use_default_augmentation=use_default_augmentation,\n",
        "        validation_split=validation_split if validation_split else 0.0,\n",
        "        **augmentations\n",
        "    )\n",
        "   \n",
        "    train_generator = train_datagen.flow_from_directory(\n",
        "        directory=train_data_dir,\n",
        "        target_size=(IMG_WIDTH, IMG_WIDTH),\n",
        "        batch_size=batch_size,\n",
        "        class_mode='binary',\n",
        "        subset='training',\n",
        "    )\n",
        "\n",
        "    validation_generator = None\n",
        "\n",
        "    if validation_split:\n",
        "        validation_generator = train_datagen.flow_from_directory(\n",
        "            directory=train_data_dir,\n",
        "            target_size=(IMG_WIDTH, IMG_WIDTH),\n",
        "            batch_size=batch_size,\n",
        "            class_mode='binary',\n",
        "            subset='validation'\n",
        "        )\n",
        "\n",
        "    return train_generator, validation_generator"
      ],
      "execution_count": 9,
      "outputs": []
    },
    {
      "cell_type": "code",
      "metadata": {
        "id": "Uz2RcrfhhF-L"
      },
      "source": [
        "def get_test_data_generator(test_data_dir, batch_size, shuffle=False):\n",
        "    test_datagen = get_datagen(use_default_augmentation=False)\n",
        "    return test_datagen.flow_from_directory(\n",
        "        directory=test_data_dir,\n",
        "        target_size=(IMG_WIDTH, IMG_WIDTH),\n",
        "        batch_size=batch_size,\n",
        "        class_mode='binary',\n",
        "        shuffle=shuffle\n",
        "    )"
      ],
      "execution_count": 10,
      "outputs": []
    },
    {
      "cell_type": "code",
      "metadata": {
        "id": "Fc5RBzN_hIDc"
      },
      "source": [
        "def activation_layer(ip, activation, *args):\n",
        "    return {'relu': ReLU(*args)(ip),\n",
        "            'elu': ELU(*args)(ip),\n",
        "            'lrelu': LeakyReLU(*args)(ip)}[activation]"
      ],
      "execution_count": 11,
      "outputs": []
    },
    {
      "cell_type": "code",
      "metadata": {
        "id": "jYQqGUxZhLh6"
      },
      "source": [
        "def conv2D(ip,\n",
        "           filters,\n",
        "           kernel_size,\n",
        "           activation,\n",
        "           padding='same',\n",
        "           pool_size=(2, 2)):\n",
        "    layer = Conv2D(filters,\n",
        "                   kernel_size=kernel_size,\n",
        "                   padding=padding)(ip)\n",
        "\n",
        "    layer = activation_layer(layer, activation=activation)\n",
        "\n",
        "    layer = BatchNormalization()(layer)\n",
        "\n",
        "    return MaxPooling2D(pool_size=pool_size, padding=padding)(layer)\n",
        "\n",
        "def fully_connected_layer(ip,\n",
        "                          hidden_activation,\n",
        "                          dropout):\n",
        "    layer = Dense(16)(ip)\n",
        "    layer = activation_layer(layer, hidden_activation, *[0.1,])\n",
        "    return Dropout(rate=dropout)(layer)"
      ],
      "execution_count": 12,
      "outputs": []
    },
    {
      "cell_type": "code",
      "metadata": {
        "id": "zZ-tyfWGhNqj"
      },
      "source": [
        "def build_model(ip=Input(shape=(IMG_WIDTH, IMG_WIDTH, 3)),\n",
        "                activation='relu',\n",
        "                dropout=0.5,\n",
        "                hidden_activation='lrelu'):\n",
        "    \n",
        "    layer = conv2D(ip, filters=8, kernel_size=(3, 3), activation=activation)\n",
        "\n",
        "    layer = conv2D(layer, filters=8, kernel_size=(5, 5), activation=activation)\n",
        "\n",
        "    layer = conv2D(layer, filters=16, kernel_size=(5, 5), activation=activation)\n",
        "\n",
        "    layer = conv2D(layer, filters=16, kernel_size=(5, 5), activation=activation, pool_size=(4, 4))\n",
        "\n",
        "    layer = Flatten()(layer)\n",
        "    layer = Dropout(rate=dropout)(layer)\n",
        "\n",
        "    layer = fully_connected_layer(layer, hidden_activation=hidden_activation, dropout=dropout)\n",
        "\n",
        "    op_layer = Dense(1, activation='sigmoid')(layer)\n",
        "\n",
        "    model = Model(ip, op_layer)\n",
        "\n",
        "    return model"
      ],
      "execution_count": 13,
      "outputs": []
    },
    {
      "cell_type": "code",
      "metadata": {
        "id": "v8Rc2mVyhQeE"
      },
      "source": [
        "def evaluate_model(model, test_data_dir, batch_size):\n",
        "    data = get_test_data_generator(test_data_dir, batch_size)\n",
        "    return model.evaluate(data)\n",
        "\n",
        "\n",
        "def predict(model, data, steps=None, threshold=0.5):\n",
        "    predictions = model.predict(data, steps=steps, verbose=1)\n",
        "    return predictions, np.where(predictions >= threshold, 1, 0)\n",
        "\n",
        "\n",
        "def save_model_history(history, filename):\n",
        "    with open(filename, 'wb') as f:\n",
        "        pickle.dump(history.history, f)"
      ],
      "execution_count": 14,
      "outputs": []
    },
    {
      "cell_type": "code",
      "metadata": {
        "id": "Ub4kB9BjhQn4"
      },
      "source": [
        "def get_activation_model(model, conv_idx):\n",
        "    conv_layers = [layer for layer in model.layers if 'conv' in layer.name]\n",
        "    selected_layers = [layer for index, layer in enumerate(conv_layers) if index in conv_idx]\n",
        "    activation_model = Model(\n",
        "        inputs=model.inputs,\n",
        "        outputs=[layer.output for layer in selected_layers]\n",
        "    )\n",
        "    return activation_model"
      ],
      "execution_count": 15,
      "outputs": []
    },
    {
      "cell_type": "code",
      "metadata": {
        "id": "FXHarh1ihUVd"
      },
      "source": [
        "def plot_loss_curve(history):\n",
        "    plt.plot(history.history['loss'], 'r', label='train')\n",
        "    plt.plot(history.history['val_loss'], 'g', label='validation')\n",
        "    plt.xlabel('Epochs')\n",
        "    plt.ylabel('loss')\n",
        "    plt.legend()\n",
        "    plt.show()\n",
        "def get_classification_report(\n",
        "    model, data_dir, batch_size=64,\n",
        "    steps=None, threshold=0.5, output_dict=False\n",
        "):\n",
        "    data = get_test_data_generator(data_dir, batch_size=batch_size)\n",
        "    predictions = predict(model, data, steps, threshold)\n",
        "    predictions = predictions.reshape((predictions.shape[0],))\n",
        "    return classification_report(data.classes, predictions, output_dict=output_dict)\n",
        "def visualize_conv_layers_single_img(\n",
        "    activations,\n",
        "    conv_idx,\n",
        "):\n",
        "    images_per_row = 4\n",
        "\n",
        "    for activation, idx in zip(activations, conv_idx):\n",
        "        num_filters = activation.shape[-1]\n",
        "\n",
        "        imgs = [activation[:, :, i] for i in range(num_filters)]\n",
        "\n",
        "        num_rows = num_filters // images_per_row\n",
        "\n",
        "        fig = plt.figure()\n",
        "        grid = ImageGrid(fig, 111, (num_rows, images_per_row))\n",
        "\n",
        "        for ax, im in zip(grid, imgs):\n",
        "            ax.imshow(im, cmap='viridis')\n",
        "\n",
        "        plt.title(f'Convolutional Layer {idx + 1}')\n",
        "        plt.show()\n",
        "\n",
        "\n",
        "def visualize_conv_layers(model, imgs, conv_idx):\n",
        "    activation_model = get_activation_model(model, conv_idx)\n",
        "    activations = activation_model.predict(imgs)\n",
        "\n",
        "    num_imgs = imgs.shape[0]\n",
        "    num_layers = len(conv_idx)\n",
        "\n",
        "    for idx in range(num_imgs):\n",
        "        img_activs = [activations[i][idx, :, :, :] for i in range(num_layers)]\n",
        "        visualize_conv_layers_single_img(\n",
        "            activations=img_activs, conv_idx=conv_idx\n",
        "        )"
      ],
      "execution_count": 16,
      "outputs": []
    },
    {
      "cell_type": "code",
      "metadata": {
        "id": "riEn_gE1hW2p"
      },
      "source": [
        "def train_model(model,\n",
        "                train_data_dir,\n",
        "                validation_split=None,\n",
        "                batch_size=32,\n",
        "                use_default_augmentation=True,\n",
        "                augmentations=None,\n",
        "                epochs=30,\n",
        "                lr=1e-3,\n",
        "                loss='binary_crossentropy',\n",
        "                compile=True,\n",
        "                lr_decay=True,\n",
        "                decay_rate=0.10,\n",
        "                decay_limit=1e-6,\n",
        "                checkpoint=True,\n",
        "                stop_early=True,\n",
        "                monitor='val_accuracy',\n",
        "                mode='max',\n",
        "                patience=20,\n",
        "                tensorboard=True,\n",
        "                loss_curve=True):\n",
        "    \n",
        "    run_time = datetime.now().strftime(\"%Y%m%d-%H%M%S\")\n",
        "\n",
        "    train_generator, validation_generator = get_train_data_generator(\n",
        "        train_data_dir=train_data_dir,\n",
        "        batch_size=batch_size,\n",
        "        validation_split=validation_split,\n",
        "        use_default_augmentation=use_default_augmentation,\n",
        "        augmentations=augmentations\n",
        "    )\n",
        "\n",
        "    callbacks = []\n",
        "    if checkpoint:\n",
        "        filepath = f'run_{run_time}_best_model.hdf5'\n",
        "        model_checkpoint = ModelCheckpoint(\n",
        "            filepath, monitor='val_accuracy', verbose=1,\n",
        "            save_best_only=True\n",
        "        )\n",
        "        callbacks.append(model_checkpoint)\n",
        "\n",
        "    if stop_early:\n",
        "        callbacks.append(\n",
        "            EarlyStopping(\n",
        "                monitor=monitor,\n",
        "                mode=mode,\n",
        "                patience=patience,\n",
        "                verbose=1\n",
        "            )\n",
        "        )\n",
        "\n",
        "    if tensorboard:\n",
        "        log_dir = \"logs/fit/\" + run_time\n",
        "        callbacks.append(TensorBoard(log_dir, histogram_freq=1, write_images=True))\n",
        "\n",
        "    if compile:\n",
        "        if lr_decay:\n",
        "            num_times = floor(log(decay_limit / lr, decay_rate))\n",
        "            per_epoch = epochs // num_times\n",
        "            lr = ExponentialDecay(\n",
        "                lr,\n",
        "                decay_steps=(train_generator.samples // batch_size) * per_epoch,\n",
        "                decay_rate=decay_rate,\n",
        "                staircase=True,\n",
        "            )\n",
        "        optimizer = Adam(learning_rate=lr)\n",
        "        model.compile(optimizer=optimizer, loss=loss, metrics=['accuracy'])\n",
        "\n",
        "    history = model.fit(\n",
        "        train_generator,\n",
        "        epochs=epochs,\n",
        "        verbose=1,\n",
        "        callbacks=callbacks,\n",
        "        validation_data=validation_generator,\n",
        "        steps_per_epoch=train_generator.samples // batch_size,\n",
        "        validation_steps=validation_generator.samples // batch_size if validation_generator else None,\n",
        "    )\n",
        "\n",
        "    if loss_curve:\n",
        "        plot_loss_curve(history)\n",
        "\n",
        "    return history"
      ],
      "execution_count": 17,
      "outputs": []
    },
    {
      "cell_type": "code",
      "metadata": {
        "id": "8eucVvaihZ3p",
        "colab": {
          "base_uri": "https://localhost:8080/",
          "height": 1000
        },
        "outputId": "274c5b65-57d4-4d2d-bbe1-a53028fa644c"
      },
      "source": [
        "def main():\n",
        "    train_data_dir = '/content/drive/MyDrive/DATN/dataset/train'# need changed\n",
        "    val_split, epochs, batch_size = 0.20, 50, 64\n",
        "    decay_rate, decay_limit = 0.10, 1e-6\n",
        "    model = build_model()\n",
        "    return model, train_model(\n",
        "        model,\n",
        "        train_data_dir,\n",
        "        validation_split=val_split,\n",
        "        epochs=epochs,\n",
        "        decay_rate=decay_rate,\n",
        "        decay_limit=decay_limit\n",
        "    )\n",
        "\n",
        "# !rm -rf logs\n",
        "# %tensorboard --logdir logs/fit\n",
        "model, history = main()"
      ],
      "execution_count": 18,
      "outputs": [
        {
          "output_type": "stream",
          "name": "stdout",
          "text": [
            "Found 14009 images belonging to 2 classes.\n",
            "Found 3502 images belonging to 2 classes.\n",
            "Epoch 1/50\n",
            "437/437 [==============================] - ETA: 0s - loss: 0.5717 - accuracy: 0.7128\n",
            "Epoch 00001: val_accuracy improved from -inf to 0.83056, saving model to run_20211127-135138_best_model.hdf5\n",
            "437/437 [==============================] - 308s 684ms/step - loss: 0.5717 - accuracy: 0.7128 - val_loss: 0.4519 - val_accuracy: 0.8306\n",
            "Epoch 2/50\n",
            "437/437 [==============================] - ETA: 0s - loss: 0.3841 - accuracy: 0.8272\n",
            "Epoch 00002: val_accuracy improved from 0.83056 to 0.88188, saving model to run_20211127-135138_best_model.hdf5\n",
            "437/437 [==============================] - 322s 737ms/step - loss: 0.3841 - accuracy: 0.8272 - val_loss: 0.3124 - val_accuracy: 0.8819\n",
            "Epoch 3/50\n",
            "437/437 [==============================] - ETA: 0s - loss: 0.3287 - accuracy: 0.8539\n",
            "Epoch 00003: val_accuracy did not improve from 0.88188\n",
            "437/437 [==============================] - 298s 683ms/step - loss: 0.3287 - accuracy: 0.8539 - val_loss: 0.3187 - val_accuracy: 0.8664\n",
            "Epoch 4/50\n",
            "437/437 [==============================] - ETA: 0s - loss: 0.2987 - accuracy: 0.8721\n",
            "Epoch 00004: val_accuracy improved from 0.88188 to 0.89163, saving model to run_20211127-135138_best_model.hdf5\n",
            "437/437 [==============================] - 321s 735ms/step - loss: 0.2987 - accuracy: 0.8721 - val_loss: 0.2797 - val_accuracy: 0.8916\n",
            "Epoch 5/50\n",
            "437/437 [==============================] - ETA: 0s - loss: 0.2806 - accuracy: 0.8804\n",
            "Epoch 00005: val_accuracy did not improve from 0.89163\n",
            "437/437 [==============================] - 325s 744ms/step - loss: 0.2806 - accuracy: 0.8804 - val_loss: 0.2675 - val_accuracy: 0.8913\n",
            "Epoch 6/50\n",
            "437/437 [==============================] - ETA: 0s - loss: 0.2563 - accuracy: 0.8915\n",
            "Epoch 00006: val_accuracy improved from 0.89163 to 0.89364, saving model to run_20211127-135138_best_model.hdf5\n",
            "437/437 [==============================] - 322s 738ms/step - loss: 0.2563 - accuracy: 0.8915 - val_loss: 0.2581 - val_accuracy: 0.8936\n",
            "Epoch 7/50\n",
            "437/437 [==============================] - ETA: 0s - loss: 0.2447 - accuracy: 0.9018\n",
            "Epoch 00007: val_accuracy did not improve from 0.89364\n",
            "437/437 [==============================] - 321s 736ms/step - loss: 0.2447 - accuracy: 0.9018 - val_loss: 0.3076 - val_accuracy: 0.8770\n",
            "Epoch 8/50\n",
            "437/437 [==============================] - ETA: 0s - loss: 0.2328 - accuracy: 0.9028\n",
            "Epoch 00008: val_accuracy did not improve from 0.89364\n",
            "437/437 [==============================] - 323s 740ms/step - loss: 0.2328 - accuracy: 0.9028 - val_loss: 0.2812 - val_accuracy: 0.8653\n",
            "Epoch 9/50\n",
            "437/437 [==============================] - ETA: 0s - loss: 0.2257 - accuracy: 0.9076\n",
            "Epoch 00009: val_accuracy did not improve from 0.89364\n",
            "437/437 [==============================] - 327s 750ms/step - loss: 0.2257 - accuracy: 0.9076 - val_loss: 0.2609 - val_accuracy: 0.8830\n",
            "Epoch 10/50\n",
            "437/437 [==============================] - ETA: 0s - loss: 0.2219 - accuracy: 0.9053\n",
            "Epoch 00010: val_accuracy improved from 0.89364 to 0.89708, saving model to run_20211127-135138_best_model.hdf5\n",
            "437/437 [==============================] - 306s 701ms/step - loss: 0.2219 - accuracy: 0.9053 - val_loss: 0.2243 - val_accuracy: 0.8971\n",
            "Epoch 11/50\n",
            "437/437 [==============================] - ETA: 0s - loss: 0.2139 - accuracy: 0.9109\n",
            "Epoch 00011: val_accuracy improved from 0.89708 to 0.90224, saving model to run_20211127-135138_best_model.hdf5\n",
            "437/437 [==============================] - 302s 692ms/step - loss: 0.2139 - accuracy: 0.9109 - val_loss: 0.2395 - val_accuracy: 0.9022\n",
            "Epoch 12/50\n",
            "437/437 [==============================] - ETA: 0s - loss: 0.2014 - accuracy: 0.9177\n",
            "Epoch 00012: val_accuracy did not improve from 0.90224\n",
            "437/437 [==============================] - 302s 692ms/step - loss: 0.2014 - accuracy: 0.9177 - val_loss: 0.2831 - val_accuracy: 0.8802\n",
            "Epoch 13/50\n",
            "437/437 [==============================] - ETA: 0s - loss: 0.2025 - accuracy: 0.9168\n",
            "Epoch 00013: val_accuracy improved from 0.90224 to 0.90625, saving model to run_20211127-135138_best_model.hdf5\n",
            "437/437 [==============================] - 324s 742ms/step - loss: 0.2025 - accuracy: 0.9168 - val_loss: 0.2305 - val_accuracy: 0.9062\n",
            "Epoch 14/50\n",
            "437/437 [==============================] - ETA: 0s - loss: 0.1978 - accuracy: 0.9184\n",
            "Epoch 00014: val_accuracy did not improve from 0.90625\n",
            "437/437 [==============================] - 302s 691ms/step - loss: 0.1978 - accuracy: 0.9184 - val_loss: 0.2271 - val_accuracy: 0.9040\n",
            "Epoch 15/50\n",
            "437/437 [==============================] - ETA: 0s - loss: 0.1907 - accuracy: 0.9232\n",
            "Epoch 00015: val_accuracy improved from 0.90625 to 0.90826, saving model to run_20211127-135138_best_model.hdf5\n",
            "437/437 [==============================] - 302s 692ms/step - loss: 0.1907 - accuracy: 0.9232 - val_loss: 0.2213 - val_accuracy: 0.9083\n",
            "Epoch 16/50\n",
            "437/437 [==============================] - ETA: 0s - loss: 0.1876 - accuracy: 0.9247\n",
            "Epoch 00016: val_accuracy did not improve from 0.90826\n",
            "437/437 [==============================] - 326s 746ms/step - loss: 0.1876 - accuracy: 0.9247 - val_loss: 0.2779 - val_accuracy: 0.8905\n",
            "Epoch 17/50\n",
            "437/437 [==============================] - ETA: 0s - loss: 0.1623 - accuracy: 0.9374\n",
            "Epoch 00017: val_accuracy improved from 0.90826 to 0.91284, saving model to run_20211127-135138_best_model.hdf5\n",
            "437/437 [==============================] - 304s 696ms/step - loss: 0.1623 - accuracy: 0.9374 - val_loss: 0.2027 - val_accuracy: 0.9128\n",
            "Epoch 18/50\n",
            "437/437 [==============================] - ETA: 0s - loss: 0.1481 - accuracy: 0.9408\n",
            "Epoch 00018: val_accuracy improved from 0.91284 to 0.91600, saving model to run_20211127-135138_best_model.hdf5\n",
            "437/437 [==============================] - 327s 750ms/step - loss: 0.1481 - accuracy: 0.9408 - val_loss: 0.2102 - val_accuracy: 0.9160\n",
            "Epoch 19/50\n",
            "437/437 [==============================] - ETA: 0s - loss: 0.1443 - accuracy: 0.9431\n",
            "Epoch 00019: val_accuracy improved from 0.91600 to 0.91829, saving model to run_20211127-135138_best_model.hdf5\n",
            "437/437 [==============================] - 345s 790ms/step - loss: 0.1443 - accuracy: 0.9431 - val_loss: 0.2080 - val_accuracy: 0.9183\n",
            "Epoch 20/50\n",
            "437/437 [==============================] - ETA: 0s - loss: 0.1398 - accuracy: 0.9432\n",
            "Epoch 00020: val_accuracy did not improve from 0.91829\n",
            "437/437 [==============================] - 331s 757ms/step - loss: 0.1398 - accuracy: 0.9432 - val_loss: 0.1957 - val_accuracy: 0.9157\n",
            "Epoch 21/50\n",
            "437/437 [==============================] - ETA: 0s - loss: 0.1395 - accuracy: 0.9455\n",
            "Epoch 00021: val_accuracy improved from 0.91829 to 0.91886, saving model to run_20211127-135138_best_model.hdf5\n",
            "437/437 [==============================] - 319s 730ms/step - loss: 0.1395 - accuracy: 0.9455 - val_loss: 0.2007 - val_accuracy: 0.9189\n",
            "Epoch 22/50\n",
            "437/437 [==============================] - ETA: 0s - loss: 0.1379 - accuracy: 0.9457\n",
            "Epoch 00022: val_accuracy did not improve from 0.91886\n",
            "437/437 [==============================] - 348s 797ms/step - loss: 0.1379 - accuracy: 0.9457 - val_loss: 0.2081 - val_accuracy: 0.9189\n",
            "Epoch 23/50\n",
            "437/437 [==============================] - ETA: 0s - loss: 0.1392 - accuracy: 0.9463\n",
            "Epoch 00023: val_accuracy did not improve from 0.91886\n",
            "437/437 [==============================] - 336s 770ms/step - loss: 0.1392 - accuracy: 0.9463 - val_loss: 0.2163 - val_accuracy: 0.9126\n",
            "Epoch 24/50\n",
            "437/437 [==============================] - ETA: 0s - loss: 0.1383 - accuracy: 0.9447\n",
            "Epoch 00024: val_accuracy did not improve from 0.91886\n",
            "437/437 [==============================] - 332s 761ms/step - loss: 0.1383 - accuracy: 0.9447 - val_loss: 0.2218 - val_accuracy: 0.9160\n",
            "Epoch 25/50\n",
            "437/437 [==============================] - ETA: 0s - loss: 0.1335 - accuracy: 0.9499\n",
            "Epoch 00025: val_accuracy did not improve from 0.91886\n",
            "437/437 [==============================] - 330s 757ms/step - loss: 0.1335 - accuracy: 0.9499 - val_loss: 0.2164 - val_accuracy: 0.9103\n",
            "Epoch 26/50\n",
            "437/437 [==============================] - ETA: 0s - loss: 0.1322 - accuracy: 0.9470\n",
            "Epoch 00026: val_accuracy did not improve from 0.91886\n",
            "437/437 [==============================] - 329s 754ms/step - loss: 0.1322 - accuracy: 0.9470 - val_loss: 0.2165 - val_accuracy: 0.9169\n",
            "Epoch 27/50\n",
            "437/437 [==============================] - ETA: 0s - loss: 0.1326 - accuracy: 0.9502\n",
            "Epoch 00027: val_accuracy did not improve from 0.91886\n",
            "437/437 [==============================] - 308s 705ms/step - loss: 0.1326 - accuracy: 0.9502 - val_loss: 0.2051 - val_accuracy: 0.9171\n",
            "Epoch 28/50\n",
            "437/437 [==============================] - ETA: 0s - loss: 0.1347 - accuracy: 0.9493\n",
            "Epoch 00028: val_accuracy did not improve from 0.91886\n",
            "437/437 [==============================] - 325s 743ms/step - loss: 0.1347 - accuracy: 0.9493 - val_loss: 0.2092 - val_accuracy: 0.9108\n",
            "Epoch 29/50\n",
            "437/437 [==============================] - ETA: 0s - loss: 0.1317 - accuracy: 0.9485\n",
            "Epoch 00029: val_accuracy improved from 0.91886 to 0.92575, saving model to run_20211127-135138_best_model.hdf5\n",
            "437/437 [==============================] - 303s 694ms/step - loss: 0.1317 - accuracy: 0.9485 - val_loss: 0.1885 - val_accuracy: 0.9257\n",
            "Epoch 30/50\n",
            "437/437 [==============================] - ETA: 0s - loss: 0.1314 - accuracy: 0.9492\n",
            "Epoch 00030: val_accuracy did not improve from 0.92575\n",
            "437/437 [==============================] - 325s 745ms/step - loss: 0.1314 - accuracy: 0.9492 - val_loss: 0.2013 - val_accuracy: 0.9246\n",
            "Epoch 31/50\n",
            "437/437 [==============================] - ETA: 0s - loss: 0.1319 - accuracy: 0.9491\n",
            "Epoch 00031: val_accuracy did not improve from 0.92575\n",
            "437/437 [==============================] - 327s 748ms/step - loss: 0.1319 - accuracy: 0.9491 - val_loss: 0.2092 - val_accuracy: 0.9186\n",
            "Epoch 32/50\n",
            "437/437 [==============================] - ETA: 0s - loss: 0.1285 - accuracy: 0.9508\n",
            "Epoch 00032: val_accuracy did not improve from 0.92575\n",
            "437/437 [==============================] - 308s 705ms/step - loss: 0.1285 - accuracy: 0.9508 - val_loss: 0.1999 - val_accuracy: 0.9232\n",
            "Epoch 33/50\n",
            "437/437 [==============================] - ETA: 0s - loss: 0.1209 - accuracy: 0.9539\n",
            "Epoch 00033: val_accuracy did not improve from 0.92575\n",
            "437/437 [==============================] - 326s 746ms/step - loss: 0.1209 - accuracy: 0.9539 - val_loss: 0.2032 - val_accuracy: 0.9217\n",
            "Epoch 34/50\n",
            "437/437 [==============================] - ETA: 0s - loss: 0.1310 - accuracy: 0.9521\n",
            "Epoch 00034: val_accuracy did not improve from 0.92575\n",
            "437/437 [==============================] - 327s 749ms/step - loss: 0.1310 - accuracy: 0.9521 - val_loss: 0.2090 - val_accuracy: 0.9203\n",
            "Epoch 35/50\n",
            "437/437 [==============================] - ETA: 0s - loss: 0.1293 - accuracy: 0.9519\n",
            "Epoch 00035: val_accuracy did not improve from 0.92575\n",
            "437/437 [==============================] - 326s 746ms/step - loss: 0.1293 - accuracy: 0.9519 - val_loss: 0.2042 - val_accuracy: 0.9174\n",
            "Epoch 36/50\n",
            "437/437 [==============================] - ETA: 0s - loss: 0.1304 - accuracy: 0.9486\n",
            "Epoch 00036: val_accuracy did not improve from 0.92575\n",
            "437/437 [==============================] - 326s 746ms/step - loss: 0.1304 - accuracy: 0.9486 - val_loss: 0.1921 - val_accuracy: 0.9223\n",
            "Epoch 37/50\n",
            "437/437 [==============================] - ETA: 0s - loss: 0.1255 - accuracy: 0.9527\n",
            "Epoch 00037: val_accuracy did not improve from 0.92575\n",
            "437/437 [==============================] - 328s 750ms/step - loss: 0.1255 - accuracy: 0.9527 - val_loss: 0.2094 - val_accuracy: 0.9146\n",
            "Epoch 38/50\n",
            "437/437 [==============================] - ETA: 0s - loss: 0.1276 - accuracy: 0.9543\n",
            "Epoch 00038: val_accuracy did not improve from 0.92575\n",
            "437/437 [==============================] - 327s 749ms/step - loss: 0.1276 - accuracy: 0.9543 - val_loss: 0.2046 - val_accuracy: 0.9197\n",
            "Epoch 39/50\n",
            "437/437 [==============================] - ETA: 0s - loss: 0.1269 - accuracy: 0.9513\n",
            "Epoch 00039: val_accuracy did not improve from 0.92575\n",
            "437/437 [==============================] - 326s 745ms/step - loss: 0.1269 - accuracy: 0.9513 - val_loss: 0.1986 - val_accuracy: 0.9237\n",
            "Epoch 40/50\n",
            "437/437 [==============================] - ETA: 0s - loss: 0.1259 - accuracy: 0.9527\n",
            "Epoch 00040: val_accuracy did not improve from 0.92575\n",
            "437/437 [==============================] - 303s 695ms/step - loss: 0.1259 - accuracy: 0.9527 - val_loss: 0.2065 - val_accuracy: 0.9140\n",
            "Epoch 41/50\n",
            "437/437 [==============================] - ETA: 0s - loss: 0.1234 - accuracy: 0.9536\n",
            "Epoch 00041: val_accuracy did not improve from 0.92575\n",
            "437/437 [==============================] - 327s 749ms/step - loss: 0.1234 - accuracy: 0.9536 - val_loss: 0.1941 - val_accuracy: 0.9212\n",
            "Epoch 42/50\n",
            "437/437 [==============================] - ETA: 0s - loss: 0.1234 - accuracy: 0.9532\n",
            "Epoch 00042: val_accuracy did not improve from 0.92575\n",
            "437/437 [==============================] - 304s 697ms/step - loss: 0.1234 - accuracy: 0.9532 - val_loss: 0.2074 - val_accuracy: 0.9160\n",
            "Epoch 43/50\n",
            "437/437 [==============================] - ETA: 0s - loss: 0.1226 - accuracy: 0.9525\n",
            "Epoch 00043: val_accuracy did not improve from 0.92575\n",
            "437/437 [==============================] - 327s 748ms/step - loss: 0.1226 - accuracy: 0.9525 - val_loss: 0.2019 - val_accuracy: 0.9200\n",
            "Epoch 44/50\n",
            "437/437 [==============================] - ETA: 0s - loss: 0.1275 - accuracy: 0.9514\n",
            "Epoch 00044: val_accuracy did not improve from 0.92575\n",
            "437/437 [==============================] - 304s 696ms/step - loss: 0.1275 - accuracy: 0.9514 - val_loss: 0.1971 - val_accuracy: 0.9235\n",
            "Epoch 45/50\n",
            "437/437 [==============================] - ETA: 0s - loss: 0.1245 - accuracy: 0.9515\n",
            "Epoch 00045: val_accuracy did not improve from 0.92575\n",
            "437/437 [==============================] - 303s 693ms/step - loss: 0.1245 - accuracy: 0.9515 - val_loss: 0.2034 - val_accuracy: 0.9169\n",
            "Epoch 46/50\n",
            "437/437 [==============================] - ETA: 0s - loss: 0.1268 - accuracy: 0.9523\n",
            "Epoch 00046: val_accuracy did not improve from 0.92575\n",
            "437/437 [==============================] - 325s 745ms/step - loss: 0.1268 - accuracy: 0.9523 - val_loss: 0.2077 - val_accuracy: 0.9183\n",
            "Epoch 47/50\n",
            "437/437 [==============================] - ETA: 0s - loss: 0.1242 - accuracy: 0.9526\n",
            "Epoch 00047: val_accuracy did not improve from 0.92575\n",
            "437/437 [==============================] - 300s 686ms/step - loss: 0.1242 - accuracy: 0.9526 - val_loss: 0.2117 - val_accuracy: 0.9128\n",
            "Epoch 48/50\n",
            "437/437 [==============================] - ETA: 0s - loss: 0.1245 - accuracy: 0.9541\n",
            "Epoch 00048: val_accuracy did not improve from 0.92575\n",
            "437/437 [==============================] - 323s 740ms/step - loss: 0.1245 - accuracy: 0.9541 - val_loss: 0.2049 - val_accuracy: 0.9166\n",
            "Epoch 49/50\n",
            "437/437 [==============================] - ETA: 0s - loss: 0.1160 - accuracy: 0.9549\n",
            "Epoch 00049: val_accuracy did not improve from 0.92575\n",
            "437/437 [==============================] - 299s 685ms/step - loss: 0.1160 - accuracy: 0.9549 - val_loss: 0.2000 - val_accuracy: 0.9194\n",
            "Epoch 00049: early stopping\n"
          ]
        },
        {
          "output_type": "display_data",
          "data": {
            "image/png": "[encoded data removed]",
            "text/plain": [
              "<Figure size 432x288 with 1 Axes>"
            ]
          },
          "metadata": {
            "needs_background": "light"
          }
        }
      ]
    },
    {
      "cell_type": "code",
      "metadata": {
        "id": "CQipNDDBnlMC"
      },
      "source": [
        ""
      ],
      "execution_count": null,
      "outputs": []
    },
    {
      "cell_type": "code",
      "metadata": {
        "colab": {
          "base_uri": "https://localhost:8080/"
        },
        "id": "8dTBo2SW8ohT",
        "outputId": "2136696e-f0b7-458d-f2bd-e80da14184ad"
      },
      "source": [
        "evaluate_model(model, '/content/drive/MyDrive/DATN/dataset/test', 64) # need change"
      ],
      "execution_count": 19,
      "outputs": [
        {
          "output_type": "stream",
          "name": "stdout",
          "text": [
            "Found 1945 images belonging to 2 classes.\n",
            "31/31 [==============================] - 6s 195ms/step - loss: 0.0906 - accuracy: 0.9650\n"
          ]
        },
        {
          "output_type": "execute_result",
          "data": {
            "text/plain": [
              "[0.09062524884939194, 0.965038537979126]"
            ]
          },
          "metadata": {},
          "execution_count": 19
        }
      ]
    },
    {
      "cell_type": "code",
      "metadata": {
        "colab": {
          "base_uri": "https://localhost:8080/",
          "height": 305
        },
        "id": "soOOtKEf8ynu",
        "outputId": "3e3e9a92-b5cb-4428-c245-e41cd6197fe0"
      },
      "source": [
        "print(get_classification_report(model, '/content/drive/MyDrive/DATN/dataset/test')) #need change"
      ],
      "execution_count": 25,
      "outputs": [
        {
          "output_type": "stream",
          "name": "stdout",
          "text": [
            "Found 1945 images belonging to 2 classes.\n",
            "31/31 [==============================] - 6s 195ms/step\n"
          ]
        },
        {
          "output_type": "error",
          "ename": "ValueError",
          "evalue": "ignored",
          "traceback": [
            "\u001b[0;31m---------------------------------------------------------------------------\u001b[0m",
            "\u001b[0;31mValueError\u001b[0m                                Traceback (most recent call last)",
            "\u001b[0;32m<ipython-input-25-96e85b6c241c>\u001b[0m in \u001b[0;36m<module>\u001b[0;34m()\u001b[0m\n\u001b[0;32m----> 1\u001b[0;31m \u001b[0mprint\u001b[0m\u001b[0;34m(\u001b[0m\u001b[0mget_classification_report\u001b[0m\u001b[0;34m(\u001b[0m\u001b[0mmodel\u001b[0m\u001b[0;34m,\u001b[0m \u001b[0;34m'/content/drive/MyDrive/DATN/dataset/test'\u001b[0m\u001b[0;34m)\u001b[0m\u001b[0;34m)\u001b[0m \u001b[0;31m#need change\u001b[0m\u001b[0;34m\u001b[0m\u001b[0;34m\u001b[0m\u001b[0m\n\u001b[0m",
            "\u001b[0;32m<ipython-input-24-4b07f88eee6b>\u001b[0m in \u001b[0;36mget_classification_report\u001b[0;34m(model, data_dir, batch_size, steps, threshold, output_dict)\u001b[0m\n\u001b[1;32m      6\u001b[0m     \u001b[0mpredictions\u001b[0m \u001b[0;34m=\u001b[0m \u001b[0mpredict\u001b[0m\u001b[0;34m(\u001b[0m\u001b[0mmodel\u001b[0m\u001b[0;34m,\u001b[0m \u001b[0mdata\u001b[0m\u001b[0;34m,\u001b[0m \u001b[0msteps\u001b[0m\u001b[0;34m,\u001b[0m \u001b[0mthreshold\u001b[0m\u001b[0;34m)\u001b[0m\u001b[0;34m\u001b[0m\u001b[0;34m\u001b[0m\u001b[0m\n\u001b[1;32m      7\u001b[0m     \u001b[0mpredictions\u001b[0m \u001b[0;34m=\u001b[0m \u001b[0mnp\u001b[0m\u001b[0;34m.\u001b[0m\u001b[0masarray\u001b[0m\u001b[0;34m(\u001b[0m\u001b[0mpredictions\u001b[0m\u001b[0;34m)\u001b[0m\u001b[0;34m\u001b[0m\u001b[0;34m\u001b[0m\u001b[0m\n\u001b[0;32m----> 8\u001b[0;31m     \u001b[0mpredictions\u001b[0m \u001b[0;34m=\u001b[0m \u001b[0mpredictions\u001b[0m\u001b[0;34m.\u001b[0m\u001b[0mreshape\u001b[0m\u001b[0;34m(\u001b[0m\u001b[0;34m(\u001b[0m\u001b[0mpredictions\u001b[0m\u001b[0;34m.\u001b[0m\u001b[0mshape\u001b[0m\u001b[0;34m[\u001b[0m\u001b[0;36m0\u001b[0m\u001b[0;34m]\u001b[0m\u001b[0;34m,\u001b[0m\u001b[0;34m)\u001b[0m\u001b[0;34m)\u001b[0m\u001b[0;34m\u001b[0m\u001b[0;34m\u001b[0m\u001b[0m\n\u001b[0m\u001b[1;32m      9\u001b[0m     \u001b[0;32mreturn\u001b[0m \u001b[0mclassification_report\u001b[0m\u001b[0;34m(\u001b[0m\u001b[0mdata\u001b[0m\u001b[0;34m.\u001b[0m\u001b[0mclasses\u001b[0m\u001b[0;34m,\u001b[0m \u001b[0mpredictions\u001b[0m\u001b[0;34m,\u001b[0m \u001b[0moutput_dict\u001b[0m\u001b[0;34m=\u001b[0m\u001b[0moutput_dict\u001b[0m\u001b[0;34m)\u001b[0m\u001b[0;34m\u001b[0m\u001b[0;34m\u001b[0m\u001b[0m\n",
            "\u001b[0;31mValueError\u001b[0m: cannot reshape array of size 3890 into shape (2,)"
          ]
        }
      ]
    },
    {
      "cell_type": "code",
      "metadata": {
        "id": "M6PIiwG083iL"
      },
      "source": [
        "def get_classification_report(\n",
        "    model, data_dir, batch_size=64,\n",
        "    steps=None, threshold=0.5, output_dict=False\n",
        "):\n",
        "    data = get_test_data_generator(data_dir, batch_size=batch_size)\n",
        "    predictions = predict(model, data, steps, threshold)\n",
        "    \n",
        "    return classification_report(data.classes, predictions, output_dict=output_dict)"
      ],
      "execution_count": 26,
      "outputs": []
    },
    {
      "cell_type": "code",
      "metadata": {
        "id": "B2ezlojdvcUc"
      },
      "source": [
        ""
      ],
      "execution_count": null,
      "outputs": []
    },
    {
      "cell_type": "code",
      "metadata": {
        "colab": {
          "base_uri": "https://localhost:8080/"
        },
        "id": "gE8rB16du9ln",
        "outputId": "514728b0-6aab-48f4-cfda-e19ef137fab8"
      },
      "source": [
        "test_data_dir = '/content/drive/MyDrive/DATN/dataset/test'\n",
        "test_set = get_test_data_generator(test_data_dir, batch_size=64)"
      ],
      "execution_count": 31,
      "outputs": [
        {
          "output_type": "stream",
          "name": "stdout",
          "text": [
            "Found 1945 images belonging to 2 classes.\n"
          ]
        }
      ]
    },
    {
      "cell_type": "code",
      "metadata": {
        "colab": {
          "base_uri": "https://localhost:8080/"
        },
        "id": "so94PN3hngWB",
        "outputId": "903cb02c-76e9-4915-9686-c1ad7353f1ee"
      },
      "source": [
        "y_pred = model.predict_generator(test_set)\n",
        "y_test = test_set.classes"
      ],
      "execution_count": 37,
      "outputs": [
        {
          "output_type": "stream",
          "name": "stderr",
          "text": [
            "/usr/local/lib/python3.7/dist-packages/ipykernel_launcher.py:1: UserWarning: `Model.predict_generator` is deprecated and will be removed in a future version. Please use `Model.predict`, which supports generators.\n",
            "  \"\"\"Entry point for launching an IPython kernel.\n"
          ]
        }
      ]
    },
    {
      "cell_type": "code",
      "metadata": {
        "colab": {
          "base_uri": "https://localhost:8080/"
        },
        "id": "Gih67aXdu6sj",
        "outputId": "5d46836a-7464-4cff-fe58-9156a55910b6"
      },
      "source": [
        "from sklearn import metrics\n",
        "print(\"ROC AUC Score:\", metrics.roc_auc_score(y_test, y_pred))\n",
        "print(\"AP Score:\", metrics.average_precision_score(y_test, y_pred))\n",
        "print()\n",
        "print(metrics.classification_report(y_test, y_pred > 0.5))"
      ],
      "execution_count": 34,
      "outputs": [
        {
          "output_type": "stream",
          "name": "stdout",
          "text": [
            "ROC AUC Score: 0.995330184803152\n",
            "AP Score: 0.9965367969451524\n",
            "\n",
            "              precision    recall  f1-score   support\n",
            "\n",
            "           0       0.97      0.94      0.96       828\n",
            "           1       0.96      0.98      0.97      1117\n",
            "\n",
            "    accuracy                           0.97      1945\n",
            "   macro avg       0.97      0.96      0.96      1945\n",
            "weighted avg       0.97      0.97      0.96      1945\n",
            "\n"
          ]
        }
      ]
    },
    {
      "cell_type": "code",
      "metadata": {
        "colab": {
          "base_uri": "https://localhost:8080/",
          "height": 311
        },
        "id": "lJtTXnt50dSP",
        "outputId": "15fb872e-bfa0-4477-c411-d48ce9205e34"
      },
      "source": [
        "print(\"Accuracy\", metrics.accuracy_score(y_test, y_pred))"
      ],
      "execution_count": 51,
      "outputs": [
        {
          "output_type": "error",
          "ename": "ValueError",
          "evalue": "ignored",
          "traceback": [
            "\u001b[0;31m---------------------------------------------------------------------------\u001b[0m",
            "\u001b[0;31mValueError\u001b[0m                                Traceback (most recent call last)",
            "\u001b[0;32m<ipython-input-51-835b24cafe32>\u001b[0m in \u001b[0;36m<module>\u001b[0;34m()\u001b[0m\n\u001b[0;32m----> 1\u001b[0;31m \u001b[0mprint\u001b[0m\u001b[0;34m(\u001b[0m\u001b[0;34m\"Accuracy\"\u001b[0m\u001b[0;34m,\u001b[0m \u001b[0mmetrics\u001b[0m\u001b[0;34m.\u001b[0m\u001b[0maccuracy_score\u001b[0m\u001b[0;34m(\u001b[0m\u001b[0my_test\u001b[0m\u001b[0;34m,\u001b[0m \u001b[0my_pred\u001b[0m\u001b[0;34m)\u001b[0m\u001b[0;34m)\u001b[0m\u001b[0;34m\u001b[0m\u001b[0;34m\u001b[0m\u001b[0m\n\u001b[0m",
            "\u001b[0;32m/usr/local/lib/python3.7/dist-packages/sklearn/metrics/_classification.py\u001b[0m in \u001b[0;36maccuracy_score\u001b[0;34m(y_true, y_pred, normalize, sample_weight)\u001b[0m\n\u001b[1;32m    203\u001b[0m \u001b[0;34m\u001b[0m\u001b[0m\n\u001b[1;32m    204\u001b[0m     \u001b[0;31m# Compute accuracy for each possible representation\u001b[0m\u001b[0;34m\u001b[0m\u001b[0;34m\u001b[0m\u001b[0;34m\u001b[0m\u001b[0m\n\u001b[0;32m--> 205\u001b[0;31m     \u001b[0my_type\u001b[0m\u001b[0;34m,\u001b[0m \u001b[0my_true\u001b[0m\u001b[0;34m,\u001b[0m \u001b[0my_pred\u001b[0m \u001b[0;34m=\u001b[0m \u001b[0m_check_targets\u001b[0m\u001b[0;34m(\u001b[0m\u001b[0my_true\u001b[0m\u001b[0;34m,\u001b[0m \u001b[0my_pred\u001b[0m\u001b[0;34m)\u001b[0m\u001b[0;34m\u001b[0m\u001b[0;34m\u001b[0m\u001b[0m\n\u001b[0m\u001b[1;32m    206\u001b[0m     \u001b[0mcheck_consistent_length\u001b[0m\u001b[0;34m(\u001b[0m\u001b[0my_true\u001b[0m\u001b[0;34m,\u001b[0m \u001b[0my_pred\u001b[0m\u001b[0;34m,\u001b[0m \u001b[0msample_weight\u001b[0m\u001b[0;34m)\u001b[0m\u001b[0;34m\u001b[0m\u001b[0;34m\u001b[0m\u001b[0m\n\u001b[1;32m    207\u001b[0m     \u001b[0;32mif\u001b[0m \u001b[0my_type\u001b[0m\u001b[0;34m.\u001b[0m\u001b[0mstartswith\u001b[0m\u001b[0;34m(\u001b[0m\u001b[0;34m\"multilabel\"\u001b[0m\u001b[0;34m)\u001b[0m\u001b[0;34m:\u001b[0m\u001b[0;34m\u001b[0m\u001b[0;34m\u001b[0m\u001b[0m\n",
            "\u001b[0;32m/usr/local/lib/python3.7/dist-packages/sklearn/metrics/_classification.py\u001b[0m in \u001b[0;36m_check_targets\u001b[0;34m(y_true, y_pred)\u001b[0m\n\u001b[1;32m     93\u001b[0m         raise ValueError(\n\u001b[1;32m     94\u001b[0m             \"Classification metrics can't handle a mix of {0} and {1} targets\".format(\n\u001b[0;32m---> 95\u001b[0;31m                 \u001b[0mtype_true\u001b[0m\u001b[0;34m,\u001b[0m \u001b[0mtype_pred\u001b[0m\u001b[0;34m\u001b[0m\u001b[0;34m\u001b[0m\u001b[0m\n\u001b[0m\u001b[1;32m     96\u001b[0m             )\n\u001b[1;32m     97\u001b[0m         )\n",
            "\u001b[0;31mValueError\u001b[0m: Classification metrics can't handle a mix of binary and continuous targets"
          ]
        }
      ]
    },
    {
      "cell_type": "code",
      "metadata": {
        "colab": {
          "base_uri": "https://localhost:8080/"
        },
        "id": "B08zfivfxB5z",
        "outputId": "ff89a910-8710-485e-f432-5b6212e77aab"
      },
      "source": [
        "from sklearn.metrics import confusion_matrix\n",
        "tn, fp, fn, tp = confusion_matrix(y_test, y_pred>0.5).ravel()\n",
        "\n",
        "a = fp / (fp+tn)\n",
        "b = fn / (tp+fn)\n",
        "c = 2*a*b / (a+b)\n",
        "print(a, b, c)"
      ],
      "execution_count": 38,
      "outputs": [
        {
          "output_type": "stream",
          "name": "stdout",
          "text": [
            "0.05676328502415459 0.018800358102059087 0.02824559646286148\n"
          ]
        }
      ]
    },
    {
      "cell_type": "code",
      "metadata": {
        "colab": {
          "base_uri": "https://localhost:8080/"
        },
        "id": "EB8E9v4CxMqZ",
        "outputId": "48421639-f44e-47ff-8e83-158e6202cb68"
      },
      "source": [
        "print(tn, fp, fn, tp)"
      ],
      "execution_count": 39,
      "outputs": [
        {
          "output_type": "stream",
          "name": "stdout",
          "text": [
            "781 47 21 1096\n"
          ]
        }
      ]
    },
    {
      "cell_type": "code",
      "metadata": {
        "colab": {
          "base_uri": "https://localhost:8080/",
          "height": 235
        },
        "id": "MoFeIIK6x0Ru",
        "outputId": "a09a755a-16d1-4885-933e-2cad2b855278"
      },
      "source": [
        "\n",
        "import matplotlib.pyplot as plt\n",
        "from sklearn.metrics import plot_roc_curve\n",
        "from sklearn.metrics import roc_curve\n",
        "\n",
        "fpr,tpr,_ = roc_curve(y_test, y_pred)\n",
        "plt.plot(fpr,tpr, label='AUC = ' + str(round(roc_auc_score(y,m.oob_decision_function_[:,1]), 2)))\n",
        "plt.legend(loc='lower right')\n",
        "plt.show()"
      ],
      "execution_count": 46,
      "outputs": [
        {
          "output_type": "error",
          "ename": "NameError",
          "evalue": "ignored",
          "traceback": [
            "\u001b[0;31m---------------------------------------------------------------------------\u001b[0m",
            "\u001b[0;31mNameError\u001b[0m                                 Traceback (most recent call last)",
            "\u001b[0;32m<ipython-input-46-97ce05d63ff6>\u001b[0m in \u001b[0;36m<module>\u001b[0;34m()\u001b[0m\n\u001b[1;32m      5\u001b[0m \u001b[0;34m\u001b[0m\u001b[0m\n\u001b[1;32m      6\u001b[0m \u001b[0mfpr\u001b[0m\u001b[0;34m,\u001b[0m\u001b[0mtpr\u001b[0m\u001b[0;34m,\u001b[0m\u001b[0m_\u001b[0m \u001b[0;34m=\u001b[0m \u001b[0mroc_curve\u001b[0m\u001b[0;34m(\u001b[0m\u001b[0my_test\u001b[0m\u001b[0;34m,\u001b[0m \u001b[0my_pred\u001b[0m\u001b[0;34m)\u001b[0m\u001b[0;34m\u001b[0m\u001b[0;34m\u001b[0m\u001b[0m\n\u001b[0;32m----> 7\u001b[0;31m \u001b[0mplt\u001b[0m\u001b[0;34m.\u001b[0m\u001b[0mplot\u001b[0m\u001b[0;34m(\u001b[0m\u001b[0mfpr\u001b[0m\u001b[0;34m,\u001b[0m\u001b[0mtpr\u001b[0m\u001b[0;34m,\u001b[0m \u001b[0mlabel\u001b[0m\u001b[0;34m=\u001b[0m\u001b[0;34m'AUC = '\u001b[0m \u001b[0;34m+\u001b[0m \u001b[0mstr\u001b[0m\u001b[0;34m(\u001b[0m\u001b[0mround\u001b[0m\u001b[0;34m(\u001b[0m\u001b[0mroc_auc_score\u001b[0m\u001b[0;34m(\u001b[0m\u001b[0my\u001b[0m\u001b[0;34m,\u001b[0m\u001b[0mm\u001b[0m\u001b[0;34m.\u001b[0m\u001b[0moob_decision_function_\u001b[0m\u001b[0;34m[\u001b[0m\u001b[0;34m:\u001b[0m\u001b[0;34m,\u001b[0m\u001b[0;36m1\u001b[0m\u001b[0;34m]\u001b[0m\u001b[0;34m)\u001b[0m\u001b[0;34m,\u001b[0m \u001b[0;36m2\u001b[0m\u001b[0;34m)\u001b[0m\u001b[0;34m)\u001b[0m\u001b[0;34m)\u001b[0m\u001b[0;34m\u001b[0m\u001b[0;34m\u001b[0m\u001b[0m\n\u001b[0m\u001b[1;32m      8\u001b[0m \u001b[0mplt\u001b[0m\u001b[0;34m.\u001b[0m\u001b[0mlegend\u001b[0m\u001b[0;34m(\u001b[0m\u001b[0mloc\u001b[0m\u001b[0;34m=\u001b[0m\u001b[0;34m'lower right'\u001b[0m\u001b[0;34m)\u001b[0m\u001b[0;34m\u001b[0m\u001b[0;34m\u001b[0m\u001b[0m\n\u001b[1;32m      9\u001b[0m \u001b[0mplt\u001b[0m\u001b[0;34m.\u001b[0m\u001b[0mshow\u001b[0m\u001b[0;34m(\u001b[0m\u001b[0;34m)\u001b[0m\u001b[0;34m\u001b[0m\u001b[0;34m\u001b[0m\u001b[0m\n",
            "\u001b[0;31mNameError\u001b[0m: name 'roc_auc_score' is not defined"
          ]
        }
      ]
    },
    {
      "cell_type": "code",
      "metadata": {
        "colab": {
          "base_uri": "https://localhost:8080/",
          "height": 265
        },
        "id": "N-Ox4jKBzqWh",
        "outputId": "50ffddf3-23c5-4d50-d875-e955cb4cbe43"
      },
      "source": [
        "fpr, tpr, _ = metrics.roc_curve(y_test,  y_pred)\n",
        "auc = metrics.roc_auc_score(y_test, y_pred)\n",
        "plt.plot(fpr,tpr,label=\"AUC plot, auc=\"+str(auc))\n",
        "plt.legend(loc=4)\n",
        "plt.show()"
      ],
      "execution_count": 48,
      "outputs": [
        {
          "output_type": "display_data",
          "data": {
            "image/png": "[encoded data removed]",
            "text/plain": [
              "<Figure size 432x288 with 1 Axes>"
            ]
          },
          "metadata": {
            "needs_background": "light"
          }
        }
      ]
    },
    {
      "cell_type": "markdown",
      "metadata": {
        "id": "cs1F7DdExC0J"
      },
      "source": [
        "##Load_pre_trained_weights"
      ]
    },
    {
      "cell_type": "code",
      "metadata": {
        "id": "um46aD9JnpQr"
      },
      "source": [
        "model_exp = load_model('/content/drive/MyDrive/DATN/model1_18epochs_valacc0.9252.hdf5')"
      ],
      "execution_count": 21,
      "outputs": []
    },
    {
      "cell_type": "code",
      "metadata": {
        "colab": {
          "base_uri": "https://localhost:8080/"
        },
        "id": "XJiHKEHmn9s0",
        "outputId": "412ff8ce-88cd-4f38-9c43-c6ffd5cc53d5"
      },
      "source": [
        "evaluate_model(model_exp, '/content/drive/MyDrive/DATN/dataset/test', 64) # need change"
      ],
      "execution_count": 22,
      "outputs": [
        {
          "output_type": "stream",
          "name": "stdout",
          "text": [
            "Found 1945 images belonging to 2 classes.\n",
            "31/31 [==============================] - 6s 197ms/step - loss: 0.1006 - accuracy: 0.9604\n"
          ]
        },
        {
          "output_type": "execute_result",
          "data": {
            "text/plain": [
              "[0.10064361989498138, 0.9604113101959229]"
            ]
          },
          "metadata": {},
          "execution_count": 22
        }
      ]
    },
    {
      "cell_type": "code",
      "metadata": {
        "colab": {
          "base_uri": "https://localhost:8080/"
        },
        "id": "A5hs9GTgn--v",
        "outputId": "98fd3c3f-1233-4d95-b9b0-92af51dca497"
      },
      "source": [
        "y_pred_1 = model_exp.predict_generator(test_set)\n",
        "y_test_1 = test_set.classes"
      ],
      "execution_count": 40,
      "outputs": [
        {
          "output_type": "stream",
          "name": "stderr",
          "text": [
            "/usr/local/lib/python3.7/dist-packages/ipykernel_launcher.py:1: UserWarning: `Model.predict_generator` is deprecated and will be removed in a future version. Please use `Model.predict`, which supports generators.\n",
            "  \"\"\"Entry point for launching an IPython kernel.\n"
          ]
        }
      ]
    },
    {
      "cell_type": "code",
      "metadata": {
        "colab": {
          "base_uri": "https://localhost:8080/"
        },
        "id": "MFKyHmjbwwd9",
        "outputId": "a48218bd-8f3e-41a2-846d-fc1e7768bd6e"
      },
      "source": [
        "from sklearn import metrics\n",
        "print(\"ROC AUC Score:\", metrics.roc_auc_score(y_test_1, y_pred_1))\n",
        "print(\"AP Score:\", metrics.average_precision_score(y_test_1, y_pred_1))\n",
        "print()\n",
        "print(metrics.classification_report(y_test_1, y_pred_1 > 0.5))"
      ],
      "execution_count": 49,
      "outputs": [
        {
          "output_type": "stream",
          "name": "stdout",
          "text": [
            "ROC AUC Score: 0.9950912338518895\n",
            "AP Score: 0.9964209445982397\n",
            "\n",
            "              precision    recall  f1-score   support\n",
            "\n",
            "           0       0.97      0.93      0.95       828\n",
            "           1       0.95      0.98      0.97      1117\n",
            "\n",
            "    accuracy                           0.96      1945\n",
            "   macro avg       0.96      0.96      0.96      1945\n",
            "weighted avg       0.96      0.96      0.96      1945\n",
            "\n"
          ]
        }
      ]
    },
    {
      "cell_type": "code",
      "metadata": {
        "colab": {
          "base_uri": "https://localhost:8080/"
        },
        "id": "OPn9jacPxS_J",
        "outputId": "516e9287-f820-43db-b2e9-5c6245b9e777"
      },
      "source": [
        "from sklearn.metrics import confusion_matrix\n",
        "tn, fp, fn, tp = confusion_matrix(y_test_1, y_pred_1>0.5).ravel()\n",
        "\n",
        "a = fp / (fp+tn)\n",
        "b = fn / (tp+fn)\n",
        "c = 2*a*b / (a+b)\n",
        "print(a, b, c)"
      ],
      "execution_count": 42,
      "outputs": [
        {
          "output_type": "stream",
          "name": "stdout",
          "text": [
            "0.06884057971014493 0.017905102954341987 0.02841865160976704\n"
          ]
        }
      ]
    },
    {
      "cell_type": "code",
      "metadata": {
        "colab": {
          "base_uri": "https://localhost:8080/"
        },
        "id": "zJ0asmi8xTpn",
        "outputId": "00447e23-a055-42c1-e884-52b4c3bf5237"
      },
      "source": [
        "print(tn, fp, fn, tp)"
      ],
      "execution_count": 43,
      "outputs": [
        {
          "output_type": "stream",
          "name": "stdout",
          "text": [
            "771 57 20 1097\n"
          ]
        }
      ]
    },
    {
      "cell_type": "code",
      "metadata": {
        "colab": {
          "base_uri": "https://localhost:8080/",
          "height": 265
        },
        "id": "uGVHS-U30HWC",
        "outputId": "54197e29-3690-4ae5-b6bd-e002768d1997"
      },
      "source": [
        "fpr, tpr, _ = metrics.roc_curve(y_test_1,  y_pred_1)\n",
        "auc = metrics.roc_auc_score(y_test_1, y_pred_1)\n",
        "plt.plot(fpr,tpr,label=\"AUC plot, auc=\"+str(auc))\n",
        "plt.legend(loc=4)\n",
        "plt.show()"
      ],
      "execution_count": 50,
      "outputs": [
        {
          "output_type": "display_data",
          "data": {
            "image/png": "[encoded data removed]",
            "text/plain": [
              "<Figure size 432x288 with 1 Axes>"
            ]
          },
          "metadata": {
            "needs_background": "light"
          }
        }
      ]
    }
  ]
}