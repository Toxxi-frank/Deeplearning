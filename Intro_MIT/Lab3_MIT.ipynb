{
  "nbformat": 4,
  "nbformat_minor": 0,
  "metadata": {
    "colab": {
      "name": "Lab3_MIT.ipynb",
      "provenance": [],
      "authorship_tag": "ABX9TyNqDAWF2c3dcn3uRy+I+cLn",
      "include_colab_link": true
    },
    "kernelspec": {
      "name": "python3",
      "display_name": "Python 3"
    },
    "language_info": {
      "name": "python"
    }
  },
  "cells": [
    {
      "cell_type": "markdown",
      "metadata": {
        "id": "view-in-github",
        "colab_type": "text"
      },
      "source": [
        "<a href=\"https://colab.research.google.com/github/Toxxi-frank/Deeplearning/blob/main/Lab3_MIT.ipynb\" target=\"_parent\"><img src=\"https://colab.research.google.com/assets/colab-badge.svg\" alt=\"Open In Colab\"/></a>"
      ]
    },
    {
      "cell_type": "code",
      "metadata": {
        "id": "bTM-9P6bWvKA"
      },
      "source": [
        "!apt-get install -y xvfb python-opengl x11-utils > /dev/null 2>&1\n",
        "!pip install gym pyvirtualdisplay scikit-video > /dev/null 2>&1"
      ],
      "execution_count": null,
      "outputs": []
    },
    {
      "cell_type": "code",
      "metadata": {
        "id": "DGUjqN3faGmc"
      },
      "source": [
        "import base64, io, time, gym"
      ],
      "execution_count": null,
      "outputs": []
    },
    {
      "cell_type": "code",
      "metadata": {
        "id": "sF2gN_QOZ_z7"
      },
      "source": [
        "import tensorflow as tf\n",
        "import IPython, functools\n",
        "import time\n",
        "import matplotlib.pyplot as plt\n",
        "from tqdm import tqdm "
      ],
      "execution_count": null,
      "outputs": []
    },
    {
      "cell_type": "code",
      "metadata": {
        "colab": {
          "base_uri": "https://localhost:8080/"
        },
        "id": "wApegi5oajfT",
        "outputId": "610c45cc-3f23-4edb-a4d4-cc62bbba8df9"
      },
      "source": [
        "!pip install mitdeeplearning"
      ],
      "execution_count": null,
      "outputs": [
        {
          "output_type": "stream",
          "text": [
            "Collecting mitdeeplearning\n",
            "\u001b[?25l  Downloading https://files.pythonhosted.org/packages/9d/ad/650eb53c0d9d1213536fe94bc150f89b564ff5ee784bd662272584bb091b/mitdeeplearning-0.2.0.tar.gz (2.1MB)\n",
            "\u001b[K     |████████████████████████████████| 2.1MB 3.9MB/s \n",
            "\u001b[?25hRequirement already satisfied: numpy in /usr/local/lib/python3.7/dist-packages (from mitdeeplearning) (1.19.5)\n",
            "Requirement already satisfied: regex in /usr/local/lib/python3.7/dist-packages (from mitdeeplearning) (2019.12.20)\n",
            "Requirement already satisfied: tqdm in /usr/local/lib/python3.7/dist-packages (from mitdeeplearning) (4.41.1)\n",
            "Requirement already satisfied: gym in /usr/local/lib/python3.7/dist-packages (from mitdeeplearning) (0.17.3)\n",
            "Requirement already satisfied: cloudpickle<1.7.0,>=1.2.0 in /usr/local/lib/python3.7/dist-packages (from gym->mitdeeplearning) (1.3.0)\n",
            "Requirement already satisfied: pyglet<=1.5.0,>=1.4.0 in /usr/local/lib/python3.7/dist-packages (from gym->mitdeeplearning) (1.5.0)\n",
            "Requirement already satisfied: scipy in /usr/local/lib/python3.7/dist-packages (from gym->mitdeeplearning) (1.4.1)\n",
            "Requirement already satisfied: future in /usr/local/lib/python3.7/dist-packages (from pyglet<=1.5.0,>=1.4.0->gym->mitdeeplearning) (0.16.0)\n",
            "Building wheels for collected packages: mitdeeplearning\n",
            "  Building wheel for mitdeeplearning (setup.py) ... \u001b[?25l\u001b[?25hdone\n",
            "  Created wheel for mitdeeplearning: filename=mitdeeplearning-0.2.0-cp37-none-any.whl size=2115441 sha256=a10024be063a22d323beb33c260ba2a138200390a5bd9ec2ece9d22b3867f434\n",
            "  Stored in directory: /root/.cache/pip/wheels/af/dc/2a/5c3633135e7e4ef4fd31463cfa1942cb1bae7486ab94e7a2ad\n",
            "Successfully built mitdeeplearning\n",
            "Installing collected packages: mitdeeplearning\n",
            "Successfully installed mitdeeplearning-0.2.0\n"
          ],
          "name": "stdout"
        }
      ]
    },
    {
      "cell_type": "code",
      "metadata": {
        "id": "2MX81awjam-Z"
      },
      "source": [
        "import mitdeeplearning as mdl"
      ],
      "execution_count": null,
      "outputs": []
    },
    {
      "cell_type": "code",
      "metadata": {
        "colab": {
          "base_uri": "https://localhost:8080/"
        },
        "id": "RJAF3BJcasfj",
        "outputId": "1f307033-e45e-4730-f631-5f9a2ef77751"
      },
      "source": [
        "env = gym.make('CartPole-v0')\n",
        "env.seed(1)"
      ],
      "execution_count": null,
      "outputs": [
        {
          "output_type": "execute_result",
          "data": {
            "text/plain": [
              "[1]"
            ]
          },
          "metadata": {
            "tags": []
          },
          "execution_count": 7
        }
      ]
    },
    {
      "cell_type": "code",
      "metadata": {
        "id": "HitIND1EbIty"
      },
      "source": [
        "n_observations = env.observation_space"
      ],
      "execution_count": null,
      "outputs": []
    },
    {
      "cell_type": "code",
      "metadata": {
        "colab": {
          "base_uri": "https://localhost:8080/"
        },
        "id": "ZWoFqPGAbSki",
        "outputId": "b3d9ba7c-6de0-4d56-a622-774c9f11ad10"
      },
      "source": [
        "print('Environment has observation space= ', n_observations)"
      ],
      "execution_count": null,
      "outputs": [
        {
          "output_type": "stream",
          "text": [
            "Environment has observation space=  Box(-3.4028234663852886e+38, 3.4028234663852886e+38, (4,), float32)\n"
          ],
          "name": "stdout"
        }
      ]
    },
    {
      "cell_type": "code",
      "metadata": {
        "id": "JmXynE4Xbg9r"
      },
      "source": [
        "n_actions = env.action_space.n"
      ],
      "execution_count": null,
      "outputs": []
    },
    {
      "cell_type": "code",
      "metadata": {
        "colab": {
          "base_uri": "https://localhost:8080/"
        },
        "id": "fZ5j6JZ3bprC",
        "outputId": "19bed7b5-362e-4a04-e018-12ef0058a940"
      },
      "source": [
        "print('Number of possible actions that the agent can choose from = ', n_actions)"
      ],
      "execution_count": null,
      "outputs": [
        {
          "output_type": "stream",
          "text": [
            "Number of possible actions that the agent can choose from =  2\n"
          ],
          "name": "stdout"
        }
      ]
    },
    {
      "cell_type": "code",
      "metadata": {
        "id": "LFomPzvLbyoD"
      },
      "source": [
        "def create_cartpole_model():\n",
        "  model= tf.keras.models.Sequential([\n",
        "            tf.keras.layers.Dense(unist=32, activation='relu'),\n",
        "            tf.keras.layers.Dense(units=n_actions, activation='None')                         \n",
        "  ])\n",
        "  return model"
      ],
      "execution_count": null,
      "outputs": []
    },
    {
      "cell_type": "code",
      "metadata": {
        "id": "oop738MddLlS"
      },
      "source": [
        "def create_cartpole_model():\n",
        "  model = tf.keras.models.Sequential([\n",
        "      # First Dense layer\n",
        "      tf.keras.layers.Dense(units=32, activation='relu'),\n",
        "\n",
        "      # TODO: Define the last Dense layer, which will provide the network's output.\n",
        "      # Think about the space the agent needs to act in!\n",
        "      tf.keras.layers.Dense(units=n_actions, activation=None) # TODO\n",
        "      # [TODO Dense layer to output action probabilities]\n",
        "  ])\n",
        "  return model"
      ],
      "execution_count": null,
      "outputs": []
    },
    {
      "cell_type": "code",
      "metadata": {
        "id": "El6Br75Uc_ja"
      },
      "source": [
        "cartpole_model = create_cartpole_model()"
      ],
      "execution_count": null,
      "outputs": []
    },
    {
      "cell_type": "code",
      "metadata": {
        "id": "OtxEXXkUdDZf"
      },
      "source": [
        "def choose_action(model, observation, single=True):\n",
        "  # add batch dimension to the observation if only a single example was provided\n",
        "  observation = np.expand_dims(observation, axis=0) if single else observation\n",
        "\n",
        "  '''TODO: feed the observations through the model to predict the log probabilities of each possible action.'''\n",
        "  logits = model.predict(observation) # TODO\n",
        "  # logits = model.predict('''TODO''')\n",
        "  \n",
        "  '''TODO: Choose an action from the categorical distribution defined by the log \n",
        "      probabilities of each possible action.'''\n",
        "  action = tf.random.categorical(logits, num_samples=1)\n",
        "  # action = ['''TODO''']\n",
        "\n",
        "  action = action.numpy().flatten()\n",
        "\n",
        "  return action[0] if single else action"
      ],
      "execution_count": null,
      "outputs": []
    },
    {
      "cell_type": "code",
      "metadata": {
        "id": "7f_ENb6FeeRd"
      },
      "source": [
        "class Memory:\n",
        "  def __init__(self): \n",
        "      self.clear()\n",
        "\n",
        "  # Resets/restarts the memory buffer\n",
        "  def clear(self): \n",
        "      self.observations = []\n",
        "      self.actions = []\n",
        "      self.rewards = []\n",
        "\n",
        "  # Add observations, actions, rewards to memory\n",
        "  def add_to_memory(self, new_observation, new_action, new_reward): \n",
        "      self.observations.append(new_observation)\n",
        "      '''TODO: update the list of actions with new action'''\n",
        "      self.actions.append(new_action) # TODO\n",
        "      # ['''TODO''']\n",
        "      '''TODO: update the list of rewards with new reward'''\n",
        "      self.rewards.append(new_reward) # TODO\n",
        "      # ['''TODO''']\n",
        "\n",
        "# Helper function to combine a list of Memory objects into a single Memory.\n",
        "#     This will be very useful for batching.\n",
        "def aggregate_memories(memories):\n",
        "  batch_memory = Memory()\n",
        "  \n",
        "  for memory in memories:\n",
        "    for step in zip(memory.observations, memory.actions, memory.rewards):\n",
        "      batch_memory.add_to_memory(*step)\n",
        "  \n",
        "  return batch_memory\n",
        "\n",
        "# Instantiate a single Memory buffer\n",
        "memory = Memory()\n",
        "  "
      ],
      "execution_count": null,
      "outputs": []
    },
    {
      "cell_type": "code",
      "metadata": {
        "id": "b5j8IZLrgAP9"
      },
      "source": [
        "def normalize(x):\n",
        "  x -= np.mean(x)\n",
        "  x /= np.std(x)\n",
        "  return x.astype(np.float32)\n",
        "\n",
        "# Compute normalized, discounted, cumulative rewards (i.e., return)\n",
        "# Arguments:\n",
        "#   rewards: reward at timesteps in episode\n",
        "#   gamma: discounting factor\n",
        "# Returns:\n",
        "#   normalized discounted reward\n",
        "def discount_rewards(rewards, gamma=0.95): \n",
        "  discounted_rewards = np.zeros_like(rewards)\n",
        "  R = 0\n",
        "  for t in reversed(range(0, len(rewards))):\n",
        "      # update the total discounted reward\n",
        "      R = R * gamma + rewards[t]\n",
        "      discounted_rewards[t] = R\n",
        "      \n",
        "  return normalize(discounted_rewards)"
      ],
      "execution_count": null,
      "outputs": []
    },
    {
      "cell_type": "code",
      "metadata": {
        "id": "cuG68ARVhDAp"
      },
      "source": [
        "def compute_loss(logits, actions, rewards): \n",
        "  '''TODO: complete the function call to compute the negative log probabilities'''\n",
        "  neg_logprob = tf.nn.sparse_softmax_cross_entropy_with_logits(\n",
        "      logits=logits, labels=actions) # TODO\n",
        "  # neg_logprob = tf.nn.sparse_softmax_cross_entropy_with_logits(\n",
        "  #    logits='''TODO''', labels='''TODO''')\n",
        "  \n",
        "  '''TODO: scale the negative log probability by the rewards'''\n",
        "  loss = tf.reduce_mean( neg_logprob * rewards ) # TODO\n",
        "  # loss = tf.reduce_mean('''TODO''')\n",
        "  return loss"
      ],
      "execution_count": null,
      "outputs": []
    },
    {
      "cell_type": "code",
      "metadata": {
        "id": "YoNbZkCkiGVn"
      },
      "source": [
        "def train_step(model, optimizer, observations, actions, discounted_rewards):\n",
        "  with tf.GradientTape() as tape:\n",
        "    logits = model(observations)\n",
        "    loss = compute_loss(logits, actions, discounted_rewards)\n",
        "\n",
        "  grads = tape.gradient(loss, model.trainable_variables)\n",
        "  optimizer.apply_gradients(zip(grads, model.trainable_variables)) "
      ],
      "execution_count": null,
      "outputs": []
    },
    {
      "cell_type": "code",
      "metadata": {
        "id": "87eB9FYAjeeb"
      },
      "source": [
        "import numpy as np\n"
      ],
      "execution_count": null,
      "outputs": []
    },
    {
      "cell_type": "code",
      "metadata": {
        "colab": {
          "base_uri": "https://localhost:8080/",
          "height": 541
        },
        "id": "6XqJfKjKi3gq",
        "outputId": "0a160567-8374-4925-f8cd-27f5a3001335"
      },
      "source": [
        "learning_rate = 1e-3\n",
        "optimizer = tf.keras.optimizers.Adam(learning_rate)\n",
        "\n",
        "# instantiate cartpole agent\n",
        "cartpole_model = create_cartpole_model()\n",
        "\n",
        "# to track our progress\n",
        "smoothed_reward = mdl.util.LossHistory(smoothing_factor=0.9)\n",
        "plotter = mdl.util.PeriodicPlotter(sec=2, xlabel='Iterations', ylabel='Rewards')\n",
        "\n",
        "if hasattr(tqdm, '_instances'): tqdm._instances.clear() # clear if it exists\n",
        "for i_episode in range(500):\n",
        "\n",
        "  plotter.plot(smoothed_reward.get())\n",
        "\n",
        "  # Restart the environment\n",
        "  observation = env.reset()\n",
        "  memory.clear()\n",
        "\n",
        "  while True:\n",
        "      # using our observation, choose an action and take it in the environment\n",
        "      action = choose_action(cartpole_model, observation)\n",
        "      next_observation, reward, done, info = env.step(action)\n",
        "      # add to memory\n",
        "      memory.add_to_memory(observation, action, reward)\n",
        "      \n",
        "      # is the episode over? did you crash or do so well that you're done?\n",
        "      if done:\n",
        "          # determine total reward and keep a record of this\n",
        "          total_reward = sum(memory.rewards)\n",
        "          smoothed_reward.append(total_reward)\n",
        "          \n",
        "          # initiate training - remember we don't know anything about how the \n",
        "          #   agent is doing until it has crashed!\n",
        "          train_step(cartpole_model, optimizer, \n",
        "                     observations=np.vstack(memory.observations),\n",
        "                     actions=np.array(memory.actions),\n",
        "                     discounted_rewards = discount_rewards(memory.rewards))\n",
        "          \n",
        "          # reset the memory\n",
        "          memory.clear()\n",
        "          break\n",
        "      # update our observatons\n",
        "      observation = next_observation"
      ],
      "execution_count": null,
      "outputs": [
        {
          "output_type": "display_data",
          "data": {
            "image/png": "[encoded data removed]",
            "text/plain": [
              "<Figure size 432x288 with 1 Axes>"
            ]
          },
          "metadata": {
            "tags": []
          }
        },
        {
          "output_type": "display_data",
          "data": {
            "image/png": "[encoded data removed]",
            "text/plain": [
              "<Figure size 432x288 with 1 Axes>"
            ]
          },
          "metadata": {
            "tags": [],
            "needs_background": "light"
          }
        }
      ]
    },
    {
      "cell_type": "code",
      "metadata": {
        "colab": {
          "base_uri": "https://localhost:8080/",
          "height": 439
        },
        "id": "V_rv5zl0jDBB",
        "outputId": "4d59773d-514e-4fbe-c8fd-9fced7e8f5ba"
      },
      "source": [
        "saved_cartpole = mdl.lab3.save_video_of_model(cartpole_model, \"CartPole-v0\")\n",
        "mdl.lab3.play_video(saved_cartpole)"
      ],
      "execution_count": null,
      "outputs": [
        {
          "output_type": "stream",
          "text": [
            "Successfully saved 200 frames into CartPole-v0.mp4!\n"
          ],
          "name": "stdout"
        },
        {
          "output_type": "execute_result",
          "data": {
            "text/html": [
              "\n",
              "        <video controls >\n",
              "            <source src=\"data:video/mp4;base64,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\" type=\"video/mp4\" />\n",
              "        </video>"
            ],
            "text/plain": [
              "<IPython.core.display.HTML object>"
            ]
          },
          "metadata": {
            "tags": []
          },
          "execution_count": 43
        }
      ]
    },
    {
      "cell_type": "code",
      "metadata": {
        "id": "Y9r3TErGerew"
      },
      "source": [
        ""
      ],
      "execution_count": null,
      "outputs": []
    },
    {
      "cell_type": "code",
      "metadata": {
        "id": "Iq7-z-bCk3KQ"
      },
      "source": [
        "def create_pong_env(): \n",
        "  return gym.make(\"Pong-v0\", frameskip=5)\n",
        "env1 = create_pong_env()\n",
        "env1.seed(1) # for reproducibility"
      ],
      "execution_count": null,
      "outputs": []
    },
    {
      "cell_type": "code",
      "metadata": {
        "colab": {
          "base_uri": "https://localhost:8080/"
        },
        "id": "Ygo1igBwlH6w",
        "outputId": "41eaf83f-13be-4543-81ce-682bf93ff354"
      },
      "source": [
        "\n",
        "print(\"Environment has observation space =\", env.observation_space)"
      ],
      "execution_count": null,
      "outputs": [
        {
          "output_type": "stream",
          "text": [
            "Environment has observation space = Box(-3.4028234663852886e+38, 3.4028234663852886e+38, (4,), float32)\n"
          ],
          "name": "stdout"
        }
      ]
    },
    {
      "cell_type": "code",
      "metadata": {
        "id": "_-gTEepnlKH8"
      },
      "source": [
        "n_actions = env.action_space.n\n",
        "print(\"Number of possible actions that the agent can choose from =\", n_actions)"
      ],
      "execution_count": null,
      "outputs": []
    },
    {
      "cell_type": "code",
      "metadata": {
        "id": "APtzSQkalMFJ"
      },
      "source": [
        "Conv2D = functools.partial(tf.keras.layers.Conv2D, padding='same', activation='relu')\n",
        "Flatten = tf.keras.layers.Flatten\n",
        "Dense = tf.keras.layers.Dense\n",
        "\n",
        "# Defines a CNN for the Pong agent\n",
        "def create_pong_model():\n",
        "  model = tf.keras.models.Sequential([\n",
        "    # Convolutional layers\n",
        "    # First, 32 5x5 filters and 2x2 stride\n",
        "    Conv2D(filters=32, kernel_size=5, strides=2),\n",
        "\n",
        "    # TODO: define convolutional layers with 48 5x5 filters and 2x2 stride\n",
        "    Conv2D(filters=48, kernel_size=5, strides=2), # TODO\n",
        "    # Conv2D('''TODO'''),\n",
        "\n",
        "    # TODO: define two convolutional layers with 64 3x3 filters and 2x2 stride\n",
        "    Conv2D(filters=64, kernel_size=3, strides=2), # TODO\n",
        "    Conv2D(filters=64, kernel_size=3, strides=2),\n",
        "    # Conv2D('''TODO'''),\n",
        "\n",
        "    Flatten(),\n",
        "    \n",
        "    # Fully connected layer and output\n",
        "    Dense(units=128, activation='relu'),\n",
        "    # TODO: define the output dimension of the last Dense layer. \n",
        "    # Pay attention to the space the agent needs to act in\n",
        "    Dense(units=n_actions, activation=None) # TODO\n",
        "    # Dense('''TODO''')\n",
        "  \n",
        "  ])\n",
        "  return model\n",
        "\n",
        "pong_model = create_pong_model()"
      ],
      "execution_count": null,
      "outputs": []
    },
    {
      "cell_type": "code",
      "metadata": {
        "id": "_tnlOQHIlOtn"
      },
      "source": [
        "def discount_rewards(rewards, gamma=0.99): \n",
        "  discounted_rewards = np.zeros_like(rewards)\n",
        "  R = 0\n",
        "  for t in reversed(range(0, len(rewards))):\n",
        "      # NEW: Reset the sum if the reward is not 0 (the game has ended!)\n",
        "      if rewards[t] != 0:\n",
        "        R = 0\n",
        "      # update the total discounted reward as before\n",
        "      R = R * gamma + rewards[t]\n",
        "      discounted_rewards[t] = R\n",
        "      \n",
        "  return normalize(discounted_rewards)"
      ],
      "execution_count": null,
      "outputs": []
    },
    {
      "cell_type": "code",
      "metadata": {
        "id": "ucRRN7n8lRBR"
      },
      "source": [
        "\n",
        "observation = env.reset()\n",
        "for i in range(30):\n",
        "  action = np.random.choice(n_actions)\n",
        "  observation, _,_,_ = env.step(action)\n",
        "observation_pp = mdl.lab3.preprocess_pong(observation)\n",
        "\n",
        "f = plt.figure(figsize=(10,3))\n",
        "ax = f.add_subplot(121)\n",
        "ax2 = f.add_subplot(122)\n",
        "ax.imshow(observation); ax.grid(False);\n",
        "ax2.imshow(np.squeeze(observation_pp)); ax2.grid(False); plt.title('Preprocessed Observation');"
      ],
      "execution_count": null,
      "outputs": []
    },
    {
      "cell_type": "code",
      "metadata": {
        "id": "wbQfNtF_lTGU"
      },
      "source": [
        "next_observation, _,_,_ = env.step(np.random.choice(n_actions))\n",
        "diff = mdl.lab3.pong_change(observation, next_observation)\n",
        "\n",
        "f, ax = plt.subplots(1, 3, figsize=(15,15))\n",
        "for a in ax:\n",
        "  a.grid(False)\n",
        "  a.axis(\"off\")\n",
        "ax[0].imshow(observation); ax[0].set_title('Previous Frame');\n",
        "ax[1].imshow(next_observation); ax[1].set_title('Current Frame');\n",
        "ax[2].imshow(np.squeeze(diff)); ax[2].set_title('Difference (Model Input)');"
      ],
      "execution_count": null,
      "outputs": []
    },
    {
      "cell_type": "code",
      "metadata": {
        "id": "1hHSsmrllVd_"
      },
      "source": [
        "def collect_rollout(batch_size, env, model, choose_action):\n",
        "\n",
        "  # Holder array for the Memory buffers\n",
        "  memories = []\n",
        "\n",
        "  # Process batches serially by iterating through them\n",
        "  for b in range(batch_size):\n",
        "\n",
        "    # Instantiate Memory buffer, restart the environment\n",
        "    memory = Memory()\n",
        "    next_observation = env.reset()\n",
        "    previous_frame = next_observation\n",
        "    done = False # tracks whether the episode (game) is done or not\n",
        "\n",
        "    while not done:\n",
        "\n",
        "      current_frame = next_observation\n",
        "\n",
        "      '''TODO: determine the observation change.\n",
        "      Hint: this is the difference between the past two frames'''\n",
        "      frame_diff = mdl.lab3.pong_change(previous_frame, current_frame) # TODO\n",
        "      # frame_diff = # TODO\n",
        "\n",
        "      '''TODO: choose an action for the pong model, using the frame difference, and evaluate'''\n",
        "      action = choose_action(model, frame_diff) # TODO \n",
        "      # action = # TODO\n",
        "      # Take the chosen action\n",
        "      next_observation, reward, done, info = env.step(action)\n",
        "\n",
        "      '''TODO: save the observed frame difference, the action that was taken, and the resulting reward!'''\n",
        "      memory.add_to_memory(frame_diff, action, reward) # TODO\n",
        "\n",
        "      previous_frame = current_frame\n",
        "    \n",
        "    # Add the memory from this batch to the array of all Memory buffers\n",
        "    memories.append(memory)\n",
        "  \n",
        "  return memories"
      ],
      "execution_count": null,
      "outputs": []
    },
    {
      "cell_type": "code",
      "metadata": {
        "id": "G1tlsNkXlYso"
      },
      "source": [
        "test_model = create_pong_model()\n",
        "\n",
        "# Rollout with single batch\n",
        "single_batch_size = 1\n",
        "memories = collect_rollout(single_batch_size, env, test_model, choose_action)\n",
        "rollout_video = mdl.lab3.save_video_of_memory(memories[0], \"Pong-Random-Agent.mp4\")\n",
        "\n",
        "# Play back video of memories\n",
        "mdl.lab3.play_video(rollout_video)"
      ],
      "execution_count": null,
      "outputs": []
    },
    {
      "cell_type": "code",
      "metadata": {
        "id": "LWSBXvVjlcu_"
      },
      "source": [
        "learning_rate = 1e-3\n",
        "MAX_ITERS = 1000 # increase the maximum to train longer\n",
        "batch_size = 5 # number of batches to run\n",
        "\n",
        "# Model, optimizer\n",
        "pong_model = create_pong_model()\n",
        "optimizer = tf.keras.optimizers.Adam(learning_rate)\n",
        "iteration = 0 # counter for training steps\n",
        "\n",
        "# Plotting\n",
        "smoothed_reward = mdl.util.LossHistory(smoothing_factor=0.9)\n",
        "smoothed_reward.append(0) # start the reward at zero for baseline comparison\n",
        "plotter = mdl.util.PeriodicPlotter(sec=15, xlabel='Iterations', ylabel='Win Percentage (%)')\n",
        "\n",
        "# Batches and environment\n",
        "# To parallelize batches, we need to make multiple copies of the environment.\n",
        "envs = [create_pong_env() for _ in range(batch_size)] # For parallelization"
      ],
      "execution_count": null,
      "outputs": []
    },
    {
      "cell_type": "code",
      "metadata": {
        "id": "A3WpHaMDlgFv"
      },
      "source": [
        "games_to_win_episode = 21 # this is set by OpenAI gym and cannot be changed.\n",
        "\n",
        "# Main training loop\n",
        "while iteration < MAX_ITERS:\n",
        "\n",
        "  plotter.plot(smoothed_reward.get())\n",
        "\n",
        "  tic = time.time()\n",
        "  # RL agent algorithm. By default, uses serial batch processing.\n",
        "  # memories = collect_rollout(batch_size, env, pong_model, choose_action)\n",
        "\n",
        "  # Parallelized version. Uncomment line below (and comment out line above) to parallelize\n",
        "  memories = mdl.lab3.parallelized_collect_rollout(batch_size, envs, pong_model, choose_action)\n",
        "  print(time.time()-tic)\n",
        "\n",
        "  # Aggregate memories from multiple batches\n",
        "  batch_memory = aggregate_memories(memories)\n",
        "\n",
        "  # Track performance based on win percentage (calculated from rewards)\n",
        "  total_wins = sum(np.array(batch_memory.rewards) == 1)\n",
        "  total_games = sum(np.abs(np.array(batch_memory.rewards)))\n",
        "  win_rate = total_wins / total_games\n",
        "  smoothed_reward.append(100 * win_rate)\n",
        "  \n",
        "  # Training!\n",
        "  train_step(\n",
        "      pong_model,\n",
        "      optimizer,\n",
        "      observations = np.stack(batch_memory.observations, 0),\n",
        "      actions = np.array(batch_memory.actions),\n",
        "      discounted_rewards = discount_rewards(batch_memory.rewards)\n",
        "  )\n",
        "\n",
        "  # Save a video of progress -- this can be played back later\n",
        "  if iteration % 100 == 0:\n",
        "    mdl.lab3.save_video_of_model(pong_model, \"Pong-v0\", \n",
        "                                                suffix=\"_\"+str(iteration))\n",
        "    \n",
        "  iteration += 1 # Mark next episode"
      ],
      "execution_count": null,
      "outputs": []
    },
    {
      "cell_type": "code",
      "metadata": {
        "id": "ZBR1v4orlg6G"
      },
      "source": [
        "latest_pong = mdl.lab3.save_video_of_model(\n",
        "    pong_model, \"Pong-v0\", suffix=\"_latest\")\n",
        "mdl.lab3.play_video(latest_pong, width=400)"
      ],
      "execution_count": null,
      "outputs": []
    }
  ]
}
