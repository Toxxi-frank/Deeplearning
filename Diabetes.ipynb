{
  "nbformat": 4,
  "nbformat_minor": 0,
  "metadata": {
    "colab": {
      "name": "Diabetes.ipynb",
      "provenance": [],
      "collapsed_sections": [],
      "authorship_tag": "ABX9TyOBERQ5J2kSZjFG+pIa1Ej/",
      "include_colab_link": true
    },
    "kernelspec": {
      "name": "python3",
      "display_name": "Python 3"
    },
    "language_info": {
      "name": "python"
    },
    "accelerator": "GPU"
  },
  "cells": [
    {
      "cell_type": "markdown",
      "metadata": {
        "id": "view-in-github",
        "colab_type": "text"
      },
      "source": [
        "<a href=\"https://colab.research.google.com/github/Toxxi-frank/Deeplearning/blob/main/Diabetes.ipynb\" target=\"_parent\"><img src=\"https://colab.research.google.com/assets/colab-badge.svg\" alt=\"Open In Colab\"/></a>"
      ]
    },
    {
      "cell_type": "code",
      "metadata": {
        "id": "U9uy9ps1Y0Ep"
      },
      "source": [
        "import pandas as pd\n",
        "#used to analyze data"
      ],
      "execution_count": null,
      "outputs": []
    },
    {
      "cell_type": "code",
      "metadata": {
        "id": "PTTLKNtRb1LA"
      },
      "source": [
        "from sklearn.model_selection import train_test_split\n",
        "# to split dataset"
      ],
      "execution_count": null,
      "outputs": []
    },
    {
      "cell_type": "code",
      "metadata": {
        "id": "dIQEyqI4dCBY"
      },
      "source": [
        "from keras import Sequential\n",
        "#import Sequential"
      ],
      "execution_count": null,
      "outputs": []
    },
    {
      "cell_type": "code",
      "metadata": {
        "id": "DZbzmi3Vdjkf"
      },
      "source": [
        "from keras.layers  import Dense\n",
        "#import Dense"
      ],
      "execution_count": null,
      "outputs": []
    },
    {
      "cell_type": "code",
      "metadata": {
        "id": "8FekLaDcgEWw"
      },
      "source": [
        "from keras.models import load_model\n",
        "# used to read data, model"
      ],
      "execution_count": null,
      "outputs": []
    },
    {
      "cell_type": "code",
      "metadata": {
        "id": "jqYxipNz7P3B"
      },
      "source": [
        "import numpy as np"
      ],
      "execution_count": null,
      "outputs": []
    },
    {
      "cell_type": "code",
      "metadata": {
        "colab": {
          "base_uri": "https://localhost:8080/",
          "height": 571
        },
        "id": "mNH_Xh2EY7ip",
        "outputId": "70cc8ac7-ad9e-4c0e-db63-922cefc04df6"
      },
      "source": [
        "from google.colab import drive\n",
        "drive.mount('/content/drive')"
      ],
      "execution_count": null,
      "outputs": [
        {
          "output_type": "error",
          "ename": "KeyboardInterrupt",
          "evalue": "ignored",
          "traceback": [
            "\u001b[0;31m---------------------------------------------------------------------------\u001b[0m",
            "\u001b[0;31mKeyboardInterrupt\u001b[0m                         Traceback (most recent call last)",
            "\u001b[0;32m/usr/local/lib/python3.7/dist-packages/ipykernel/kernelbase.py\u001b[0m in \u001b[0;36m_input_request\u001b[0;34m(self, prompt, ident, parent, password)\u001b[0m\n\u001b[1;32m    728\u001b[0m             \u001b[0;32mtry\u001b[0m\u001b[0;34m:\u001b[0m\u001b[0;34m\u001b[0m\u001b[0;34m\u001b[0m\u001b[0m\n\u001b[0;32m--> 729\u001b[0;31m                 \u001b[0mident\u001b[0m\u001b[0;34m,\u001b[0m \u001b[0mreply\u001b[0m \u001b[0;34m=\u001b[0m \u001b[0mself\u001b[0m\u001b[0;34m.\u001b[0m\u001b[0msession\u001b[0m\u001b[0;34m.\u001b[0m\u001b[0mrecv\u001b[0m\u001b[0;34m(\u001b[0m\u001b[0mself\u001b[0m\u001b[0;34m.\u001b[0m\u001b[0mstdin_socket\u001b[0m\u001b[0;34m,\u001b[0m \u001b[0;36m0\u001b[0m\u001b[0;34m)\u001b[0m\u001b[0;34m\u001b[0m\u001b[0;34m\u001b[0m\u001b[0m\n\u001b[0m\u001b[1;32m    730\u001b[0m             \u001b[0;32mexcept\u001b[0m \u001b[0mException\u001b[0m\u001b[0;34m:\u001b[0m\u001b[0;34m\u001b[0m\u001b[0;34m\u001b[0m\u001b[0m\n",
            "\u001b[0;32m/usr/local/lib/python3.7/dist-packages/jupyter_client/session.py\u001b[0m in \u001b[0;36mrecv\u001b[0;34m(self, socket, mode, content, copy)\u001b[0m\n\u001b[1;32m    802\u001b[0m         \u001b[0;32mtry\u001b[0m\u001b[0;34m:\u001b[0m\u001b[0;34m\u001b[0m\u001b[0;34m\u001b[0m\u001b[0m\n\u001b[0;32m--> 803\u001b[0;31m             \u001b[0mmsg_list\u001b[0m \u001b[0;34m=\u001b[0m \u001b[0msocket\u001b[0m\u001b[0;34m.\u001b[0m\u001b[0mrecv_multipart\u001b[0m\u001b[0;34m(\u001b[0m\u001b[0mmode\u001b[0m\u001b[0;34m,\u001b[0m \u001b[0mcopy\u001b[0m\u001b[0;34m=\u001b[0m\u001b[0mcopy\u001b[0m\u001b[0;34m)\u001b[0m\u001b[0;34m\u001b[0m\u001b[0;34m\u001b[0m\u001b[0m\n\u001b[0m\u001b[1;32m    804\u001b[0m         \u001b[0;32mexcept\u001b[0m \u001b[0mzmq\u001b[0m\u001b[0;34m.\u001b[0m\u001b[0mZMQError\u001b[0m \u001b[0;32mas\u001b[0m \u001b[0me\u001b[0m\u001b[0;34m:\u001b[0m\u001b[0;34m\u001b[0m\u001b[0;34m\u001b[0m\u001b[0m\n",
            "\u001b[0;32m/usr/local/lib/python3.7/dist-packages/zmq/sugar/socket.py\u001b[0m in \u001b[0;36mrecv_multipart\u001b[0;34m(self, flags, copy, track)\u001b[0m\n\u001b[1;32m    582\u001b[0m         \"\"\"\n\u001b[0;32m--> 583\u001b[0;31m         \u001b[0mparts\u001b[0m \u001b[0;34m=\u001b[0m \u001b[0;34m[\u001b[0m\u001b[0mself\u001b[0m\u001b[0;34m.\u001b[0m\u001b[0mrecv\u001b[0m\u001b[0;34m(\u001b[0m\u001b[0mflags\u001b[0m\u001b[0;34m,\u001b[0m \u001b[0mcopy\u001b[0m\u001b[0;34m=\u001b[0m\u001b[0mcopy\u001b[0m\u001b[0;34m,\u001b[0m \u001b[0mtrack\u001b[0m\u001b[0;34m=\u001b[0m\u001b[0mtrack\u001b[0m\u001b[0;34m)\u001b[0m\u001b[0;34m]\u001b[0m\u001b[0;34m\u001b[0m\u001b[0;34m\u001b[0m\u001b[0m\n\u001b[0m\u001b[1;32m    584\u001b[0m         \u001b[0;31m# have first part already, only loop while more to receive\u001b[0m\u001b[0;34m\u001b[0m\u001b[0;34m\u001b[0m\u001b[0;34m\u001b[0m\u001b[0m\n",
            "\u001b[0;32mzmq/backend/cython/socket.pyx\u001b[0m in \u001b[0;36mzmq.backend.cython.socket.Socket.recv\u001b[0;34m()\u001b[0m\n",
            "\u001b[0;32mzmq/backend/cython/socket.pyx\u001b[0m in \u001b[0;36mzmq.backend.cython.socket.Socket.recv\u001b[0;34m()\u001b[0m\n",
            "\u001b[0;32mzmq/backend/cython/socket.pyx\u001b[0m in \u001b[0;36mzmq.backend.cython.socket._recv_copy\u001b[0;34m()\u001b[0m\n",
            "\u001b[0;32m/usr/local/lib/python3.7/dist-packages/zmq/backend/cython/checkrc.pxd\u001b[0m in \u001b[0;36mzmq.backend.cython.checkrc._check_rc\u001b[0;34m()\u001b[0m\n",
            "\u001b[0;31mKeyboardInterrupt\u001b[0m: ",
            "\nDuring handling of the above exception, another exception occurred:\n",
            "\u001b[0;31mKeyboardInterrupt\u001b[0m                         Traceback (most recent call last)",
            "\u001b[0;32m<ipython-input-8-d5df0069828e>\u001b[0m in \u001b[0;36m<module>\u001b[0;34m()\u001b[0m\n\u001b[1;32m      1\u001b[0m \u001b[0;32mfrom\u001b[0m \u001b[0mgoogle\u001b[0m\u001b[0;34m.\u001b[0m\u001b[0mcolab\u001b[0m \u001b[0;32mimport\u001b[0m \u001b[0mdrive\u001b[0m\u001b[0;34m\u001b[0m\u001b[0;34m\u001b[0m\u001b[0m\n\u001b[0;32m----> 2\u001b[0;31m \u001b[0mdrive\u001b[0m\u001b[0;34m.\u001b[0m\u001b[0mmount\u001b[0m\u001b[0;34m(\u001b[0m\u001b[0;34m'/content/drive'\u001b[0m\u001b[0;34m)\u001b[0m\u001b[0;34m\u001b[0m\u001b[0;34m\u001b[0m\u001b[0m\n\u001b[0m",
            "\u001b[0;32m/usr/local/lib/python3.7/dist-packages/google/colab/drive.py\u001b[0m in \u001b[0;36mmount\u001b[0;34m(mountpoint, force_remount, timeout_ms, use_metadata_server)\u001b[0m\n\u001b[1;32m    258\u001b[0m       \u001b[0;32mwith\u001b[0m \u001b[0m_output\u001b[0m\u001b[0;34m.\u001b[0m\u001b[0muse_tags\u001b[0m\u001b[0;34m(\u001b[0m\u001b[0;34m'dfs-auth-dance'\u001b[0m\u001b[0;34m)\u001b[0m\u001b[0;34m:\u001b[0m\u001b[0;34m\u001b[0m\u001b[0;34m\u001b[0m\u001b[0m\n\u001b[1;32m    259\u001b[0m         \u001b[0;32mwith\u001b[0m \u001b[0mopen\u001b[0m\u001b[0;34m(\u001b[0m\u001b[0mfifo\u001b[0m\u001b[0;34m,\u001b[0m \u001b[0;34m'w'\u001b[0m\u001b[0;34m)\u001b[0m \u001b[0;32mas\u001b[0m \u001b[0mfifo_file\u001b[0m\u001b[0;34m:\u001b[0m\u001b[0;34m\u001b[0m\u001b[0;34m\u001b[0m\u001b[0m\n\u001b[0;32m--> 260\u001b[0;31m           \u001b[0mfifo_file\u001b[0m\u001b[0;34m.\u001b[0m\u001b[0mwrite\u001b[0m\u001b[0;34m(\u001b[0m\u001b[0mget_code\u001b[0m\u001b[0;34m(\u001b[0m\u001b[0mauth_prompt\u001b[0m\u001b[0;34m)\u001b[0m \u001b[0;34m+\u001b[0m \u001b[0;34m'\\n'\u001b[0m\u001b[0;34m)\u001b[0m\u001b[0;34m\u001b[0m\u001b[0;34m\u001b[0m\u001b[0m\n\u001b[0m\u001b[1;32m    261\u001b[0m       \u001b[0mwrote_to_fifo\u001b[0m \u001b[0;34m=\u001b[0m \u001b[0;32mTrue\u001b[0m\u001b[0;34m\u001b[0m\u001b[0;34m\u001b[0m\u001b[0m\n\u001b[1;32m    262\u001b[0m     \u001b[0;32melif\u001b[0m \u001b[0mcase\u001b[0m \u001b[0;34m==\u001b[0m \u001b[0;36m5\u001b[0m\u001b[0;34m:\u001b[0m\u001b[0;34m\u001b[0m\u001b[0;34m\u001b[0m\u001b[0m\n",
            "\u001b[0;32m/usr/local/lib/python3.7/dist-packages/ipykernel/kernelbase.py\u001b[0m in \u001b[0;36mraw_input\u001b[0;34m(self, prompt)\u001b[0m\n\u001b[1;32m    702\u001b[0m             \u001b[0mself\u001b[0m\u001b[0;34m.\u001b[0m\u001b[0m_parent_ident\u001b[0m\u001b[0;34m,\u001b[0m\u001b[0;34m\u001b[0m\u001b[0;34m\u001b[0m\u001b[0m\n\u001b[1;32m    703\u001b[0m             \u001b[0mself\u001b[0m\u001b[0;34m.\u001b[0m\u001b[0m_parent_header\u001b[0m\u001b[0;34m,\u001b[0m\u001b[0;34m\u001b[0m\u001b[0;34m\u001b[0m\u001b[0m\n\u001b[0;32m--> 704\u001b[0;31m             \u001b[0mpassword\u001b[0m\u001b[0;34m=\u001b[0m\u001b[0;32mFalse\u001b[0m\u001b[0;34m,\u001b[0m\u001b[0;34m\u001b[0m\u001b[0;34m\u001b[0m\u001b[0m\n\u001b[0m\u001b[1;32m    705\u001b[0m         )\n\u001b[1;32m    706\u001b[0m \u001b[0;34m\u001b[0m\u001b[0m\n",
            "\u001b[0;32m/usr/local/lib/python3.7/dist-packages/ipykernel/kernelbase.py\u001b[0m in \u001b[0;36m_input_request\u001b[0;34m(self, prompt, ident, parent, password)\u001b[0m\n\u001b[1;32m    732\u001b[0m             \u001b[0;32mexcept\u001b[0m \u001b[0mKeyboardInterrupt\u001b[0m\u001b[0;34m:\u001b[0m\u001b[0;34m\u001b[0m\u001b[0;34m\u001b[0m\u001b[0m\n\u001b[1;32m    733\u001b[0m                 \u001b[0;31m# re-raise KeyboardInterrupt, to truncate traceback\u001b[0m\u001b[0;34m\u001b[0m\u001b[0;34m\u001b[0m\u001b[0;34m\u001b[0m\u001b[0m\n\u001b[0;32m--> 734\u001b[0;31m                 \u001b[0;32mraise\u001b[0m \u001b[0mKeyboardInterrupt\u001b[0m\u001b[0;34m\u001b[0m\u001b[0;34m\u001b[0m\u001b[0m\n\u001b[0m\u001b[1;32m    735\u001b[0m             \u001b[0;32melse\u001b[0m\u001b[0;34m:\u001b[0m\u001b[0;34m\u001b[0m\u001b[0;34m\u001b[0m\u001b[0m\n\u001b[1;32m    736\u001b[0m                 \u001b[0;32mbreak\u001b[0m\u001b[0;34m\u001b[0m\u001b[0;34m\u001b[0m\u001b[0m\n",
            "\u001b[0;31mKeyboardInterrupt\u001b[0m: "
          ]
        }
      ]
    },
    {
      "cell_type": "code",
      "metadata": {
        "colab": {
          "base_uri": "https://localhost:8080/",
          "height": 166
        },
        "id": "yDTvZEl6ZVhR",
        "outputId": "c9083cbf-0248-4505-d4d6-9217eba5b04d"
      },
      "source": [
        "dataset = loadtxt('pima-indians-diabetes.csv', delimiter=',')"
      ],
      "execution_count": null,
      "outputs": [
        {
          "output_type": "error",
          "ename": "NameError",
          "evalue": "ignored",
          "traceback": [
            "\u001b[0;31m---------------------------------------------------------------------------\u001b[0m",
            "\u001b[0;31mNameError\u001b[0m                                 Traceback (most recent call last)",
            "\u001b[0;32m<ipython-input-2-ea4e9e56c8ac>\u001b[0m in \u001b[0;36m<module>\u001b[0;34m()\u001b[0m\n\u001b[0;32m----> 1\u001b[0;31m \u001b[0mdataset\u001b[0m \u001b[0;34m=\u001b[0m \u001b[0mloadtxt\u001b[0m\u001b[0;34m(\u001b[0m\u001b[0;34m'pima-indians-diabetes.csv'\u001b[0m\u001b[0;34m,\u001b[0m \u001b[0mdelimiter\u001b[0m\u001b[0;34m=\u001b[0m\u001b[0;34m','\u001b[0m\u001b[0;34m)\u001b[0m\u001b[0;34m\u001b[0m\u001b[0;34m\u001b[0m\u001b[0m\n\u001b[0m",
            "\u001b[0;31mNameError\u001b[0m: name 'loadtxt' is not defined"
          ]
        }
      ]
    },
    {
      "cell_type": "code",
      "metadata": {
        "colab": {
          "base_uri": "https://localhost:8080/",
          "height": 166
        },
        "id": "Vm_h6EyEZqPz",
        "outputId": "6baec3b0-5c12-4b04-c628-d66bc962b725"
      },
      "source": [
        "dataset = load('pima-indians-diabetes.csv', delimiter=',')"
      ],
      "execution_count": null,
      "outputs": [
        {
          "output_type": "error",
          "ename": "NameError",
          "evalue": "ignored",
          "traceback": [
            "\u001b[0;31m---------------------------------------------------------------------------\u001b[0m",
            "\u001b[0;31mNameError\u001b[0m                                 Traceback (most recent call last)",
            "\u001b[0;32m<ipython-input-3-f9c6813a9095>\u001b[0m in \u001b[0;36m<module>\u001b[0;34m()\u001b[0m\n\u001b[0;32m----> 1\u001b[0;31m \u001b[0mdataset\u001b[0m \u001b[0;34m=\u001b[0m \u001b[0mload\u001b[0m\u001b[0;34m(\u001b[0m\u001b[0;34m'pima-indians-diabetes.csv'\u001b[0m\u001b[0;34m,\u001b[0m \u001b[0mdelimiter\u001b[0m\u001b[0;34m=\u001b[0m\u001b[0;34m','\u001b[0m\u001b[0;34m)\u001b[0m\u001b[0;34m\u001b[0m\u001b[0;34m\u001b[0m\u001b[0m\n\u001b[0m",
            "\u001b[0;31mNameError\u001b[0m: name 'load' is not defined"
          ]
        }
      ]
    },
    {
      "cell_type": "code",
      "metadata": {
        "id": "CFTPlZHMZzBX"
      },
      "source": [
        "dataset = pd.read_csv('pima-indians-diabetes.csv')\n",
        "# analyze the data file csv"
      ],
      "execution_count": null,
      "outputs": []
    },
    {
      "cell_type": "code",
      "metadata": {
        "colab": {
          "base_uri": "https://localhost:8080/"
        },
        "id": "o_1WgTCQaIvK",
        "outputId": "63c9ffc7-c18d-4809-d58b-62679ff3691f"
      },
      "source": [
        "print(dataset)\n",
        "# 766 cases, from 1 to 7: parameters, 8: 1 - yes, 0 - no to disease"
      ],
      "execution_count": null,
      "outputs": [
        {
          "output_type": "stream",
          "text": [
            "      6  148  72  35    0  33.6  0.627  50  1\n",
            "0     1   85  66  29    0  26.6  0.351  31  0\n",
            "1     8  183  64   0    0  23.3  0.672  32  1\n",
            "2     1   89  66  23   94  28.1  0.167  21  0\n",
            "3     0  137  40  35  168  43.1  2.288  33  1\n",
            "4     5  116  74   0    0  25.6  0.201  30  0\n",
            "..   ..  ...  ..  ..  ...   ...    ...  .. ..\n",
            "762  10  101  76  48  180  32.9  0.171  63  0\n",
            "763   2  122  70  27    0  36.8  0.340  27  0\n",
            "764   5  121  72  23  112  26.2  0.245  30  0\n",
            "765   1  126  60   0    0  30.1  0.349  47  1\n",
            "766   1   93  70  31    0  30.4  0.315  23  0\n",
            "\n",
            "[767 rows x 9 columns]\n"
          ],
          "name": "stdout"
        }
      ]
    },
    {
      "cell_type": "code",
      "metadata": {
        "id": "T67gASP-acv0"
      },
      "source": [
        "from numpy import loadtxt \n",
        "# another way to appoach like above\n",
        "# this is the one which have told in ytub"
      ],
      "execution_count": null,
      "outputs": []
    },
    {
      "cell_type": "code",
      "metadata": {
        "id": "oST0q-CdapcC"
      },
      "source": [
        "dataset1 = loadtxt('pima-indians-diabetes.csv', delimiter=',')"
      ],
      "execution_count": null,
      "outputs": []
    },
    {
      "cell_type": "code",
      "metadata": {
        "colab": {
          "base_uri": "https://localhost:8080/"
        },
        "id": "IgcYJ2CGayA-",
        "outputId": "69e4ada1-1a76-4a36-fc5f-7e3323d76765"
      },
      "source": [
        "print(dataset1)\n",
        "#same as above but without index each row "
      ],
      "execution_count": null,
      "outputs": [
        {
          "output_type": "stream",
          "text": [
            "[[  6.    148.     72.    ...   0.627  50.      1.   ]\n",
            " [  1.     85.     66.    ...   0.351  31.      0.   ]\n",
            " [  8.    183.     64.    ...   0.672  32.      1.   ]\n",
            " ...\n",
            " [  5.    121.     72.    ...   0.245  30.      0.   ]\n",
            " [  1.    126.     60.    ...   0.349  47.      1.   ]\n",
            " [  1.     93.     70.    ...   0.315  23.      0.   ]]\n"
          ],
          "name": "stdout"
        }
      ]
    },
    {
      "cell_type": "code",
      "metadata": {
        "id": "1NB8M_tYa2DZ"
      },
      "source": [
        "X = dataset1[:,0:8]\n",
        "y = dataset1[:,8]\n",
        "# seperate the parameters(X) and result(y)"
      ],
      "execution_count": null,
      "outputs": []
    },
    {
      "cell_type": "code",
      "metadata": {
        "id": "P3exFBaDbRti"
      },
      "source": [
        "X_train_val, X_test, y_train_val, y_test = train_test_split(X,y, test_size = 0.2)\n",
        "# split dataset into 2 parts, one for train + val, one for test with the percent of 20%"
      ],
      "execution_count": null,
      "outputs": []
    },
    {
      "cell_type": "code",
      "metadata": {
        "id": "jiXaj50FcU6o"
      },
      "source": [
        "X_train, X_val, y_train, y_val = train_test_split(X_train_val, y_train_val, test_size = 0.2 )\n",
        "# Split into 2 parts, one for train, one for val with the percent of 20%\n",
        "# 100% = 20% test + 80% (16% val + 64% train)"
      ],
      "execution_count": null,
      "outputs": []
    },
    {
      "cell_type": "code",
      "metadata": {
        "id": "mIIqe1vacqAX"
      },
      "source": [
        "model = Sequential()\n",
        "model.add(Dense(16, input_dim=8, activation= 'relu'))\n",
        "model.add(Dense(8, activation= 'relu'))\n",
        "model.add(Dense(1, activation = 'sigmoid'))\n",
        "# model building"
      ],
      "execution_count": null,
      "outputs": []
    },
    {
      "cell_type": "code",
      "metadata": {
        "id": "1KKLSsDieddJ"
      },
      "source": [
        "model.compile(loss='binary_crossentropy', optimizer= 'adam', metrics = ['accuracy'])"
      ],
      "execution_count": null,
      "outputs": []
    },
    {
      "cell_type": "code",
      "metadata": {
        "colab": {
          "base_uri": "https://localhost:8080/"
        },
        "id": "KgUbLCVwe_TD",
        "outputId": "5401a250-240b-4e2e-ce4b-7211eb81d746"
      },
      "source": [
        "model.fit(X_train, y_train, epochs=100, batch_size=8, validation_data=(X_val, y_val))"
      ],
      "execution_count": null,
      "outputs": [
        {
          "output_type": "stream",
          "text": [
            "Epoch 1/100\n",
            "62/62 [==============================] - 1s 5ms/step - loss: 8.1392 - accuracy: 0.5020 - val_loss: 1.8203 - val_accuracy: 0.6341\n",
            "Epoch 2/100\n",
            "62/62 [==============================] - 0s 2ms/step - loss: 1.2415 - accuracy: 0.6720 - val_loss: 1.2818 - val_accuracy: 0.5447\n",
            "Epoch 3/100\n",
            "62/62 [==============================] - 0s 2ms/step - loss: 1.0648 - accuracy: 0.6273 - val_loss: 1.1529 - val_accuracy: 0.6341\n",
            "Epoch 4/100\n",
            "62/62 [==============================] - 0s 2ms/step - loss: 0.8659 - accuracy: 0.6795 - val_loss: 1.0773 - val_accuracy: 0.5691\n",
            "Epoch 5/100\n",
            "62/62 [==============================] - 0s 2ms/step - loss: 0.8499 - accuracy: 0.6207 - val_loss: 0.9736 - val_accuracy: 0.5854\n",
            "Epoch 6/100\n",
            "62/62 [==============================] - 0s 2ms/step - loss: 0.7943 - accuracy: 0.6556 - val_loss: 0.9847 - val_accuracy: 0.4959\n",
            "Epoch 7/100\n",
            "62/62 [==============================] - 0s 2ms/step - loss: 0.8041 - accuracy: 0.6863 - val_loss: 1.0581 - val_accuracy: 0.6911\n",
            "Epoch 8/100\n",
            "62/62 [==============================] - 0s 2ms/step - loss: 0.9338 - accuracy: 0.6332 - val_loss: 0.8808 - val_accuracy: 0.5610\n",
            "Epoch 9/100\n",
            "62/62 [==============================] - 0s 2ms/step - loss: 0.7665 - accuracy: 0.7123 - val_loss: 0.8122 - val_accuracy: 0.6423\n",
            "Epoch 10/100\n",
            "62/62 [==============================] - 0s 2ms/step - loss: 0.8155 - accuracy: 0.6283 - val_loss: 0.8691 - val_accuracy: 0.5122\n",
            "Epoch 11/100\n",
            "62/62 [==============================] - 0s 2ms/step - loss: 0.7340 - accuracy: 0.6719 - val_loss: 0.9686 - val_accuracy: 0.4634\n",
            "Epoch 12/100\n",
            "62/62 [==============================] - 0s 2ms/step - loss: 0.6551 - accuracy: 0.6903 - val_loss: 0.8798 - val_accuracy: 0.6260\n",
            "Epoch 13/100\n",
            "62/62 [==============================] - 0s 2ms/step - loss: 0.9515 - accuracy: 0.5947 - val_loss: 0.8129 - val_accuracy: 0.5447\n",
            "Epoch 14/100\n",
            "62/62 [==============================] - 0s 2ms/step - loss: 0.7925 - accuracy: 0.6456 - val_loss: 0.7893 - val_accuracy: 0.5447\n",
            "Epoch 15/100\n",
            "62/62 [==============================] - 0s 2ms/step - loss: 0.6340 - accuracy: 0.7094 - val_loss: 0.7850 - val_accuracy: 0.6585\n",
            "Epoch 16/100\n",
            "62/62 [==============================] - 0s 3ms/step - loss: 0.6689 - accuracy: 0.6699 - val_loss: 0.7373 - val_accuracy: 0.6098\n",
            "Epoch 17/100\n",
            "62/62 [==============================] - 0s 2ms/step - loss: 0.7224 - accuracy: 0.6739 - val_loss: 0.9458 - val_accuracy: 0.4715\n",
            "Epoch 18/100\n",
            "62/62 [==============================] - 0s 2ms/step - loss: 0.7520 - accuracy: 0.6590 - val_loss: 0.7348 - val_accuracy: 0.6098\n",
            "Epoch 19/100\n",
            "62/62 [==============================] - 0s 2ms/step - loss: 0.6624 - accuracy: 0.6849 - val_loss: 0.7592 - val_accuracy: 0.6179\n",
            "Epoch 20/100\n",
            "62/62 [==============================] - 0s 2ms/step - loss: 0.6923 - accuracy: 0.6827 - val_loss: 0.7514 - val_accuracy: 0.6748\n",
            "Epoch 21/100\n",
            "62/62 [==============================] - 0s 2ms/step - loss: 0.6158 - accuracy: 0.7312 - val_loss: 0.7231 - val_accuracy: 0.6098\n",
            "Epoch 22/100\n",
            "62/62 [==============================] - 0s 2ms/step - loss: 0.6070 - accuracy: 0.7067 - val_loss: 0.7373 - val_accuracy: 0.5935\n",
            "Epoch 23/100\n",
            "62/62 [==============================] - 0s 2ms/step - loss: 0.6436 - accuracy: 0.7094 - val_loss: 0.7286 - val_accuracy: 0.6585\n",
            "Epoch 24/100\n",
            "62/62 [==============================] - 0s 2ms/step - loss: 0.6701 - accuracy: 0.6903 - val_loss: 0.9170 - val_accuracy: 0.6667\n",
            "Epoch 25/100\n",
            "62/62 [==============================] - 0s 2ms/step - loss: 0.6828 - accuracy: 0.7113 - val_loss: 0.7436 - val_accuracy: 0.5285\n",
            "Epoch 26/100\n",
            "62/62 [==============================] - 0s 3ms/step - loss: 0.7010 - accuracy: 0.6511 - val_loss: 0.8208 - val_accuracy: 0.6829\n",
            "Epoch 27/100\n",
            "62/62 [==============================] - 0s 2ms/step - loss: 0.6382 - accuracy: 0.6995 - val_loss: 0.6836 - val_accuracy: 0.6504\n",
            "Epoch 28/100\n",
            "62/62 [==============================] - 0s 2ms/step - loss: 0.6560 - accuracy: 0.6921 - val_loss: 0.6578 - val_accuracy: 0.6504\n",
            "Epoch 29/100\n",
            "62/62 [==============================] - 0s 3ms/step - loss: 0.6196 - accuracy: 0.6955 - val_loss: 0.6728 - val_accuracy: 0.6667\n",
            "Epoch 30/100\n",
            "62/62 [==============================] - 0s 2ms/step - loss: 0.5976 - accuracy: 0.7204 - val_loss: 0.6809 - val_accuracy: 0.6341\n",
            "Epoch 31/100\n",
            "62/62 [==============================] - 0s 2ms/step - loss: 0.6357 - accuracy: 0.6936 - val_loss: 0.6630 - val_accuracy: 0.6829\n",
            "Epoch 32/100\n",
            "62/62 [==============================] - 0s 2ms/step - loss: 0.6262 - accuracy: 0.6888 - val_loss: 0.7079 - val_accuracy: 0.6341\n",
            "Epoch 33/100\n",
            "62/62 [==============================] - 0s 2ms/step - loss: 0.6088 - accuracy: 0.6702 - val_loss: 0.6631 - val_accuracy: 0.6504\n",
            "Epoch 34/100\n",
            "62/62 [==============================] - 0s 2ms/step - loss: 0.6602 - accuracy: 0.6421 - val_loss: 0.7149 - val_accuracy: 0.6179\n",
            "Epoch 35/100\n",
            "62/62 [==============================] - 0s 2ms/step - loss: 0.5662 - accuracy: 0.7589 - val_loss: 0.7482 - val_accuracy: 0.6423\n",
            "Epoch 36/100\n",
            "62/62 [==============================] - 0s 3ms/step - loss: 0.6344 - accuracy: 0.6924 - val_loss: 0.7192 - val_accuracy: 0.6260\n",
            "Epoch 37/100\n",
            "62/62 [==============================] - 0s 2ms/step - loss: 0.5992 - accuracy: 0.6877 - val_loss: 0.6378 - val_accuracy: 0.6667\n",
            "Epoch 38/100\n",
            "62/62 [==============================] - 0s 3ms/step - loss: 0.6172 - accuracy: 0.6986 - val_loss: 0.6271 - val_accuracy: 0.6667\n",
            "Epoch 39/100\n",
            "62/62 [==============================] - 0s 2ms/step - loss: 0.6404 - accuracy: 0.6864 - val_loss: 0.6681 - val_accuracy: 0.6748\n",
            "Epoch 40/100\n",
            "62/62 [==============================] - 0s 2ms/step - loss: 0.6104 - accuracy: 0.7373 - val_loss: 0.7179 - val_accuracy: 0.6341\n",
            "Epoch 41/100\n",
            "62/62 [==============================] - 0s 2ms/step - loss: 0.6394 - accuracy: 0.6749 - val_loss: 0.6407 - val_accuracy: 0.7236\n",
            "Epoch 42/100\n",
            "62/62 [==============================] - 0s 3ms/step - loss: 0.6149 - accuracy: 0.6733 - val_loss: 0.6540 - val_accuracy: 0.6423\n",
            "Epoch 43/100\n",
            "62/62 [==============================] - 0s 2ms/step - loss: 0.5770 - accuracy: 0.7130 - val_loss: 0.6329 - val_accuracy: 0.6585\n",
            "Epoch 44/100\n",
            "62/62 [==============================] - 0s 2ms/step - loss: 0.6319 - accuracy: 0.6881 - val_loss: 0.7182 - val_accuracy: 0.6423\n",
            "Epoch 45/100\n",
            "62/62 [==============================] - 0s 3ms/step - loss: 0.5330 - accuracy: 0.7387 - val_loss: 0.6813 - val_accuracy: 0.6585\n",
            "Epoch 46/100\n",
            "62/62 [==============================] - 0s 3ms/step - loss: 0.6237 - accuracy: 0.6958 - val_loss: 0.6689 - val_accuracy: 0.6829\n",
            "Epoch 47/100\n",
            "62/62 [==============================] - 0s 2ms/step - loss: 0.6309 - accuracy: 0.6835 - val_loss: 0.6580 - val_accuracy: 0.6748\n",
            "Epoch 48/100\n",
            "62/62 [==============================] - 0s 2ms/step - loss: 0.5849 - accuracy: 0.6881 - val_loss: 0.6626 - val_accuracy: 0.6829\n",
            "Epoch 49/100\n",
            "62/62 [==============================] - 0s 3ms/step - loss: 0.5799 - accuracy: 0.7568 - val_loss: 0.6157 - val_accuracy: 0.6585\n",
            "Epoch 50/100\n",
            "62/62 [==============================] - 0s 2ms/step - loss: 0.5854 - accuracy: 0.7163 - val_loss: 0.6616 - val_accuracy: 0.6667\n",
            "Epoch 51/100\n",
            "62/62 [==============================] - 0s 2ms/step - loss: 0.6711 - accuracy: 0.7254 - val_loss: 0.6315 - val_accuracy: 0.6829\n",
            "Epoch 52/100\n",
            "62/62 [==============================] - 0s 2ms/step - loss: 0.6088 - accuracy: 0.6915 - val_loss: 0.7706 - val_accuracy: 0.6748\n",
            "Epoch 53/100\n",
            "62/62 [==============================] - 0s 2ms/step - loss: 0.6571 - accuracy: 0.6913 - val_loss: 0.6121 - val_accuracy: 0.6585\n",
            "Epoch 54/100\n",
            "62/62 [==============================] - 0s 2ms/step - loss: 0.5360 - accuracy: 0.7435 - val_loss: 0.6396 - val_accuracy: 0.6748\n",
            "Epoch 55/100\n",
            "62/62 [==============================] - 0s 2ms/step - loss: 0.5470 - accuracy: 0.7434 - val_loss: 0.7068 - val_accuracy: 0.6585\n",
            "Epoch 56/100\n",
            "62/62 [==============================] - 0s 2ms/step - loss: 0.6115 - accuracy: 0.6907 - val_loss: 0.6198 - val_accuracy: 0.6504\n",
            "Epoch 57/100\n",
            "62/62 [==============================] - 0s 2ms/step - loss: 0.5725 - accuracy: 0.7039 - val_loss: 0.6550 - val_accuracy: 0.6748\n",
            "Epoch 58/100\n",
            "62/62 [==============================] - 0s 3ms/step - loss: 0.5925 - accuracy: 0.7038 - val_loss: 0.6960 - val_accuracy: 0.6585\n",
            "Epoch 59/100\n",
            "62/62 [==============================] - 0s 2ms/step - loss: 0.6231 - accuracy: 0.7084 - val_loss: 1.1857 - val_accuracy: 0.7073\n",
            "Epoch 60/100\n",
            "62/62 [==============================] - 0s 2ms/step - loss: 0.8628 - accuracy: 0.6732 - val_loss: 0.6500 - val_accuracy: 0.6504\n",
            "Epoch 61/100\n",
            "62/62 [==============================] - 0s 2ms/step - loss: 0.5223 - accuracy: 0.7516 - val_loss: 0.6435 - val_accuracy: 0.6829\n",
            "Epoch 62/100\n",
            "62/62 [==============================] - 0s 2ms/step - loss: 0.6243 - accuracy: 0.7058 - val_loss: 0.6465 - val_accuracy: 0.6585\n",
            "Epoch 63/100\n",
            "62/62 [==============================] - 0s 3ms/step - loss: 0.5630 - accuracy: 0.7296 - val_loss: 0.6687 - val_accuracy: 0.6585\n",
            "Epoch 64/100\n",
            "62/62 [==============================] - 0s 3ms/step - loss: 0.5696 - accuracy: 0.7090 - val_loss: 0.6347 - val_accuracy: 0.6585\n",
            "Epoch 65/100\n",
            "62/62 [==============================] - 0s 2ms/step - loss: 0.5541 - accuracy: 0.7119 - val_loss: 0.7122 - val_accuracy: 0.6504\n",
            "Epoch 66/100\n",
            "62/62 [==============================] - 0s 2ms/step - loss: 0.6015 - accuracy: 0.7168 - val_loss: 0.6277 - val_accuracy: 0.6992\n",
            "Epoch 67/100\n",
            "62/62 [==============================] - 0s 2ms/step - loss: 0.5810 - accuracy: 0.7278 - val_loss: 0.5935 - val_accuracy: 0.6992\n",
            "Epoch 68/100\n",
            "62/62 [==============================] - 0s 2ms/step - loss: 0.5953 - accuracy: 0.6982 - val_loss: 0.5986 - val_accuracy: 0.6829\n",
            "Epoch 69/100\n",
            "62/62 [==============================] - 0s 2ms/step - loss: 0.5923 - accuracy: 0.7288 - val_loss: 0.6597 - val_accuracy: 0.6504\n",
            "Epoch 70/100\n",
            "62/62 [==============================] - 0s 2ms/step - loss: 0.5783 - accuracy: 0.6975 - val_loss: 0.7360 - val_accuracy: 0.6423\n",
            "Epoch 71/100\n",
            "62/62 [==============================] - 0s 2ms/step - loss: 0.6306 - accuracy: 0.6991 - val_loss: 0.7221 - val_accuracy: 0.6504\n",
            "Epoch 72/100\n",
            "62/62 [==============================] - 0s 2ms/step - loss: 0.5763 - accuracy: 0.7032 - val_loss: 0.6325 - val_accuracy: 0.6829\n",
            "Epoch 73/100\n",
            "62/62 [==============================] - 0s 2ms/step - loss: 0.5718 - accuracy: 0.7148 - val_loss: 0.8282 - val_accuracy: 0.5447\n",
            "Epoch 74/100\n",
            "62/62 [==============================] - 0s 2ms/step - loss: 0.6231 - accuracy: 0.6944 - val_loss: 0.6703 - val_accuracy: 0.6748\n",
            "Epoch 75/100\n",
            "62/62 [==============================] - 0s 2ms/step - loss: 0.5871 - accuracy: 0.7016 - val_loss: 0.6185 - val_accuracy: 0.6585\n",
            "Epoch 76/100\n",
            "62/62 [==============================] - 0s 2ms/step - loss: 0.5167 - accuracy: 0.7472 - val_loss: 0.7075 - val_accuracy: 0.6585\n",
            "Epoch 77/100\n",
            "62/62 [==============================] - 0s 2ms/step - loss: 0.5787 - accuracy: 0.7430 - val_loss: 0.6599 - val_accuracy: 0.6992\n",
            "Epoch 78/100\n",
            "62/62 [==============================] - 0s 2ms/step - loss: 0.6059 - accuracy: 0.7193 - val_loss: 0.6543 - val_accuracy: 0.6829\n",
            "Epoch 79/100\n",
            "62/62 [==============================] - 0s 2ms/step - loss: 0.5702 - accuracy: 0.7223 - val_loss: 0.6087 - val_accuracy: 0.6423\n",
            "Epoch 80/100\n",
            "62/62 [==============================] - 0s 2ms/step - loss: 0.5745 - accuracy: 0.7265 - val_loss: 0.6291 - val_accuracy: 0.6911\n",
            "Epoch 81/100\n",
            "62/62 [==============================] - 0s 2ms/step - loss: 0.6179 - accuracy: 0.6854 - val_loss: 0.6020 - val_accuracy: 0.6992\n",
            "Epoch 82/100\n",
            "62/62 [==============================] - 0s 2ms/step - loss: 0.5337 - accuracy: 0.7369 - val_loss: 0.5923 - val_accuracy: 0.6911\n",
            "Epoch 83/100\n",
            "62/62 [==============================] - 0s 2ms/step - loss: 0.5662 - accuracy: 0.7146 - val_loss: 0.6214 - val_accuracy: 0.6585\n",
            "Epoch 84/100\n",
            "62/62 [==============================] - 0s 2ms/step - loss: 0.5471 - accuracy: 0.7426 - val_loss: 0.6485 - val_accuracy: 0.6667\n",
            "Epoch 85/100\n",
            "62/62 [==============================] - 0s 2ms/step - loss: 0.5559 - accuracy: 0.7553 - val_loss: 0.6784 - val_accuracy: 0.6504\n",
            "Epoch 86/100\n",
            "62/62 [==============================] - 0s 2ms/step - loss: 0.5919 - accuracy: 0.6815 - val_loss: 0.6363 - val_accuracy: 0.7154\n",
            "Epoch 87/100\n",
            "62/62 [==============================] - 0s 2ms/step - loss: 0.5238 - accuracy: 0.7615 - val_loss: 0.6216 - val_accuracy: 0.6423\n",
            "Epoch 88/100\n",
            "62/62 [==============================] - 0s 3ms/step - loss: 0.5540 - accuracy: 0.7480 - val_loss: 0.5960 - val_accuracy: 0.6911\n",
            "Epoch 89/100\n",
            "62/62 [==============================] - 0s 2ms/step - loss: 0.5807 - accuracy: 0.7125 - val_loss: 0.6764 - val_accuracy: 0.7317\n",
            "Epoch 90/100\n",
            "62/62 [==============================] - 0s 2ms/step - loss: 0.6282 - accuracy: 0.7136 - val_loss: 0.7313 - val_accuracy: 0.6667\n",
            "Epoch 91/100\n",
            "62/62 [==============================] - 0s 2ms/step - loss: 0.6195 - accuracy: 0.7085 - val_loss: 0.5927 - val_accuracy: 0.6748\n",
            "Epoch 92/100\n",
            "62/62 [==============================] - 0s 2ms/step - loss: 0.5102 - accuracy: 0.7740 - val_loss: 0.6180 - val_accuracy: 0.7317\n",
            "Epoch 93/100\n",
            "62/62 [==============================] - 0s 2ms/step - loss: 0.5177 - accuracy: 0.7496 - val_loss: 0.6168 - val_accuracy: 0.7642\n",
            "Epoch 94/100\n",
            "62/62 [==============================] - 0s 2ms/step - loss: 0.5789 - accuracy: 0.7234 - val_loss: 0.6433 - val_accuracy: 0.7236\n",
            "Epoch 95/100\n",
            "62/62 [==============================] - 0s 2ms/step - loss: 0.5723 - accuracy: 0.7185 - val_loss: 0.6523 - val_accuracy: 0.6585\n",
            "Epoch 96/100\n",
            "62/62 [==============================] - 0s 2ms/step - loss: 0.5458 - accuracy: 0.7366 - val_loss: 0.6010 - val_accuracy: 0.7236\n",
            "Epoch 97/100\n",
            "62/62 [==============================] - 0s 2ms/step - loss: 0.5416 - accuracy: 0.7380 - val_loss: 0.6234 - val_accuracy: 0.6911\n",
            "Epoch 98/100\n",
            "62/62 [==============================] - 0s 2ms/step - loss: 0.5636 - accuracy: 0.7346 - val_loss: 0.6330 - val_accuracy: 0.6585\n",
            "Epoch 99/100\n",
            "62/62 [==============================] - 0s 2ms/step - loss: 0.5702 - accuracy: 0.7023 - val_loss: 0.6320 - val_accuracy: 0.6667\n",
            "Epoch 100/100\n",
            "62/62 [==============================] - 0s 2ms/step - loss: 0.5879 - accuracy: 0.7144 - val_loss: 0.7023 - val_accuracy: 0.6016\n"
          ],
          "name": "stdout"
        },
        {
          "output_type": "execute_result",
          "data": {
            "text/plain": [
              "<tensorflow.python.keras.callbacks.History at 0x7f903f2fd350>"
            ]
          },
          "metadata": {
            "tags": []
          },
          "execution_count": 20
        }
      ]
    },
    {
      "cell_type": "code",
      "metadata": {
        "id": "MXcupls2fm9-"
      },
      "source": [
        "model.save(\"firstmodel.h5\")\n",
        "# save the result of training model"
      ],
      "execution_count": null,
      "outputs": []
    },
    {
      "cell_type": "code",
      "metadata": {
        "id": "Gdjsvm5ff282",
        "colab": {
          "base_uri": "https://localhost:8080/",
          "height": 166
        },
        "outputId": "82f5cef8-4dbe-4a45-9ef4-7b3fa06594b6"
      },
      "source": [
        "model = load_model(\"firstmodel.h5\")"
      ],
      "execution_count": null,
      "outputs": [
        {
          "output_type": "error",
          "ename": "NameError",
          "evalue": "ignored",
          "traceback": [
            "\u001b[0;31m---------------------------------------------------------------------------\u001b[0m",
            "\u001b[0;31mNameError\u001b[0m                                 Traceback (most recent call last)",
            "\u001b[0;32m<ipython-input-2-2555150a6946>\u001b[0m in \u001b[0;36m<module>\u001b[0;34m()\u001b[0m\n\u001b[0;32m----> 1\u001b[0;31m \u001b[0mmodel\u001b[0m \u001b[0;34m=\u001b[0m \u001b[0mload_model\u001b[0m\u001b[0;34m(\u001b[0m\u001b[0;34m\"firstmodel.h5\"\u001b[0m\u001b[0;34m)\u001b[0m\u001b[0;34m\u001b[0m\u001b[0;34m\u001b[0m\u001b[0m\n\u001b[0m",
            "\u001b[0;31mNameError\u001b[0m: name 'load_model' is not defined"
          ]
        }
      ]
    },
    {
      "cell_type": "code",
      "metadata": {
        "id": "jKdPx15DgT2A",
        "colab": {
          "base_uri": "https://localhost:8080/"
        },
        "outputId": "dbe815a6-6dc5-4460-bec9-0549751f12dc"
      },
      "source": [
        "loss, acc = model.evaluate(X_test, y_test)"
      ],
      "execution_count": null,
      "outputs": [
        {
          "output_type": "stream",
          "text": [
            "5/5 [==============================] - 0s 2ms/step - loss: 0.5997 - accuracy: 0.6494\n"
          ],
          "name": "stdout"
        }
      ]
    },
    {
      "cell_type": "code",
      "metadata": {
        "colab": {
          "base_uri": "https://localhost:8080/"
        },
        "id": "_8-TeiM25WAK",
        "outputId": "a16cb27b-fb64-477f-8e6d-7699e7534420"
      },
      "source": [
        "print(\"loss: \", loss)\n",
        "print(\"acc: \", acc)"
      ],
      "execution_count": null,
      "outputs": [
        {
          "output_type": "stream",
          "text": [
            "loss:  0.5997392535209656\n",
            "acc:  0.649350643157959\n"
          ],
          "name": "stdout"
        }
      ]
    },
    {
      "cell_type": "code",
      "metadata": {
        "id": "OMWjgjK36Q1N"
      },
      "source": [
        "X_new = X_test[10]\n",
        "# take out the row 11 and assign it to test out"
      ],
      "execution_count": null,
      "outputs": []
    },
    {
      "cell_type": "code",
      "metadata": {
        "id": "1wmD8Zuv6qmK"
      },
      "source": [
        "y_new = y_test[10]\n",
        "# assign the result"
      ],
      "execution_count": null,
      "outputs": []
    },
    {
      "cell_type": "code",
      "metadata": {
        "colab": {
          "base_uri": "https://localhost:8080/"
        },
        "id": "aYAOcnNx6vQC",
        "outputId": "83045290-f926-4a0f-b41a-0f73cb3b272b"
      },
      "source": [
        "X_new = np.expand_dims(X_new, axis = 0)\n",
        "y_predict = model.predict(X_new)\n",
        "result = \"Khong bi benh\"\n",
        "if y_predict >=0.5:\n",
        "  result = \"Bi benh\"\n",
        "print(\"Gia tri du doan theo so: \", y_predict)\n",
        "print(\"Gia tri du doan la: \", result)\n",
        "print(\"Gia tri thuc la: \", y_new)\n"
      ],
      "execution_count": null,
      "outputs": [
        {
          "output_type": "stream",
          "text": [
            "WARNING:tensorflow:Model was constructed with shape (None, 8) for input KerasTensor(type_spec=TensorSpec(shape=(None, 8), dtype=tf.float32, name='dense_input'), name='dense_input', description=\"created by layer 'dense_input'\"), but it was called on an input with incompatible shape (None, 1, 8).\n",
            "Gia tri du doan theo so:  [[[0.36228245]]]\n",
            "Gia tri du doan la:  Khong bi benh\n",
            "Gia tri thuc la:  0.0\n"
          ],
          "name": "stdout"
        }
      ]
    },
    {
      "cell_type": "code",
      "metadata": {
        "colab": {
          "base_uri": "https://localhost:8080/"
        },
        "id": "UdhIZjqSdqkC",
        "outputId": "379334b1-a74d-4b21-a516-f610437365a6"
      },
      "source": [
        "model.summary()"
      ],
      "execution_count": null,
      "outputs": [
        {
          "output_type": "stream",
          "text": [
            "Model: \"sequential\"\n",
            "_________________________________________________________________\n",
            "Layer (type)                 Output Shape              Param #   \n",
            "=================================================================\n",
            "dense (Dense)                (None, 16)                144       \n",
            "_________________________________________________________________\n",
            "dense_1 (Dense)              (None, 8)                 136       \n",
            "_________________________________________________________________\n",
            "dense_2 (Dense)              (None, 1)                 9         \n",
            "=================================================================\n",
            "Total params: 289\n",
            "Trainable params: 289\n",
            "Non-trainable params: 0\n",
            "_________________________________________________________________\n"
          ],
          "name": "stdout"
        }
      ]
    }
  ]
}